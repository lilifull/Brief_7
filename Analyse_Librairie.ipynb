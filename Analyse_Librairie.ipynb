{
 "cells": [
  {
   "cell_type": "markdown",
   "id": "cc517c9a",
   "metadata": {},
   "source": [
    "# Analyse des données issues des ventes en ligne de l'entreprise "
   ]
  },
  {
   "cell_type": "code",
   "execution_count": 3,
   "id": "cc2a2c91",
   "metadata": {},
   "outputs": [],
   "source": [
    "#importation des librairies \n",
    "import pandas as pd\n",
    "import numpy as np\n",
    "import sklearn as sk\n",
    "import matplotlib as plt"
   ]
  },
  {
   "cell_type": "markdown",
   "id": "45bd2f3e",
   "metadata": {},
   "source": [
    "Mission n° 1 : Nettoyage des données "
   ]
  },
  {
   "cell_type": "code",
   "execution_count": null,
   "id": "03952e33",
   "metadata": {},
   "outputs": [],
   "source": []
  },
  {
   "cell_type": "code",
   "execution_count": null,
   "id": "082846f8",
   "metadata": {},
   "outputs": [],
   "source": []
  },
  {
   "cell_type": "code",
   "execution_count": null,
   "id": "c3ebaad9",
   "metadata": {},
   "outputs": [],
   "source": []
  },
  {
   "cell_type": "code",
   "execution_count": null,
   "id": "86760a65",
   "metadata": {},
   "outputs": [],
   "source": []
  },
  {
   "cell_type": "code",
   "execution_count": null,
   "id": "dae80a0f",
   "metadata": {},
   "outputs": [],
   "source": []
  },
  {
   "cell_type": "code",
   "execution_count": null,
   "id": "a7b2f84a",
   "metadata": {},
   "outputs": [],
   "source": []
  },
  {
   "cell_type": "code",
   "execution_count": null,
   "id": "b2a76f47",
   "metadata": {},
   "outputs": [],
   "source": []
  },
  {
   "cell_type": "markdown",
   "id": "f6db228d",
   "metadata": {},
   "source": [
    "Mission n° 2 : Analyses des données "
   ]
  },
  {
   "cell_type": "code",
   "execution_count": null,
   "id": "507c0508",
   "metadata": {},
   "outputs": [],
   "source": []
  },
  {
   "cell_type": "markdown",
   "id": "5fb9b0b1",
   "metadata": {},
   "source": [
    "Mission n° 3 : Corrélations"
   ]
  },
  {
   "cell_type": "code",
   "execution_count": null,
   "id": "fa28f226",
   "metadata": {},
   "outputs": [],
   "source": []
  }
 ],
 "metadata": {
  "kernelspec": {
   "display_name": "Python 3 (ipykernel)",
   "language": "python",
   "name": "python3"
  },
  "language_info": {
   "codemirror_mode": {
    "name": "ipython",
    "version": 3
   },
   "file_extension": ".py",
   "mimetype": "text/x-python",
   "name": "python",
   "nbconvert_exporter": "python",
   "pygments_lexer": "ipython3",
   "version": "3.9.12"
  }
 },
 "nbformat": 4,
 "nbformat_minor": 5
}
