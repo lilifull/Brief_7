{
 "cells": [
  {
   "cell_type": "markdown",
   "id": "e96ab440",
   "metadata": {},
   "source": [
    "# Analyse des données issues des ventes en ligne de l'entreprise "
   ]
  },
  {
   "cell_type": "code",
   "execution_count": 274,
   "id": "3661d555",
   "metadata": {},
   "outputs": [],
   "source": [
    "# importation des librairies\n",
    "import pandas as pd\n",
    "import numpy as np\n",
    "import sklearn as sk\n",
    "import matplotlib.pyplot as plt\n",
    "import locale\n",
    "from sklearn.impute import SimpleImputer\n",
    "import seaborn as sns"
   ]
  },
  {
   "cell_type": "code",
   "execution_count": 216,
   "id": "c3ac5737",
   "metadata": {},
   "outputs": [],
   "source": [
    "# lecture des fichiers csv\n",
    "df_vente = pd.read_csv(\"ventes.csv\")\n",
    "df_client = pd.read_csv(\"clients.csv\")\n",
    "df_produit = pd.read_csv(\"produits.csv\")"
   ]
  },
  {
   "cell_type": "code",
   "execution_count": 217,
   "id": "efd7bf6e",
   "metadata": {},
   "outputs": [],
   "source": [
    "# exploration des données grâce à .info() et .head()\n"
   ]
  },
  {
   "cell_type": "code",
   "execution_count": 218,
   "id": "07a52013",
   "metadata": {},
   "outputs": [
    {
     "name": "stdout",
     "output_type": "stream",
     "text": [
      "<class 'pandas.core.frame.DataFrame'>\n",
      "RangeIndex: 337016 entries, 0 to 337015\n",
      "Data columns (total 4 columns):\n",
      " #   Column      Non-Null Count   Dtype \n",
      "---  ------      --------------   ----- \n",
      " 0   id_prod     337016 non-null  object\n",
      " 1   date        337016 non-null  object\n",
      " 2   session_id  337016 non-null  object\n",
      " 3   client_id   337016 non-null  object\n",
      "dtypes: object(4)\n",
      "memory usage: 10.3+ MB\n"
     ]
    }
   ],
   "source": [
    "df_vente.info()\n"
   ]
  },
  {
   "cell_type": "code",
   "execution_count": 219,
   "id": "9b81df8c",
   "metadata": {},
   "outputs": [
    {
     "data": {
      "text/html": [
       "<div>\n",
       "<style scoped>\n",
       "    .dataframe tbody tr th:only-of-type {\n",
       "        vertical-align: middle;\n",
       "    }\n",
       "\n",
       "    .dataframe tbody tr th {\n",
       "        vertical-align: top;\n",
       "    }\n",
       "\n",
       "    .dataframe thead th {\n",
       "        text-align: right;\n",
       "    }\n",
       "</style>\n",
       "<table border=\"1\" class=\"dataframe\">\n",
       "  <thead>\n",
       "    <tr style=\"text-align: right;\">\n",
       "      <th></th>\n",
       "      <th>id_prod</th>\n",
       "      <th>date</th>\n",
       "      <th>session_id</th>\n",
       "      <th>client_id</th>\n",
       "    </tr>\n",
       "  </thead>\n",
       "  <tbody>\n",
       "    <tr>\n",
       "      <th>0</th>\n",
       "      <td>0_1483</td>\n",
       "      <td>2021-04-10 18:37:28.723910</td>\n",
       "      <td>s_18746</td>\n",
       "      <td>c_4450</td>\n",
       "    </tr>\n",
       "    <tr>\n",
       "      <th>1</th>\n",
       "      <td>2_226</td>\n",
       "      <td>2022-02-03 01:55:53.276402</td>\n",
       "      <td>s_159142</td>\n",
       "      <td>c_277</td>\n",
       "    </tr>\n",
       "    <tr>\n",
       "      <th>2</th>\n",
       "      <td>1_374</td>\n",
       "      <td>2021-09-23 15:13:46.938559</td>\n",
       "      <td>s_94290</td>\n",
       "      <td>c_4270</td>\n",
       "    </tr>\n",
       "    <tr>\n",
       "      <th>3</th>\n",
       "      <td>0_2186</td>\n",
       "      <td>2021-10-17 03:27:18.783634</td>\n",
       "      <td>s_105936</td>\n",
       "      <td>c_4597</td>\n",
       "    </tr>\n",
       "    <tr>\n",
       "      <th>4</th>\n",
       "      <td>0_1351</td>\n",
       "      <td>2021-07-17 20:34:25.800563</td>\n",
       "      <td>s_63642</td>\n",
       "      <td>c_1242</td>\n",
       "    </tr>\n",
       "  </tbody>\n",
       "</table>\n",
       "</div>"
      ],
      "text/plain": [
       "  id_prod                        date session_id client_id\n",
       "0  0_1483  2021-04-10 18:37:28.723910    s_18746    c_4450\n",
       "1   2_226  2022-02-03 01:55:53.276402   s_159142     c_277\n",
       "2   1_374  2021-09-23 15:13:46.938559    s_94290    c_4270\n",
       "3  0_2186  2021-10-17 03:27:18.783634   s_105936    c_4597\n",
       "4  0_1351  2021-07-17 20:34:25.800563    s_63642    c_1242"
      ]
     },
     "execution_count": 219,
     "metadata": {},
     "output_type": "execute_result"
    }
   ],
   "source": [
    "df_vente.head()\n"
   ]
  },
  {
   "cell_type": "code",
   "execution_count": null,
   "id": "844d21a5",
   "metadata": {},
   "outputs": [],
   "source": []
  },
  {
   "cell_type": "code",
   "execution_count": 220,
   "id": "fcf72d98",
   "metadata": {},
   "outputs": [
    {
     "name": "stdout",
     "output_type": "stream",
     "text": [
      "<class 'pandas.core.frame.DataFrame'>\n",
      "RangeIndex: 8623 entries, 0 to 8622\n",
      "Data columns (total 3 columns):\n",
      " #   Column     Non-Null Count  Dtype \n",
      "---  ------     --------------  ----- \n",
      " 0   client_id  8623 non-null   object\n",
      " 1   sex        8623 non-null   object\n",
      " 2   birth      8623 non-null   int64 \n",
      "dtypes: int64(1), object(2)\n",
      "memory usage: 202.2+ KB\n"
     ]
    }
   ],
   "source": [
    "df_client.info()\n"
   ]
  },
  {
   "cell_type": "code",
   "execution_count": 221,
   "id": "abd637be",
   "metadata": {},
   "outputs": [
    {
     "data": {
      "text/html": [
       "<div>\n",
       "<style scoped>\n",
       "    .dataframe tbody tr th:only-of-type {\n",
       "        vertical-align: middle;\n",
       "    }\n",
       "\n",
       "    .dataframe tbody tr th {\n",
       "        vertical-align: top;\n",
       "    }\n",
       "\n",
       "    .dataframe thead th {\n",
       "        text-align: right;\n",
       "    }\n",
       "</style>\n",
       "<table border=\"1\" class=\"dataframe\">\n",
       "  <thead>\n",
       "    <tr style=\"text-align: right;\">\n",
       "      <th></th>\n",
       "      <th>client_id</th>\n",
       "      <th>sex</th>\n",
       "      <th>birth</th>\n",
       "    </tr>\n",
       "  </thead>\n",
       "  <tbody>\n",
       "    <tr>\n",
       "      <th>0</th>\n",
       "      <td>c_4410</td>\n",
       "      <td>f</td>\n",
       "      <td>1967</td>\n",
       "    </tr>\n",
       "    <tr>\n",
       "      <th>1</th>\n",
       "      <td>c_7839</td>\n",
       "      <td>f</td>\n",
       "      <td>1975</td>\n",
       "    </tr>\n",
       "    <tr>\n",
       "      <th>2</th>\n",
       "      <td>c_1699</td>\n",
       "      <td>f</td>\n",
       "      <td>1984</td>\n",
       "    </tr>\n",
       "    <tr>\n",
       "      <th>3</th>\n",
       "      <td>c_5961</td>\n",
       "      <td>f</td>\n",
       "      <td>1962</td>\n",
       "    </tr>\n",
       "    <tr>\n",
       "      <th>4</th>\n",
       "      <td>c_5320</td>\n",
       "      <td>m</td>\n",
       "      <td>1943</td>\n",
       "    </tr>\n",
       "  </tbody>\n",
       "</table>\n",
       "</div>"
      ],
      "text/plain": [
       "  client_id sex  birth\n",
       "0    c_4410   f   1967\n",
       "1    c_7839   f   1975\n",
       "2    c_1699   f   1984\n",
       "3    c_5961   f   1962\n",
       "4    c_5320   m   1943"
      ]
     },
     "execution_count": 221,
     "metadata": {},
     "output_type": "execute_result"
    }
   ],
   "source": [
    "df_client.head(5)\n"
   ]
  },
  {
   "cell_type": "code",
   "execution_count": 222,
   "id": "42e6c4cf",
   "metadata": {},
   "outputs": [
    {
     "name": "stdout",
     "output_type": "stream",
     "text": [
      "<class 'pandas.core.frame.DataFrame'>\n",
      "RangeIndex: 3287 entries, 0 to 3286\n",
      "Data columns (total 3 columns):\n",
      " #   Column   Non-Null Count  Dtype  \n",
      "---  ------   --------------  -----  \n",
      " 0   id_prod  3287 non-null   object \n",
      " 1   price    3287 non-null   float64\n",
      " 2   categ    3287 non-null   int64  \n",
      "dtypes: float64(1), int64(1), object(1)\n",
      "memory usage: 77.2+ KB\n"
     ]
    }
   ],
   "source": [
    "df_produit.info()\n"
   ]
  },
  {
   "cell_type": "code",
   "execution_count": 223,
   "id": "1cb09352",
   "metadata": {},
   "outputs": [
    {
     "data": {
      "text/html": [
       "<div>\n",
       "<style scoped>\n",
       "    .dataframe tbody tr th:only-of-type {\n",
       "        vertical-align: middle;\n",
       "    }\n",
       "\n",
       "    .dataframe tbody tr th {\n",
       "        vertical-align: top;\n",
       "    }\n",
       "\n",
       "    .dataframe thead th {\n",
       "        text-align: right;\n",
       "    }\n",
       "</style>\n",
       "<table border=\"1\" class=\"dataframe\">\n",
       "  <thead>\n",
       "    <tr style=\"text-align: right;\">\n",
       "      <th></th>\n",
       "      <th>id_prod</th>\n",
       "      <th>price</th>\n",
       "      <th>categ</th>\n",
       "    </tr>\n",
       "  </thead>\n",
       "  <tbody>\n",
       "    <tr>\n",
       "      <th>0</th>\n",
       "      <td>0_1421</td>\n",
       "      <td>19.99</td>\n",
       "      <td>0</td>\n",
       "    </tr>\n",
       "    <tr>\n",
       "      <th>1</th>\n",
       "      <td>0_1368</td>\n",
       "      <td>5.13</td>\n",
       "      <td>0</td>\n",
       "    </tr>\n",
       "    <tr>\n",
       "      <th>2</th>\n",
       "      <td>0_731</td>\n",
       "      <td>17.99</td>\n",
       "      <td>0</td>\n",
       "    </tr>\n",
       "    <tr>\n",
       "      <th>3</th>\n",
       "      <td>1_587</td>\n",
       "      <td>4.99</td>\n",
       "      <td>1</td>\n",
       "    </tr>\n",
       "    <tr>\n",
       "      <th>4</th>\n",
       "      <td>0_1507</td>\n",
       "      <td>3.99</td>\n",
       "      <td>0</td>\n",
       "    </tr>\n",
       "  </tbody>\n",
       "</table>\n",
       "</div>"
      ],
      "text/plain": [
       "  id_prod  price  categ\n",
       "0  0_1421  19.99      0\n",
       "1  0_1368   5.13      0\n",
       "2   0_731  17.99      0\n",
       "3   1_587   4.99      1\n",
       "4  0_1507   3.99      0"
      ]
     },
     "execution_count": 223,
     "metadata": {},
     "output_type": "execute_result"
    }
   ],
   "source": [
    "df_produit.head()\n"
   ]
  },
  {
   "cell_type": "markdown",
   "id": "7d3bcda0",
   "metadata": {},
   "source": [
    "# Mission n° 1 : Nettoyage des données "
   ]
  },
  {
   "cell_type": "markdown",
   "id": "b49ee742",
   "metadata": {},
   "source": [
    "## Valeurs manquantes : "
   ]
  },
  {
   "cell_type": "code",
   "execution_count": 224,
   "id": "b78d122a",
   "metadata": {},
   "outputs": [
    {
     "data": {
      "text/plain": [
       "id_prod       0\n",
       "date          0\n",
       "session_id    0\n",
       "client_id     0\n",
       "dtype: int64"
      ]
     },
     "execution_count": 224,
     "metadata": {},
     "output_type": "execute_result"
    }
   ],
   "source": [
    "df_vente.isnull().sum()\n"
   ]
  },
  {
   "cell_type": "code",
   "execution_count": 225,
   "id": "a7e4d953",
   "metadata": {},
   "outputs": [
    {
     "data": {
      "text/plain": [
       "client_id    0\n",
       "sex          0\n",
       "birth        0\n",
       "dtype: int64"
      ]
     },
     "execution_count": 225,
     "metadata": {},
     "output_type": "execute_result"
    }
   ],
   "source": [
    "df_client.isnull().sum()\n"
   ]
  },
  {
   "cell_type": "code",
   "execution_count": 226,
   "id": "3c9fdac7",
   "metadata": {},
   "outputs": [
    {
     "data": {
      "text/plain": [
       "id_prod    0\n",
       "price      0\n",
       "categ      0\n",
       "dtype: int64"
      ]
     },
     "execution_count": 226,
     "metadata": {},
     "output_type": "execute_result"
    }
   ],
   "source": [
    "df_produit.isnull().sum()\n"
   ]
  },
  {
   "cell_type": "markdown",
   "id": "c4bc1b85",
   "metadata": {},
   "source": [
    "Il n'y a pas de valeurs manquantes dans ces 3 fichiers."
   ]
  },
  {
   "cell_type": "markdown",
   "id": "ac1dfed0",
   "metadata": {},
   "source": [
    "## Duplicates : "
   ]
  },
  {
   "cell_type": "code",
   "execution_count": 227,
   "id": "fb6c9199",
   "metadata": {},
   "outputs": [
    {
     "data": {
      "text/plain": [
       "False    8623\n",
       "dtype: int64"
      ]
     },
     "execution_count": 227,
     "metadata": {},
     "output_type": "execute_result"
    }
   ],
   "source": [
    "df_client.duplicated(\"client_id\").value_counts()"
   ]
  },
  {
   "cell_type": "code",
   "execution_count": 228,
   "id": "6e942b05",
   "metadata": {},
   "outputs": [
    {
     "data": {
      "text/plain": [
       "False    3287\n",
       "dtype: int64"
      ]
     },
     "execution_count": 228,
     "metadata": {},
     "output_type": "execute_result"
    }
   ],
   "source": [
    "df_produit.duplicated(\"id_prod\").value_counts()"
   ]
  },
  {
   "cell_type": "code",
   "execution_count": 229,
   "id": "fa7752cc",
   "metadata": {},
   "outputs": [
    {
     "data": {
      "text/plain": [
       "False    336890\n",
       "True        126\n",
       "dtype: int64"
      ]
     },
     "execution_count": 229,
     "metadata": {},
     "output_type": "execute_result"
    }
   ],
   "source": [
    "# On remarque qu'il y a des duplicates dans ce dataframe\n",
    "df_vente.duplicated(subset=None).value_counts()\n"
   ]
  },
  {
   "cell_type": "code",
   "execution_count": 230,
   "id": "6f322748",
   "metadata": {},
   "outputs": [
    {
     "data": {
      "text/html": [
       "<div>\n",
       "<style scoped>\n",
       "    .dataframe tbody tr th:only-of-type {\n",
       "        vertical-align: middle;\n",
       "    }\n",
       "\n",
       "    .dataframe tbody tr th {\n",
       "        vertical-align: top;\n",
       "    }\n",
       "\n",
       "    .dataframe thead th {\n",
       "        text-align: right;\n",
       "    }\n",
       "</style>\n",
       "<table border=\"1\" class=\"dataframe\">\n",
       "  <thead>\n",
       "    <tr style=\"text-align: right;\">\n",
       "      <th></th>\n",
       "      <th>id_prod</th>\n",
       "      <th>date</th>\n",
       "      <th>session_id</th>\n",
       "      <th>client_id</th>\n",
       "    </tr>\n",
       "  </thead>\n",
       "  <tbody>\n",
       "    <tr>\n",
       "      <th>27161</th>\n",
       "      <td>T_0</td>\n",
       "      <td>test_2021-03-01 02:30:02.237434</td>\n",
       "      <td>s_0</td>\n",
       "      <td>ct_0</td>\n",
       "    </tr>\n",
       "    <tr>\n",
       "      <th>34387</th>\n",
       "      <td>T_0</td>\n",
       "      <td>test_2021-03-01 02:30:02.237443</td>\n",
       "      <td>s_0</td>\n",
       "      <td>ct_0</td>\n",
       "    </tr>\n",
       "    <tr>\n",
       "      <th>48425</th>\n",
       "      <td>T_0</td>\n",
       "      <td>test_2021-03-01 02:30:02.237443</td>\n",
       "      <td>s_0</td>\n",
       "      <td>ct_1</td>\n",
       "    </tr>\n",
       "    <tr>\n",
       "      <th>54813</th>\n",
       "      <td>T_0</td>\n",
       "      <td>test_2021-03-01 02:30:02.237412</td>\n",
       "      <td>s_0</td>\n",
       "      <td>ct_1</td>\n",
       "    </tr>\n",
       "    <tr>\n",
       "      <th>56373</th>\n",
       "      <td>T_0</td>\n",
       "      <td>test_2021-03-01 02:30:02.237446</td>\n",
       "      <td>s_0</td>\n",
       "      <td>ct_0</td>\n",
       "    </tr>\n",
       "  </tbody>\n",
       "</table>\n",
       "</div>"
      ],
      "text/plain": [
       "      id_prod                             date session_id client_id\n",
       "27161     T_0  test_2021-03-01 02:30:02.237434        s_0      ct_0\n",
       "34387     T_0  test_2021-03-01 02:30:02.237443        s_0      ct_0\n",
       "48425     T_0  test_2021-03-01 02:30:02.237443        s_0      ct_1\n",
       "54813     T_0  test_2021-03-01 02:30:02.237412        s_0      ct_1\n",
       "56373     T_0  test_2021-03-01 02:30:02.237446        s_0      ct_0"
      ]
     },
     "execution_count": 230,
     "metadata": {},
     "output_type": "execute_result"
    }
   ],
   "source": [
    "# Visualisation des duplicates pour mieux les comprendres et savoir si on doit supprimer les lignes\n",
    "df_vente.sort_values(\"date\")\n",
    "bool_series = df_vente[\"date\"].duplicated()\n",
    "df_vente[bool_series].head(5)\n"
   ]
  },
  {
   "cell_type": "code",
   "execution_count": 231,
   "id": "9c8c47c3",
   "metadata": {},
   "outputs": [
    {
     "data": {
      "text/html": [
       "<div>\n",
       "<style scoped>\n",
       "    .dataframe tbody tr th:only-of-type {\n",
       "        vertical-align: middle;\n",
       "    }\n",
       "\n",
       "    .dataframe tbody tr th {\n",
       "        vertical-align: top;\n",
       "    }\n",
       "\n",
       "    .dataframe thead th {\n",
       "        text-align: right;\n",
       "    }\n",
       "</style>\n",
       "<table border=\"1\" class=\"dataframe\">\n",
       "  <thead>\n",
       "    <tr style=\"text-align: right;\">\n",
       "      <th></th>\n",
       "      <th>id_prod</th>\n",
       "      <th>price</th>\n",
       "      <th>categ</th>\n",
       "    </tr>\n",
       "  </thead>\n",
       "  <tbody>\n",
       "    <tr>\n",
       "      <th>731</th>\n",
       "      <td>T_0</td>\n",
       "      <td>-1.0</td>\n",
       "      <td>0</td>\n",
       "    </tr>\n",
       "  </tbody>\n",
       "</table>\n",
       "</div>"
      ],
      "text/plain": [
       "    id_prod  price  categ\n",
       "731     T_0   -1.0      0"
      ]
     },
     "execution_count": 231,
     "metadata": {},
     "output_type": "execute_result"
    }
   ],
   "source": [
    "# Visualisation du produit T_0 dans la dataframe produit\n",
    "df_produit.loc[df_produit[\"id_prod\"] == \"T_0\"]"
   ]
  },
  {
   "cell_type": "code",
   "execution_count": 232,
   "id": "7e113e32",
   "metadata": {},
   "outputs": [],
   "source": [
    "# Les duplicates de la dataframe df_vente, sont des tests effectués le 2021-03-01, ils ne sont pas intéréssant pour nos statistiques de vente, on peut donc les supprimer\n",
    "df_vente.drop(df_vente.index[df_vente[\"id_prod\"] == \"T_0\"], inplace=True)"
   ]
  },
  {
   "cell_type": "code",
   "execution_count": 233,
   "id": "c1810438",
   "metadata": {
    "scrolled": false
   },
   "outputs": [
    {
     "data": {
      "text/plain": [
       "False    336816\n",
       "dtype: int64"
      ]
     },
     "execution_count": 233,
     "metadata": {},
     "output_type": "execute_result"
    }
   ],
   "source": [
    "# Vérification de la disparition des duplicates\n",
    "df_vente.duplicated(subset=None).value_counts()\n"
   ]
  },
  {
   "cell_type": "markdown",
   "id": "62f2bacf",
   "metadata": {},
   "source": [
    "## Outliers"
   ]
  },
  {
   "cell_type": "code",
   "execution_count": 234,
   "id": "5fce4c5d",
   "metadata": {},
   "outputs": [],
   "source": [
    "# On supprime les produits qui ont une valeurs négatives (le fameux T_0)\n",
    "df_produit.drop(df_produit.index[df_produit[\"price\"] < 0], inplace=True)"
   ]
  },
  {
   "cell_type": "code",
   "execution_count": 235,
   "id": "7ef69268",
   "metadata": {},
   "outputs": [
    {
     "data": {
      "text/plain": [
       "f    4491\n",
       "m    4132\n",
       "Name: sex, dtype: int64"
      ]
     },
     "execution_count": 235,
     "metadata": {},
     "output_type": "execute_result"
    }
   ],
   "source": [
    "# Vérification qu'il n'y ai pas de valeurs abbérantes pour le sexe, on doit obtenir just f ou m.\n",
    "df_client.sex.value_counts()\n"
   ]
  },
  {
   "cell_type": "code",
   "execution_count": 339,
   "id": "7a2abcca",
   "metadata": {},
   "outputs": [
    {
     "data": {
      "image/png": "[encoded data removed]",
      "text/plain": [
       "<Figure size 432x288 with 1 Axes>"
      ]
     },
     "metadata": {
      "needs_background": "light"
     },
     "output_type": "display_data"
    }
   ],
   "source": [
    "# Vérification visuelle de valeurs abérantes pour les années de naissances\n",
    "df_client[[\"birth\"]].boxplot()\n",
    "plt.savefig(\"Boxplot années de naissance\", dpi=300)\n"
   ]
  },
  {
   "cell_type": "code",
   "execution_count": 340,
   "id": "b1abb7ca",
   "metadata": {},
   "outputs": [
    {
     "data": {
      "image/png": "[encoded data removed]",
      "text/plain": [
       "<Figure size 432x288 with 1 Axes>"
      ]
     },
     "metadata": {
      "needs_background": "light"
     },
     "output_type": "display_data"
    }
   ],
   "source": [
    "# Vérification visuelle de valeurs abérantes pour les prix\n",
    "df_produit[[\"price\"]].boxplot()\n",
    "plt.savefig(\"Boxplot prix\", dpi=300)\n"
   ]
  },
  {
   "cell_type": "markdown",
   "id": "4faca3df",
   "metadata": {},
   "source": [
    "## Jonction des tables "
   ]
  },
  {
   "cell_type": "code",
   "execution_count": 238,
   "id": "cc21e742",
   "metadata": {},
   "outputs": [],
   "source": [
    "# On peut maintenant joindre nos tables produit et client sur la table vente pour augmenter les informations sur les ventes\n",
    "df_vente_produit = df_vente.merge(df_produit, how=\"left\")"
   ]
  },
  {
   "cell_type": "code",
   "execution_count": 239,
   "id": "f6e21706",
   "metadata": {},
   "outputs": [
    {
     "data": {
      "text/html": [
       "<div>\n",
       "<style scoped>\n",
       "    .dataframe tbody tr th:only-of-type {\n",
       "        vertical-align: middle;\n",
       "    }\n",
       "\n",
       "    .dataframe tbody tr th {\n",
       "        vertical-align: top;\n",
       "    }\n",
       "\n",
       "    .dataframe thead th {\n",
       "        text-align: right;\n",
       "    }\n",
       "</style>\n",
       "<table border=\"1\" class=\"dataframe\">\n",
       "  <thead>\n",
       "    <tr style=\"text-align: right;\">\n",
       "      <th></th>\n",
       "      <th>id_prod</th>\n",
       "      <th>date</th>\n",
       "      <th>session_id</th>\n",
       "      <th>client_id</th>\n",
       "      <th>price</th>\n",
       "      <th>categ</th>\n",
       "    </tr>\n",
       "  </thead>\n",
       "  <tbody>\n",
       "    <tr>\n",
       "      <th>0</th>\n",
       "      <td>0_1483</td>\n",
       "      <td>2021-04-10 18:37:28.723910</td>\n",
       "      <td>s_18746</td>\n",
       "      <td>c_4450</td>\n",
       "      <td>4.99</td>\n",
       "      <td>0.0</td>\n",
       "    </tr>\n",
       "    <tr>\n",
       "      <th>1</th>\n",
       "      <td>2_226</td>\n",
       "      <td>2022-02-03 01:55:53.276402</td>\n",
       "      <td>s_159142</td>\n",
       "      <td>c_277</td>\n",
       "      <td>65.75</td>\n",
       "      <td>2.0</td>\n",
       "    </tr>\n",
       "    <tr>\n",
       "      <th>2</th>\n",
       "      <td>1_374</td>\n",
       "      <td>2021-09-23 15:13:46.938559</td>\n",
       "      <td>s_94290</td>\n",
       "      <td>c_4270</td>\n",
       "      <td>10.71</td>\n",
       "      <td>1.0</td>\n",
       "    </tr>\n",
       "    <tr>\n",
       "      <th>3</th>\n",
       "      <td>0_2186</td>\n",
       "      <td>2021-10-17 03:27:18.783634</td>\n",
       "      <td>s_105936</td>\n",
       "      <td>c_4597</td>\n",
       "      <td>4.20</td>\n",
       "      <td>0.0</td>\n",
       "    </tr>\n",
       "    <tr>\n",
       "      <th>4</th>\n",
       "      <td>0_1351</td>\n",
       "      <td>2021-07-17 20:34:25.800563</td>\n",
       "      <td>s_63642</td>\n",
       "      <td>c_1242</td>\n",
       "      <td>8.99</td>\n",
       "      <td>0.0</td>\n",
       "    </tr>\n",
       "    <tr>\n",
       "      <th>...</th>\n",
       "      <td>...</td>\n",
       "      <td>...</td>\n",
       "      <td>...</td>\n",
       "      <td>...</td>\n",
       "      <td>...</td>\n",
       "      <td>...</td>\n",
       "    </tr>\n",
       "    <tr>\n",
       "      <th>336811</th>\n",
       "      <td>1_671</td>\n",
       "      <td>2021-05-28 12:35:46.214839</td>\n",
       "      <td>s_40720</td>\n",
       "      <td>c_3454</td>\n",
       "      <td>31.99</td>\n",
       "      <td>1.0</td>\n",
       "    </tr>\n",
       "    <tr>\n",
       "      <th>336812</th>\n",
       "      <td>0_759</td>\n",
       "      <td>2021-06-19 00:19:23.917703</td>\n",
       "      <td>s_50568</td>\n",
       "      <td>c_6268</td>\n",
       "      <td>22.99</td>\n",
       "      <td>0.0</td>\n",
       "    </tr>\n",
       "    <tr>\n",
       "      <th>336813</th>\n",
       "      <td>0_1256</td>\n",
       "      <td>2021-03-16 17:31:59.442007</td>\n",
       "      <td>s_7219</td>\n",
       "      <td>c_4137</td>\n",
       "      <td>11.03</td>\n",
       "      <td>0.0</td>\n",
       "    </tr>\n",
       "    <tr>\n",
       "      <th>336814</th>\n",
       "      <td>2_227</td>\n",
       "      <td>2021-10-30 16:50:15.997750</td>\n",
       "      <td>s_112349</td>\n",
       "      <td>c_5</td>\n",
       "      <td>50.99</td>\n",
       "      <td>2.0</td>\n",
       "    </tr>\n",
       "    <tr>\n",
       "      <th>336815</th>\n",
       "      <td>0_1417</td>\n",
       "      <td>2021-06-26 14:38:19.732946</td>\n",
       "      <td>s_54117</td>\n",
       "      <td>c_6714</td>\n",
       "      <td>17.99</td>\n",
       "      <td>0.0</td>\n",
       "    </tr>\n",
       "  </tbody>\n",
       "</table>\n",
       "<p>336816 rows × 6 columns</p>\n",
       "</div>"
      ],
      "text/plain": [
       "       id_prod                        date session_id client_id  price  categ\n",
       "0       0_1483  2021-04-10 18:37:28.723910    s_18746    c_4450   4.99    0.0\n",
       "1        2_226  2022-02-03 01:55:53.276402   s_159142     c_277  65.75    2.0\n",
       "2        1_374  2021-09-23 15:13:46.938559    s_94290    c_4270  10.71    1.0\n",
       "3       0_2186  2021-10-17 03:27:18.783634   s_105936    c_4597   4.20    0.0\n",
       "4       0_1351  2021-07-17 20:34:25.800563    s_63642    c_1242   8.99    0.0\n",
       "...        ...                         ...        ...       ...    ...    ...\n",
       "336811   1_671  2021-05-28 12:35:46.214839    s_40720    c_3454  31.99    1.0\n",
       "336812   0_759  2021-06-19 00:19:23.917703    s_50568    c_6268  22.99    0.0\n",
       "336813  0_1256  2021-03-16 17:31:59.442007     s_7219    c_4137  11.03    0.0\n",
       "336814   2_227  2021-10-30 16:50:15.997750   s_112349       c_5  50.99    2.0\n",
       "336815  0_1417  2021-06-26 14:38:19.732946    s_54117    c_6714  17.99    0.0\n",
       "\n",
       "[336816 rows x 6 columns]"
      ]
     },
     "execution_count": 239,
     "metadata": {},
     "output_type": "execute_result"
    }
   ],
   "source": [
    "df_vente_produit\n"
   ]
  },
  {
   "cell_type": "code",
   "execution_count": 240,
   "id": "943f28af",
   "metadata": {},
   "outputs": [],
   "source": [
    "df_all = df_vente_produit.merge(df_client, how=\"left\")"
   ]
  },
  {
   "cell_type": "markdown",
   "id": "6598ba59",
   "metadata": {},
   "source": [
    "## Gestion des valeurs NaN après jonction"
   ]
  },
  {
   "cell_type": "code",
   "execution_count": 241,
   "id": "1e5c9fca",
   "metadata": {},
   "outputs": [
    {
     "data": {
      "text/html": [
       "<div>\n",
       "<style scoped>\n",
       "    .dataframe tbody tr th:only-of-type {\n",
       "        vertical-align: middle;\n",
       "    }\n",
       "\n",
       "    .dataframe tbody tr th {\n",
       "        vertical-align: top;\n",
       "    }\n",
       "\n",
       "    .dataframe thead th {\n",
       "        text-align: right;\n",
       "    }\n",
       "</style>\n",
       "<table border=\"1\" class=\"dataframe\">\n",
       "  <thead>\n",
       "    <tr style=\"text-align: right;\">\n",
       "      <th></th>\n",
       "      <th>id_prod</th>\n",
       "      <th>date</th>\n",
       "      <th>session_id</th>\n",
       "      <th>client_id</th>\n",
       "      <th>price</th>\n",
       "      <th>categ</th>\n",
       "      <th>sex</th>\n",
       "      <th>birth</th>\n",
       "    </tr>\n",
       "  </thead>\n",
       "  <tbody>\n",
       "    <tr>\n",
       "      <th>6231</th>\n",
       "      <td>0_2245</td>\n",
       "      <td>2021-06-17 03:03:12.668129</td>\n",
       "      <td>s_49705</td>\n",
       "      <td>c_1533</td>\n",
       "      <td>NaN</td>\n",
       "      <td>NaN</td>\n",
       "      <td>m</td>\n",
       "      <td>1972</td>\n",
       "    </tr>\n",
       "    <tr>\n",
       "      <th>10797</th>\n",
       "      <td>0_2245</td>\n",
       "      <td>2021-06-16 05:53:01.627491</td>\n",
       "      <td>s_49323</td>\n",
       "      <td>c_7954</td>\n",
       "      <td>NaN</td>\n",
       "      <td>NaN</td>\n",
       "      <td>m</td>\n",
       "      <td>1973</td>\n",
       "    </tr>\n",
       "    <tr>\n",
       "      <th>14045</th>\n",
       "      <td>0_2245</td>\n",
       "      <td>2021-11-24 17:35:59.911427</td>\n",
       "      <td>s_124474</td>\n",
       "      <td>c_5120</td>\n",
       "      <td>NaN</td>\n",
       "      <td>NaN</td>\n",
       "      <td>f</td>\n",
       "      <td>1975</td>\n",
       "    </tr>\n",
       "    <tr>\n",
       "      <th>17480</th>\n",
       "      <td>0_2245</td>\n",
       "      <td>2022-02-28 18:08:49.875709</td>\n",
       "      <td>s_172304</td>\n",
       "      <td>c_4964</td>\n",
       "      <td>NaN</td>\n",
       "      <td>NaN</td>\n",
       "      <td>f</td>\n",
       "      <td>1982</td>\n",
       "    </tr>\n",
       "    <tr>\n",
       "      <th>21071</th>\n",
       "      <td>0_2245</td>\n",
       "      <td>2021-03-01 00:09:29.301897</td>\n",
       "      <td>s_3</td>\n",
       "      <td>c_580</td>\n",
       "      <td>NaN</td>\n",
       "      <td>NaN</td>\n",
       "      <td>m</td>\n",
       "      <td>1988</td>\n",
       "    </tr>\n",
       "    <tr>\n",
       "      <th>...</th>\n",
       "      <td>...</td>\n",
       "      <td>...</td>\n",
       "      <td>...</td>\n",
       "      <td>...</td>\n",
       "      <td>...</td>\n",
       "      <td>...</td>\n",
       "      <td>...</td>\n",
       "      <td>...</td>\n",
       "    </tr>\n",
       "    <tr>\n",
       "      <th>322523</th>\n",
       "      <td>0_2245</td>\n",
       "      <td>2021-04-06 19:59:19.462288</td>\n",
       "      <td>s_16936</td>\n",
       "      <td>c_4167</td>\n",
       "      <td>NaN</td>\n",
       "      <td>NaN</td>\n",
       "      <td>f</td>\n",
       "      <td>1979</td>\n",
       "    </tr>\n",
       "    <tr>\n",
       "      <th>329226</th>\n",
       "      <td>0_2245</td>\n",
       "      <td>2021-03-30 23:29:02.347672</td>\n",
       "      <td>s_13738</td>\n",
       "      <td>c_7790</td>\n",
       "      <td>NaN</td>\n",
       "      <td>NaN</td>\n",
       "      <td>f</td>\n",
       "      <td>1983</td>\n",
       "    </tr>\n",
       "    <tr>\n",
       "      <th>330297</th>\n",
       "      <td>0_2245</td>\n",
       "      <td>2021-12-03 14:14:40.444177</td>\n",
       "      <td>s_128815</td>\n",
       "      <td>c_6189</td>\n",
       "      <td>NaN</td>\n",
       "      <td>NaN</td>\n",
       "      <td>f</td>\n",
       "      <td>1984</td>\n",
       "    </tr>\n",
       "    <tr>\n",
       "      <th>335331</th>\n",
       "      <td>0_2245</td>\n",
       "      <td>2021-04-27 18:58:47.703374</td>\n",
       "      <td>s_26624</td>\n",
       "      <td>c_1595</td>\n",
       "      <td>NaN</td>\n",
       "      <td>NaN</td>\n",
       "      <td>f</td>\n",
       "      <td>1973</td>\n",
       "    </tr>\n",
       "    <tr>\n",
       "      <th>336020</th>\n",
       "      <td>0_2245</td>\n",
       "      <td>2021-05-01 03:35:03.146305</td>\n",
       "      <td>s_28235</td>\n",
       "      <td>c_5714</td>\n",
       "      <td>NaN</td>\n",
       "      <td>NaN</td>\n",
       "      <td>f</td>\n",
       "      <td>1972</td>\n",
       "    </tr>\n",
       "  </tbody>\n",
       "</table>\n",
       "<p>103 rows × 8 columns</p>\n",
       "</div>"
      ],
      "text/plain": [
       "       id_prod                        date session_id client_id  price  categ  \\\n",
       "6231    0_2245  2021-06-17 03:03:12.668129    s_49705    c_1533    NaN    NaN   \n",
       "10797   0_2245  2021-06-16 05:53:01.627491    s_49323    c_7954    NaN    NaN   \n",
       "14045   0_2245  2021-11-24 17:35:59.911427   s_124474    c_5120    NaN    NaN   \n",
       "17480   0_2245  2022-02-28 18:08:49.875709   s_172304    c_4964    NaN    NaN   \n",
       "21071   0_2245  2021-03-01 00:09:29.301897        s_3     c_580    NaN    NaN   \n",
       "...        ...                         ...        ...       ...    ...    ...   \n",
       "322523  0_2245  2021-04-06 19:59:19.462288    s_16936    c_4167    NaN    NaN   \n",
       "329226  0_2245  2021-03-30 23:29:02.347672    s_13738    c_7790    NaN    NaN   \n",
       "330297  0_2245  2021-12-03 14:14:40.444177   s_128815    c_6189    NaN    NaN   \n",
       "335331  0_2245  2021-04-27 18:58:47.703374    s_26624    c_1595    NaN    NaN   \n",
       "336020  0_2245  2021-05-01 03:35:03.146305    s_28235    c_5714    NaN    NaN   \n",
       "\n",
       "       sex  birth  \n",
       "6231     m   1972  \n",
       "10797    m   1973  \n",
       "14045    f   1975  \n",
       "17480    f   1982  \n",
       "21071    m   1988  \n",
       "...     ..    ...  \n",
       "322523   f   1979  \n",
       "329226   f   1983  \n",
       "330297   f   1984  \n",
       "335331   f   1973  \n",
       "336020   f   1972  \n",
       "\n",
       "[103 rows x 8 columns]"
      ]
     },
     "execution_count": 241,
     "metadata": {},
     "output_type": "execute_result"
    }
   ],
   "source": [
    "# On vérifie sur toutes les lignes on bien étées remplies\n",
    "df_nan = df_all[df_all.isna().any(axis=1)]\n",
    "df_nan"
   ]
  },
  {
   "cell_type": "code",
   "execution_count": 242,
   "id": "d4cc572b",
   "metadata": {},
   "outputs": [
    {
     "data": {
      "text/plain": [
       "0_2245    103\n",
       "Name: id_prod, dtype: int64"
      ]
     },
     "execution_count": 242,
     "metadata": {},
     "output_type": "execute_result"
    }
   ],
   "source": [
    "# Pour 103 lignes nous n'avons pas de valeurs price et categ\n",
    "df_nan.id_prod.value_counts()\n"
   ]
  },
  {
   "cell_type": "code",
   "execution_count": 243,
   "id": "0a8c0632",
   "metadata": {},
   "outputs": [
    {
     "data": {
      "text/html": [
       "<div>\n",
       "<style scoped>\n",
       "    .dataframe tbody tr th:only-of-type {\n",
       "        vertical-align: middle;\n",
       "    }\n",
       "\n",
       "    .dataframe tbody tr th {\n",
       "        vertical-align: top;\n",
       "    }\n",
       "\n",
       "    .dataframe thead th {\n",
       "        text-align: right;\n",
       "    }\n",
       "</style>\n",
       "<table border=\"1\" class=\"dataframe\">\n",
       "  <thead>\n",
       "    <tr style=\"text-align: right;\">\n",
       "      <th></th>\n",
       "      <th>id_prod</th>\n",
       "      <th>price</th>\n",
       "      <th>categ</th>\n",
       "    </tr>\n",
       "  </thead>\n",
       "  <tbody>\n",
       "  </tbody>\n",
       "</table>\n",
       "</div>"
      ],
      "text/plain": [
       "Empty DataFrame\n",
       "Columns: [id_prod, price, categ]\n",
       "Index: []"
      ]
     },
     "execution_count": 243,
     "metadata": {},
     "output_type": "execute_result"
    }
   ],
   "source": [
    "# On se rend compte que ce produit n'est pas enregistré dans la dataframe produit\n",
    "df_produit.loc[df_produit[\"id_prod\"] == \"0_2245\"]"
   ]
  },
  {
   "cell_type": "code",
   "execution_count": 244,
   "id": "fa551d4c",
   "metadata": {},
   "outputs": [
    {
     "data": {
      "text/plain": [
       "array([17.21518851])"
      ]
     },
     "execution_count": 244,
     "metadata": {},
     "output_type": "execute_result"
    }
   ],
   "source": [
    "# On va remplacer les valeurs vide avec SimpleImputer, ici pour la colonne price\n",
    "imputer = SimpleImputer(strategy=\"mean\")\n",
    "imputer.fit(df_all[[\"price\"]])\n",
    "df_all[\"price\"] = imputer.transform(df_all[[\"price\"]])\n",
    "imputer.statistics_"
   ]
  },
  {
   "cell_type": "code",
   "execution_count": 245,
   "id": "4bf20688",
   "metadata": {},
   "outputs": [
    {
     "data": {
      "text/plain": [
       "array([0.])"
      ]
     },
     "execution_count": 245,
     "metadata": {},
     "output_type": "execute_result"
    }
   ],
   "source": [
    "# ici pour la colonne categ\n",
    "imputer = SimpleImputer(strategy=\"most_frequent\")\n",
    "imputer.fit(df_all[[\"categ\"]])\n",
    "df_all[\"categ\"] = imputer.transform(df_all[[\"categ\"]])\n",
    "imputer.statistics_"
   ]
  },
  {
   "cell_type": "code",
   "execution_count": 246,
   "id": "6e415752",
   "metadata": {},
   "outputs": [
    {
     "data": {
      "text/html": [
       "<div>\n",
       "<style scoped>\n",
       "    .dataframe tbody tr th:only-of-type {\n",
       "        vertical-align: middle;\n",
       "    }\n",
       "\n",
       "    .dataframe tbody tr th {\n",
       "        vertical-align: top;\n",
       "    }\n",
       "\n",
       "    .dataframe thead th {\n",
       "        text-align: right;\n",
       "    }\n",
       "</style>\n",
       "<table border=\"1\" class=\"dataframe\">\n",
       "  <thead>\n",
       "    <tr style=\"text-align: right;\">\n",
       "      <th></th>\n",
       "      <th>id_prod</th>\n",
       "      <th>date</th>\n",
       "      <th>session_id</th>\n",
       "      <th>client_id</th>\n",
       "      <th>price</th>\n",
       "      <th>categ</th>\n",
       "      <th>sex</th>\n",
       "      <th>birth</th>\n",
       "    </tr>\n",
       "  </thead>\n",
       "  <tbody>\n",
       "  </tbody>\n",
       "</table>\n",
       "</div>"
      ],
      "text/plain": [
       "Empty DataFrame\n",
       "Columns: [id_prod, date, session_id, client_id, price, categ, sex, birth]\n",
       "Index: []"
      ]
     },
     "execution_count": 246,
     "metadata": {},
     "output_type": "execute_result"
    }
   ],
   "source": [
    "# les valeurs ont bien disparues\n",
    "df_nan = df_all[df_all.isna().any(axis=1)]\n",
    "df_nan\n"
   ]
  },
  {
   "cell_type": "markdown",
   "id": "ca59da13",
   "metadata": {},
   "source": [
    "## Création de nouvelles colonnes"
   ]
  },
  {
   "cell_type": "code",
   "execution_count": 247,
   "id": "848691b0",
   "metadata": {},
   "outputs": [],
   "source": [
    "# extraction de l'année, la date, les jours, le mois, l'heure à partir de la colonne date\n",
    "locale.setlocale(locale.LC_ALL, \"fr_FR\")\n",
    "\n",
    "df_all[\"day\"] = pd.DatetimeIndex(df_all.date).strftime(\"%A\")\n",
    "df_all[\"month\"] = pd.DatetimeIndex(df_all.date).strftime(\"%B\")\n",
    "df_all[\"hour\"] = pd.DatetimeIndex(df_all.date).strftime(\"%H:%M\")\n",
    "df_all[\"year\"] = pd.DatetimeIndex(df_all.date).strftime(\"%Y\")\n",
    "df_all[\"date_2\"] = pd.DatetimeIndex(df_all.date).strftime(\"%d %m %Y\")\n",
    "df_all[\"hours\"] = pd.DatetimeIndex(df_all.date).strftime(\"%H\")\n",
    "df_all[\"month_year\"] = pd.DatetimeIndex(df_all.date).strftime(\"%m %Y\")\n",
    "df_all[\"month_num\"] = pd.DatetimeIndex(df_all.date).strftime(\"%m\")"
   ]
  },
  {
   "cell_type": "code",
   "execution_count": 248,
   "id": "3042e808",
   "metadata": {},
   "outputs": [
    {
     "data": {
      "text/html": [
       "<div>\n",
       "<style scoped>\n",
       "    .dataframe tbody tr th:only-of-type {\n",
       "        vertical-align: middle;\n",
       "    }\n",
       "\n",
       "    .dataframe tbody tr th {\n",
       "        vertical-align: top;\n",
       "    }\n",
       "\n",
       "    .dataframe thead th {\n",
       "        text-align: right;\n",
       "    }\n",
       "</style>\n",
       "<table border=\"1\" class=\"dataframe\">\n",
       "  <thead>\n",
       "    <tr style=\"text-align: right;\">\n",
       "      <th></th>\n",
       "      <th>id_prod</th>\n",
       "      <th>date</th>\n",
       "      <th>session_id</th>\n",
       "      <th>client_id</th>\n",
       "      <th>price</th>\n",
       "      <th>categ</th>\n",
       "      <th>sex</th>\n",
       "      <th>birth</th>\n",
       "      <th>day</th>\n",
       "      <th>month</th>\n",
       "      <th>hour</th>\n",
       "      <th>year</th>\n",
       "      <th>date_2</th>\n",
       "      <th>hours</th>\n",
       "      <th>month_year</th>\n",
       "      <th>month_num</th>\n",
       "    </tr>\n",
       "  </thead>\n",
       "  <tbody>\n",
       "    <tr>\n",
       "      <th>0</th>\n",
       "      <td>0_1483</td>\n",
       "      <td>2021-04-10 18:37:28.723910</td>\n",
       "      <td>s_18746</td>\n",
       "      <td>c_4450</td>\n",
       "      <td>4.99</td>\n",
       "      <td>0.0</td>\n",
       "      <td>f</td>\n",
       "      <td>1977</td>\n",
       "      <td>samedi</td>\n",
       "      <td>avril</td>\n",
       "      <td>18:37</td>\n",
       "      <td>2021</td>\n",
       "      <td>10 04 2021</td>\n",
       "      <td>18</td>\n",
       "      <td>04 2021</td>\n",
       "      <td>04</td>\n",
       "    </tr>\n",
       "    <tr>\n",
       "      <th>1</th>\n",
       "      <td>2_226</td>\n",
       "      <td>2022-02-03 01:55:53.276402</td>\n",
       "      <td>s_159142</td>\n",
       "      <td>c_277</td>\n",
       "      <td>65.75</td>\n",
       "      <td>2.0</td>\n",
       "      <td>f</td>\n",
       "      <td>2000</td>\n",
       "      <td>jeudi</td>\n",
       "      <td>février</td>\n",
       "      <td>01:55</td>\n",
       "      <td>2022</td>\n",
       "      <td>03 02 2022</td>\n",
       "      <td>01</td>\n",
       "      <td>02 2022</td>\n",
       "      <td>02</td>\n",
       "    </tr>\n",
       "    <tr>\n",
       "      <th>2</th>\n",
       "      <td>1_374</td>\n",
       "      <td>2021-09-23 15:13:46.938559</td>\n",
       "      <td>s_94290</td>\n",
       "      <td>c_4270</td>\n",
       "      <td>10.71</td>\n",
       "      <td>1.0</td>\n",
       "      <td>f</td>\n",
       "      <td>1979</td>\n",
       "      <td>jeudi</td>\n",
       "      <td>septembre</td>\n",
       "      <td>15:13</td>\n",
       "      <td>2021</td>\n",
       "      <td>23 09 2021</td>\n",
       "      <td>15</td>\n",
       "      <td>09 2021</td>\n",
       "      <td>09</td>\n",
       "    </tr>\n",
       "    <tr>\n",
       "      <th>3</th>\n",
       "      <td>0_2186</td>\n",
       "      <td>2021-10-17 03:27:18.783634</td>\n",
       "      <td>s_105936</td>\n",
       "      <td>c_4597</td>\n",
       "      <td>4.20</td>\n",
       "      <td>0.0</td>\n",
       "      <td>m</td>\n",
       "      <td>1963</td>\n",
       "      <td>dimanche</td>\n",
       "      <td>octobre</td>\n",
       "      <td>03:27</td>\n",
       "      <td>2021</td>\n",
       "      <td>17 10 2021</td>\n",
       "      <td>03</td>\n",
       "      <td>10 2021</td>\n",
       "      <td>10</td>\n",
       "    </tr>\n",
       "    <tr>\n",
       "      <th>4</th>\n",
       "      <td>0_1351</td>\n",
       "      <td>2021-07-17 20:34:25.800563</td>\n",
       "      <td>s_63642</td>\n",
       "      <td>c_1242</td>\n",
       "      <td>8.99</td>\n",
       "      <td>0.0</td>\n",
       "      <td>f</td>\n",
       "      <td>1980</td>\n",
       "      <td>samedi</td>\n",
       "      <td>juillet</td>\n",
       "      <td>20:34</td>\n",
       "      <td>2021</td>\n",
       "      <td>17 07 2021</td>\n",
       "      <td>20</td>\n",
       "      <td>07 2021</td>\n",
       "      <td>07</td>\n",
       "    </tr>\n",
       "    <tr>\n",
       "      <th>...</th>\n",
       "      <td>...</td>\n",
       "      <td>...</td>\n",
       "      <td>...</td>\n",
       "      <td>...</td>\n",
       "      <td>...</td>\n",
       "      <td>...</td>\n",
       "      <td>...</td>\n",
       "      <td>...</td>\n",
       "      <td>...</td>\n",
       "      <td>...</td>\n",
       "      <td>...</td>\n",
       "      <td>...</td>\n",
       "      <td>...</td>\n",
       "      <td>...</td>\n",
       "      <td>...</td>\n",
       "      <td>...</td>\n",
       "    </tr>\n",
       "    <tr>\n",
       "      <th>336811</th>\n",
       "      <td>1_671</td>\n",
       "      <td>2021-05-28 12:35:46.214839</td>\n",
       "      <td>s_40720</td>\n",
       "      <td>c_3454</td>\n",
       "      <td>31.99</td>\n",
       "      <td>1.0</td>\n",
       "      <td>m</td>\n",
       "      <td>1969</td>\n",
       "      <td>vendredi</td>\n",
       "      <td>mai</td>\n",
       "      <td>12:35</td>\n",
       "      <td>2021</td>\n",
       "      <td>28 05 2021</td>\n",
       "      <td>12</td>\n",
       "      <td>05 2021</td>\n",
       "      <td>05</td>\n",
       "    </tr>\n",
       "    <tr>\n",
       "      <th>336812</th>\n",
       "      <td>0_759</td>\n",
       "      <td>2021-06-19 00:19:23.917703</td>\n",
       "      <td>s_50568</td>\n",
       "      <td>c_6268</td>\n",
       "      <td>22.99</td>\n",
       "      <td>0.0</td>\n",
       "      <td>m</td>\n",
       "      <td>1991</td>\n",
       "      <td>samedi</td>\n",
       "      <td>juin</td>\n",
       "      <td>00:19</td>\n",
       "      <td>2021</td>\n",
       "      <td>19 06 2021</td>\n",
       "      <td>00</td>\n",
       "      <td>06 2021</td>\n",
       "      <td>06</td>\n",
       "    </tr>\n",
       "    <tr>\n",
       "      <th>336813</th>\n",
       "      <td>0_1256</td>\n",
       "      <td>2021-03-16 17:31:59.442007</td>\n",
       "      <td>s_7219</td>\n",
       "      <td>c_4137</td>\n",
       "      <td>11.03</td>\n",
       "      <td>0.0</td>\n",
       "      <td>f</td>\n",
       "      <td>1968</td>\n",
       "      <td>mardi</td>\n",
       "      <td>mars</td>\n",
       "      <td>17:31</td>\n",
       "      <td>2021</td>\n",
       "      <td>16 03 2021</td>\n",
       "      <td>17</td>\n",
       "      <td>03 2021</td>\n",
       "      <td>03</td>\n",
       "    </tr>\n",
       "    <tr>\n",
       "      <th>336814</th>\n",
       "      <td>2_227</td>\n",
       "      <td>2021-10-30 16:50:15.997750</td>\n",
       "      <td>s_112349</td>\n",
       "      <td>c_5</td>\n",
       "      <td>50.99</td>\n",
       "      <td>2.0</td>\n",
       "      <td>f</td>\n",
       "      <td>1994</td>\n",
       "      <td>samedi</td>\n",
       "      <td>octobre</td>\n",
       "      <td>16:50</td>\n",
       "      <td>2021</td>\n",
       "      <td>30 10 2021</td>\n",
       "      <td>16</td>\n",
       "      <td>10 2021</td>\n",
       "      <td>10</td>\n",
       "    </tr>\n",
       "    <tr>\n",
       "      <th>336815</th>\n",
       "      <td>0_1417</td>\n",
       "      <td>2021-06-26 14:38:19.732946</td>\n",
       "      <td>s_54117</td>\n",
       "      <td>c_6714</td>\n",
       "      <td>17.99</td>\n",
       "      <td>0.0</td>\n",
       "      <td>f</td>\n",
       "      <td>1968</td>\n",
       "      <td>samedi</td>\n",
       "      <td>juin</td>\n",
       "      <td>14:38</td>\n",
       "      <td>2021</td>\n",
       "      <td>26 06 2021</td>\n",
       "      <td>14</td>\n",
       "      <td>06 2021</td>\n",
       "      <td>06</td>\n",
       "    </tr>\n",
       "  </tbody>\n",
       "</table>\n",
       "<p>336816 rows × 16 columns</p>\n",
       "</div>"
      ],
      "text/plain": [
       "       id_prod                        date session_id client_id  price  categ  \\\n",
       "0       0_1483  2021-04-10 18:37:28.723910    s_18746    c_4450   4.99    0.0   \n",
       "1        2_226  2022-02-03 01:55:53.276402   s_159142     c_277  65.75    2.0   \n",
       "2        1_374  2021-09-23 15:13:46.938559    s_94290    c_4270  10.71    1.0   \n",
       "3       0_2186  2021-10-17 03:27:18.783634   s_105936    c_4597   4.20    0.0   \n",
       "4       0_1351  2021-07-17 20:34:25.800563    s_63642    c_1242   8.99    0.0   \n",
       "...        ...                         ...        ...       ...    ...    ...   \n",
       "336811   1_671  2021-05-28 12:35:46.214839    s_40720    c_3454  31.99    1.0   \n",
       "336812   0_759  2021-06-19 00:19:23.917703    s_50568    c_6268  22.99    0.0   \n",
       "336813  0_1256  2021-03-16 17:31:59.442007     s_7219    c_4137  11.03    0.0   \n",
       "336814   2_227  2021-10-30 16:50:15.997750   s_112349       c_5  50.99    2.0   \n",
       "336815  0_1417  2021-06-26 14:38:19.732946    s_54117    c_6714  17.99    0.0   \n",
       "\n",
       "       sex  birth       day      month   hour  year      date_2 hours  \\\n",
       "0        f   1977    samedi      avril  18:37  2021  10 04 2021    18   \n",
       "1        f   2000     jeudi    février  01:55  2022  03 02 2022    01   \n",
       "2        f   1979     jeudi  septembre  15:13  2021  23 09 2021    15   \n",
       "3        m   1963  dimanche    octobre  03:27  2021  17 10 2021    03   \n",
       "4        f   1980    samedi    juillet  20:34  2021  17 07 2021    20   \n",
       "...     ..    ...       ...        ...    ...   ...         ...   ...   \n",
       "336811   m   1969  vendredi        mai  12:35  2021  28 05 2021    12   \n",
       "336812   m   1991    samedi       juin  00:19  2021  19 06 2021    00   \n",
       "336813   f   1968     mardi       mars  17:31  2021  16 03 2021    17   \n",
       "336814   f   1994    samedi    octobre  16:50  2021  30 10 2021    16   \n",
       "336815   f   1968    samedi       juin  14:38  2021  26 06 2021    14   \n",
       "\n",
       "       month_year month_num  \n",
       "0         04 2021        04  \n",
       "1         02 2022        02  \n",
       "2         09 2021        09  \n",
       "3         10 2021        10  \n",
       "4         07 2021        07  \n",
       "...           ...       ...  \n",
       "336811    05 2021        05  \n",
       "336812    06 2021        06  \n",
       "336813    03 2021        03  \n",
       "336814    10 2021        10  \n",
       "336815    06 2021        06  \n",
       "\n",
       "[336816 rows x 16 columns]"
      ]
     },
     "execution_count": 248,
     "metadata": {},
     "output_type": "execute_result"
    }
   ],
   "source": [
    "# Changement du type de la colonne year pour pouvoir faire des opérations\n",
    "df_all[\"year\"] = pd.to_numeric(df_all[\"year\"])\n",
    "df_all"
   ]
  },
  {
   "cell_type": "code",
   "execution_count": 249,
   "id": "ea1f9510",
   "metadata": {},
   "outputs": [
    {
     "data": {
      "text/html": [
       "<div>\n",
       "<style scoped>\n",
       "    .dataframe tbody tr th:only-of-type {\n",
       "        vertical-align: middle;\n",
       "    }\n",
       "\n",
       "    .dataframe tbody tr th {\n",
       "        vertical-align: top;\n",
       "    }\n",
       "\n",
       "    .dataframe thead th {\n",
       "        text-align: right;\n",
       "    }\n",
       "</style>\n",
       "<table border=\"1\" class=\"dataframe\">\n",
       "  <thead>\n",
       "    <tr style=\"text-align: right;\">\n",
       "      <th></th>\n",
       "      <th>id_prod</th>\n",
       "      <th>date</th>\n",
       "      <th>session_id</th>\n",
       "      <th>client_id</th>\n",
       "      <th>price</th>\n",
       "      <th>categ</th>\n",
       "      <th>sex</th>\n",
       "      <th>birth</th>\n",
       "      <th>day</th>\n",
       "      <th>month</th>\n",
       "      <th>hour</th>\n",
       "      <th>year</th>\n",
       "      <th>date_2</th>\n",
       "      <th>hours</th>\n",
       "      <th>month_year</th>\n",
       "      <th>month_num</th>\n",
       "      <th>age</th>\n",
       "    </tr>\n",
       "  </thead>\n",
       "  <tbody>\n",
       "    <tr>\n",
       "      <th>0</th>\n",
       "      <td>0_1483</td>\n",
       "      <td>2021-04-10 18:37:28.723910</td>\n",
       "      <td>s_18746</td>\n",
       "      <td>c_4450</td>\n",
       "      <td>4.99</td>\n",
       "      <td>0.0</td>\n",
       "      <td>f</td>\n",
       "      <td>1977</td>\n",
       "      <td>samedi</td>\n",
       "      <td>avril</td>\n",
       "      <td>18:37</td>\n",
       "      <td>2021</td>\n",
       "      <td>10 04 2021</td>\n",
       "      <td>18</td>\n",
       "      <td>04 2021</td>\n",
       "      <td>04</td>\n",
       "      <td>44</td>\n",
       "    </tr>\n",
       "    <tr>\n",
       "      <th>1</th>\n",
       "      <td>2_226</td>\n",
       "      <td>2022-02-03 01:55:53.276402</td>\n",
       "      <td>s_159142</td>\n",
       "      <td>c_277</td>\n",
       "      <td>65.75</td>\n",
       "      <td>2.0</td>\n",
       "      <td>f</td>\n",
       "      <td>2000</td>\n",
       "      <td>jeudi</td>\n",
       "      <td>février</td>\n",
       "      <td>01:55</td>\n",
       "      <td>2022</td>\n",
       "      <td>03 02 2022</td>\n",
       "      <td>01</td>\n",
       "      <td>02 2022</td>\n",
       "      <td>02</td>\n",
       "      <td>22</td>\n",
       "    </tr>\n",
       "    <tr>\n",
       "      <th>2</th>\n",
       "      <td>1_374</td>\n",
       "      <td>2021-09-23 15:13:46.938559</td>\n",
       "      <td>s_94290</td>\n",
       "      <td>c_4270</td>\n",
       "      <td>10.71</td>\n",
       "      <td>1.0</td>\n",
       "      <td>f</td>\n",
       "      <td>1979</td>\n",
       "      <td>jeudi</td>\n",
       "      <td>septembre</td>\n",
       "      <td>15:13</td>\n",
       "      <td>2021</td>\n",
       "      <td>23 09 2021</td>\n",
       "      <td>15</td>\n",
       "      <td>09 2021</td>\n",
       "      <td>09</td>\n",
       "      <td>42</td>\n",
       "    </tr>\n",
       "    <tr>\n",
       "      <th>3</th>\n",
       "      <td>0_2186</td>\n",
       "      <td>2021-10-17 03:27:18.783634</td>\n",
       "      <td>s_105936</td>\n",
       "      <td>c_4597</td>\n",
       "      <td>4.20</td>\n",
       "      <td>0.0</td>\n",
       "      <td>m</td>\n",
       "      <td>1963</td>\n",
       "      <td>dimanche</td>\n",
       "      <td>octobre</td>\n",
       "      <td>03:27</td>\n",
       "      <td>2021</td>\n",
       "      <td>17 10 2021</td>\n",
       "      <td>03</td>\n",
       "      <td>10 2021</td>\n",
       "      <td>10</td>\n",
       "      <td>58</td>\n",
       "    </tr>\n",
       "    <tr>\n",
       "      <th>4</th>\n",
       "      <td>0_1351</td>\n",
       "      <td>2021-07-17 20:34:25.800563</td>\n",
       "      <td>s_63642</td>\n",
       "      <td>c_1242</td>\n",
       "      <td>8.99</td>\n",
       "      <td>0.0</td>\n",
       "      <td>f</td>\n",
       "      <td>1980</td>\n",
       "      <td>samedi</td>\n",
       "      <td>juillet</td>\n",
       "      <td>20:34</td>\n",
       "      <td>2021</td>\n",
       "      <td>17 07 2021</td>\n",
       "      <td>20</td>\n",
       "      <td>07 2021</td>\n",
       "      <td>07</td>\n",
       "      <td>41</td>\n",
       "    </tr>\n",
       "    <tr>\n",
       "      <th>...</th>\n",
       "      <td>...</td>\n",
       "      <td>...</td>\n",
       "      <td>...</td>\n",
       "      <td>...</td>\n",
       "      <td>...</td>\n",
       "      <td>...</td>\n",
       "      <td>...</td>\n",
       "      <td>...</td>\n",
       "      <td>...</td>\n",
       "      <td>...</td>\n",
       "      <td>...</td>\n",
       "      <td>...</td>\n",
       "      <td>...</td>\n",
       "      <td>...</td>\n",
       "      <td>...</td>\n",
       "      <td>...</td>\n",
       "      <td>...</td>\n",
       "    </tr>\n",
       "    <tr>\n",
       "      <th>336811</th>\n",
       "      <td>1_671</td>\n",
       "      <td>2021-05-28 12:35:46.214839</td>\n",
       "      <td>s_40720</td>\n",
       "      <td>c_3454</td>\n",
       "      <td>31.99</td>\n",
       "      <td>1.0</td>\n",
       "      <td>m</td>\n",
       "      <td>1969</td>\n",
       "      <td>vendredi</td>\n",
       "      <td>mai</td>\n",
       "      <td>12:35</td>\n",
       "      <td>2021</td>\n",
       "      <td>28 05 2021</td>\n",
       "      <td>12</td>\n",
       "      <td>05 2021</td>\n",
       "      <td>05</td>\n",
       "      <td>52</td>\n",
       "    </tr>\n",
       "    <tr>\n",
       "      <th>336812</th>\n",
       "      <td>0_759</td>\n",
       "      <td>2021-06-19 00:19:23.917703</td>\n",
       "      <td>s_50568</td>\n",
       "      <td>c_6268</td>\n",
       "      <td>22.99</td>\n",
       "      <td>0.0</td>\n",
       "      <td>m</td>\n",
       "      <td>1991</td>\n",
       "      <td>samedi</td>\n",
       "      <td>juin</td>\n",
       "      <td>00:19</td>\n",
       "      <td>2021</td>\n",
       "      <td>19 06 2021</td>\n",
       "      <td>00</td>\n",
       "      <td>06 2021</td>\n",
       "      <td>06</td>\n",
       "      <td>30</td>\n",
       "    </tr>\n",
       "    <tr>\n",
       "      <th>336813</th>\n",
       "      <td>0_1256</td>\n",
       "      <td>2021-03-16 17:31:59.442007</td>\n",
       "      <td>s_7219</td>\n",
       "      <td>c_4137</td>\n",
       "      <td>11.03</td>\n",
       "      <td>0.0</td>\n",
       "      <td>f</td>\n",
       "      <td>1968</td>\n",
       "      <td>mardi</td>\n",
       "      <td>mars</td>\n",
       "      <td>17:31</td>\n",
       "      <td>2021</td>\n",
       "      <td>16 03 2021</td>\n",
       "      <td>17</td>\n",
       "      <td>03 2021</td>\n",
       "      <td>03</td>\n",
       "      <td>53</td>\n",
       "    </tr>\n",
       "    <tr>\n",
       "      <th>336814</th>\n",
       "      <td>2_227</td>\n",
       "      <td>2021-10-30 16:50:15.997750</td>\n",
       "      <td>s_112349</td>\n",
       "      <td>c_5</td>\n",
       "      <td>50.99</td>\n",
       "      <td>2.0</td>\n",
       "      <td>f</td>\n",
       "      <td>1994</td>\n",
       "      <td>samedi</td>\n",
       "      <td>octobre</td>\n",
       "      <td>16:50</td>\n",
       "      <td>2021</td>\n",
       "      <td>30 10 2021</td>\n",
       "      <td>16</td>\n",
       "      <td>10 2021</td>\n",
       "      <td>10</td>\n",
       "      <td>27</td>\n",
       "    </tr>\n",
       "    <tr>\n",
       "      <th>336815</th>\n",
       "      <td>0_1417</td>\n",
       "      <td>2021-06-26 14:38:19.732946</td>\n",
       "      <td>s_54117</td>\n",
       "      <td>c_6714</td>\n",
       "      <td>17.99</td>\n",
       "      <td>0.0</td>\n",
       "      <td>f</td>\n",
       "      <td>1968</td>\n",
       "      <td>samedi</td>\n",
       "      <td>juin</td>\n",
       "      <td>14:38</td>\n",
       "      <td>2021</td>\n",
       "      <td>26 06 2021</td>\n",
       "      <td>14</td>\n",
       "      <td>06 2021</td>\n",
       "      <td>06</td>\n",
       "      <td>53</td>\n",
       "    </tr>\n",
       "  </tbody>\n",
       "</table>\n",
       "<p>336816 rows × 17 columns</p>\n",
       "</div>"
      ],
      "text/plain": [
       "       id_prod                        date session_id client_id  price  categ  \\\n",
       "0       0_1483  2021-04-10 18:37:28.723910    s_18746    c_4450   4.99    0.0   \n",
       "1        2_226  2022-02-03 01:55:53.276402   s_159142     c_277  65.75    2.0   \n",
       "2        1_374  2021-09-23 15:13:46.938559    s_94290    c_4270  10.71    1.0   \n",
       "3       0_2186  2021-10-17 03:27:18.783634   s_105936    c_4597   4.20    0.0   \n",
       "4       0_1351  2021-07-17 20:34:25.800563    s_63642    c_1242   8.99    0.0   \n",
       "...        ...                         ...        ...       ...    ...    ...   \n",
       "336811   1_671  2021-05-28 12:35:46.214839    s_40720    c_3454  31.99    1.0   \n",
       "336812   0_759  2021-06-19 00:19:23.917703    s_50568    c_6268  22.99    0.0   \n",
       "336813  0_1256  2021-03-16 17:31:59.442007     s_7219    c_4137  11.03    0.0   \n",
       "336814   2_227  2021-10-30 16:50:15.997750   s_112349       c_5  50.99    2.0   \n",
       "336815  0_1417  2021-06-26 14:38:19.732946    s_54117    c_6714  17.99    0.0   \n",
       "\n",
       "       sex  birth       day      month   hour  year      date_2 hours  \\\n",
       "0        f   1977    samedi      avril  18:37  2021  10 04 2021    18   \n",
       "1        f   2000     jeudi    février  01:55  2022  03 02 2022    01   \n",
       "2        f   1979     jeudi  septembre  15:13  2021  23 09 2021    15   \n",
       "3        m   1963  dimanche    octobre  03:27  2021  17 10 2021    03   \n",
       "4        f   1980    samedi    juillet  20:34  2021  17 07 2021    20   \n",
       "...     ..    ...       ...        ...    ...   ...         ...   ...   \n",
       "336811   m   1969  vendredi        mai  12:35  2021  28 05 2021    12   \n",
       "336812   m   1991    samedi       juin  00:19  2021  19 06 2021    00   \n",
       "336813   f   1968     mardi       mars  17:31  2021  16 03 2021    17   \n",
       "336814   f   1994    samedi    octobre  16:50  2021  30 10 2021    16   \n",
       "336815   f   1968    samedi       juin  14:38  2021  26 06 2021    14   \n",
       "\n",
       "       month_year month_num  age  \n",
       "0         04 2021        04   44  \n",
       "1         02 2022        02   22  \n",
       "2         09 2021        09   42  \n",
       "3         10 2021        10   58  \n",
       "4         07 2021        07   41  \n",
       "...           ...       ...  ...  \n",
       "336811    05 2021        05   52  \n",
       "336812    06 2021        06   30  \n",
       "336813    03 2021        03   53  \n",
       "336814    10 2021        10   27  \n",
       "336815    06 2021        06   53  \n",
       "\n",
       "[336816 rows x 17 columns]"
      ]
     },
     "execution_count": 249,
     "metadata": {},
     "output_type": "execute_result"
    }
   ],
   "source": [
    "# Création de la colonne âge\n",
    "df_all[\"age\"] = df_all.year - df_all.birth\n",
    "df_all"
   ]
  },
  {
   "cell_type": "markdown",
   "id": "2dfb239b",
   "metadata": {},
   "source": [
    "# Mission n° 2 : Analyses des données "
   ]
  },
  {
   "cell_type": "markdown",
   "id": "52fc76e1",
   "metadata": {},
   "source": [
    "## Indicateurs de tendances centrale (mean, median=quartilles 50%) et de dispersion (std, quartilles):"
   ]
  },
  {
   "cell_type": "code",
   "execution_count": 250,
   "id": "f5b7b3cc",
   "metadata": {},
   "outputs": [
    {
     "data": {
      "text/html": [
       "<div>\n",
       "<style scoped>\n",
       "    .dataframe tbody tr th:only-of-type {\n",
       "        vertical-align: middle;\n",
       "    }\n",
       "\n",
       "    .dataframe tbody tr th {\n",
       "        vertical-align: top;\n",
       "    }\n",
       "\n",
       "    .dataframe thead th {\n",
       "        text-align: right;\n",
       "    }\n",
       "</style>\n",
       "<table border=\"1\" class=\"dataframe\">\n",
       "  <thead>\n",
       "    <tr style=\"text-align: right;\">\n",
       "      <th></th>\n",
       "      <th>price</th>\n",
       "      <th>categ</th>\n",
       "      <th>birth</th>\n",
       "      <th>year</th>\n",
       "      <th>age</th>\n",
       "    </tr>\n",
       "  </thead>\n",
       "  <tbody>\n",
       "    <tr>\n",
       "      <th>count</th>\n",
       "      <td>336816.0</td>\n",
       "      <td>336816.0</td>\n",
       "      <td>336816.0</td>\n",
       "      <td>336816.0</td>\n",
       "      <td>336816.0</td>\n",
       "    </tr>\n",
       "    <tr>\n",
       "      <th>mean</th>\n",
       "      <td>17.2</td>\n",
       "      <td>0.4</td>\n",
       "      <td>1977.8</td>\n",
       "      <td>2021.2</td>\n",
       "      <td>43.4</td>\n",
       "    </tr>\n",
       "    <tr>\n",
       "      <th>std</th>\n",
       "      <td>17.9</td>\n",
       "      <td>0.6</td>\n",
       "      <td>13.5</td>\n",
       "      <td>0.4</td>\n",
       "      <td>13.5</td>\n",
       "    </tr>\n",
       "    <tr>\n",
       "      <th>min</th>\n",
       "      <td>0.6</td>\n",
       "      <td>0.0</td>\n",
       "      <td>1929.0</td>\n",
       "      <td>2021.0</td>\n",
       "      <td>17.0</td>\n",
       "    </tr>\n",
       "    <tr>\n",
       "      <th>25%</th>\n",
       "      <td>8.6</td>\n",
       "      <td>0.0</td>\n",
       "      <td>1971.0</td>\n",
       "      <td>2021.0</td>\n",
       "      <td>34.0</td>\n",
       "    </tr>\n",
       "    <tr>\n",
       "      <th>50%</th>\n",
       "      <td>13.9</td>\n",
       "      <td>0.0</td>\n",
       "      <td>1980.0</td>\n",
       "      <td>2021.0</td>\n",
       "      <td>42.0</td>\n",
       "    </tr>\n",
       "    <tr>\n",
       "      <th>75%</th>\n",
       "      <td>19.0</td>\n",
       "      <td>1.0</td>\n",
       "      <td>1987.0</td>\n",
       "      <td>2021.0</td>\n",
       "      <td>51.0</td>\n",
       "    </tr>\n",
       "    <tr>\n",
       "      <th>max</th>\n",
       "      <td>300.0</td>\n",
       "      <td>2.0</td>\n",
       "      <td>2004.0</td>\n",
       "      <td>2022.0</td>\n",
       "      <td>93.0</td>\n",
       "    </tr>\n",
       "  </tbody>\n",
       "</table>\n",
       "</div>"
      ],
      "text/plain": [
       "          price     categ     birth      year       age\n",
       "count  336816.0  336816.0  336816.0  336816.0  336816.0\n",
       "mean       17.2       0.4    1977.8    2021.2      43.4\n",
       "std        17.9       0.6      13.5       0.4      13.5\n",
       "min         0.6       0.0    1929.0    2021.0      17.0\n",
       "25%         8.6       0.0    1971.0    2021.0      34.0\n",
       "50%        13.9       0.0    1980.0    2021.0      42.0\n",
       "75%        19.0       1.0    1987.0    2021.0      51.0\n",
       "max       300.0       2.0    2004.0    2022.0      93.0"
      ]
     },
     "execution_count": 250,
     "metadata": {},
     "output_type": "execute_result"
    }
   ],
   "source": [
    "# pd.set_option('display.float_format', lambda x: '%.3f' % x) --> pour définir le nombre de virgule sur tout les output pandas\n",
    "stats = df_all.describe().applymap(\"{:.1f}\".format)\n",
    "stats"
   ]
  },
  {
   "cell_type": "markdown",
   "id": "b86e1134",
   "metadata": {},
   "source": [
    "## Analyse de concentration (via une courbe de Lorenz et un indice de Gini)"
   ]
  },
  {
   "cell_type": "code",
   "execution_count": 251,
   "id": "50a86f46",
   "metadata": {},
   "outputs": [
    {
     "data": {
      "text/html": [
       "<div>\n",
       "<style scoped>\n",
       "    .dataframe tbody tr th:only-of-type {\n",
       "        vertical-align: middle;\n",
       "    }\n",
       "\n",
       "    .dataframe tbody tr th {\n",
       "        vertical-align: top;\n",
       "    }\n",
       "\n",
       "    .dataframe thead th {\n",
       "        text-align: right;\n",
       "    }\n",
       "</style>\n",
       "<table border=\"1\" class=\"dataframe\">\n",
       "  <thead>\n",
       "    <tr style=\"text-align: right;\">\n",
       "      <th></th>\n",
       "      <th>id_prod</th>\n",
       "      <th>date</th>\n",
       "      <th>session_id</th>\n",
       "      <th>client_id</th>\n",
       "      <th>price</th>\n",
       "      <th>categ</th>\n",
       "      <th>sex</th>\n",
       "      <th>birth</th>\n",
       "      <th>day</th>\n",
       "      <th>month</th>\n",
       "      <th>hour</th>\n",
       "      <th>year</th>\n",
       "      <th>date_2</th>\n",
       "      <th>hours</th>\n",
       "      <th>month_year</th>\n",
       "      <th>month_num</th>\n",
       "      <th>age</th>\n",
       "    </tr>\n",
       "  </thead>\n",
       "  <tbody>\n",
       "    <tr>\n",
       "      <th>0</th>\n",
       "      <td>0_1483</td>\n",
       "      <td>2021-04-10 18:37:28.723910</td>\n",
       "      <td>s_18746</td>\n",
       "      <td>c_4450</td>\n",
       "      <td>4.99</td>\n",
       "      <td>0.0</td>\n",
       "      <td>f</td>\n",
       "      <td>1977</td>\n",
       "      <td>samedi</td>\n",
       "      <td>avril</td>\n",
       "      <td>18:37</td>\n",
       "      <td>2021</td>\n",
       "      <td>10 04 2021</td>\n",
       "      <td>18</td>\n",
       "      <td>04 2021</td>\n",
       "      <td>04</td>\n",
       "      <td>44</td>\n",
       "    </tr>\n",
       "    <tr>\n",
       "      <th>1</th>\n",
       "      <td>2_226</td>\n",
       "      <td>2022-02-03 01:55:53.276402</td>\n",
       "      <td>s_159142</td>\n",
       "      <td>c_277</td>\n",
       "      <td>65.75</td>\n",
       "      <td>2.0</td>\n",
       "      <td>f</td>\n",
       "      <td>2000</td>\n",
       "      <td>jeudi</td>\n",
       "      <td>février</td>\n",
       "      <td>01:55</td>\n",
       "      <td>2022</td>\n",
       "      <td>03 02 2022</td>\n",
       "      <td>01</td>\n",
       "      <td>02 2022</td>\n",
       "      <td>02</td>\n",
       "      <td>22</td>\n",
       "    </tr>\n",
       "    <tr>\n",
       "      <th>2</th>\n",
       "      <td>1_374</td>\n",
       "      <td>2021-09-23 15:13:46.938559</td>\n",
       "      <td>s_94290</td>\n",
       "      <td>c_4270</td>\n",
       "      <td>10.71</td>\n",
       "      <td>1.0</td>\n",
       "      <td>f</td>\n",
       "      <td>1979</td>\n",
       "      <td>jeudi</td>\n",
       "      <td>septembre</td>\n",
       "      <td>15:13</td>\n",
       "      <td>2021</td>\n",
       "      <td>23 09 2021</td>\n",
       "      <td>15</td>\n",
       "      <td>09 2021</td>\n",
       "      <td>09</td>\n",
       "      <td>42</td>\n",
       "    </tr>\n",
       "    <tr>\n",
       "      <th>3</th>\n",
       "      <td>0_2186</td>\n",
       "      <td>2021-10-17 03:27:18.783634</td>\n",
       "      <td>s_105936</td>\n",
       "      <td>c_4597</td>\n",
       "      <td>4.20</td>\n",
       "      <td>0.0</td>\n",
       "      <td>m</td>\n",
       "      <td>1963</td>\n",
       "      <td>dimanche</td>\n",
       "      <td>octobre</td>\n",
       "      <td>03:27</td>\n",
       "      <td>2021</td>\n",
       "      <td>17 10 2021</td>\n",
       "      <td>03</td>\n",
       "      <td>10 2021</td>\n",
       "      <td>10</td>\n",
       "      <td>58</td>\n",
       "    </tr>\n",
       "    <tr>\n",
       "      <th>4</th>\n",
       "      <td>0_1351</td>\n",
       "      <td>2021-07-17 20:34:25.800563</td>\n",
       "      <td>s_63642</td>\n",
       "      <td>c_1242</td>\n",
       "      <td>8.99</td>\n",
       "      <td>0.0</td>\n",
       "      <td>f</td>\n",
       "      <td>1980</td>\n",
       "      <td>samedi</td>\n",
       "      <td>juillet</td>\n",
       "      <td>20:34</td>\n",
       "      <td>2021</td>\n",
       "      <td>17 07 2021</td>\n",
       "      <td>20</td>\n",
       "      <td>07 2021</td>\n",
       "      <td>07</td>\n",
       "      <td>41</td>\n",
       "    </tr>\n",
       "    <tr>\n",
       "      <th>...</th>\n",
       "      <td>...</td>\n",
       "      <td>...</td>\n",
       "      <td>...</td>\n",
       "      <td>...</td>\n",
       "      <td>...</td>\n",
       "      <td>...</td>\n",
       "      <td>...</td>\n",
       "      <td>...</td>\n",
       "      <td>...</td>\n",
       "      <td>...</td>\n",
       "      <td>...</td>\n",
       "      <td>...</td>\n",
       "      <td>...</td>\n",
       "      <td>...</td>\n",
       "      <td>...</td>\n",
       "      <td>...</td>\n",
       "      <td>...</td>\n",
       "    </tr>\n",
       "    <tr>\n",
       "      <th>336811</th>\n",
       "      <td>1_671</td>\n",
       "      <td>2021-05-28 12:35:46.214839</td>\n",
       "      <td>s_40720</td>\n",
       "      <td>c_3454</td>\n",
       "      <td>31.99</td>\n",
       "      <td>1.0</td>\n",
       "      <td>m</td>\n",
       "      <td>1969</td>\n",
       "      <td>vendredi</td>\n",
       "      <td>mai</td>\n",
       "      <td>12:35</td>\n",
       "      <td>2021</td>\n",
       "      <td>28 05 2021</td>\n",
       "      <td>12</td>\n",
       "      <td>05 2021</td>\n",
       "      <td>05</td>\n",
       "      <td>52</td>\n",
       "    </tr>\n",
       "    <tr>\n",
       "      <th>336812</th>\n",
       "      <td>0_759</td>\n",
       "      <td>2021-06-19 00:19:23.917703</td>\n",
       "      <td>s_50568</td>\n",
       "      <td>c_6268</td>\n",
       "      <td>22.99</td>\n",
       "      <td>0.0</td>\n",
       "      <td>m</td>\n",
       "      <td>1991</td>\n",
       "      <td>samedi</td>\n",
       "      <td>juin</td>\n",
       "      <td>00:19</td>\n",
       "      <td>2021</td>\n",
       "      <td>19 06 2021</td>\n",
       "      <td>00</td>\n",
       "      <td>06 2021</td>\n",
       "      <td>06</td>\n",
       "      <td>30</td>\n",
       "    </tr>\n",
       "    <tr>\n",
       "      <th>336813</th>\n",
       "      <td>0_1256</td>\n",
       "      <td>2021-03-16 17:31:59.442007</td>\n",
       "      <td>s_7219</td>\n",
       "      <td>c_4137</td>\n",
       "      <td>11.03</td>\n",
       "      <td>0.0</td>\n",
       "      <td>f</td>\n",
       "      <td>1968</td>\n",
       "      <td>mardi</td>\n",
       "      <td>mars</td>\n",
       "      <td>17:31</td>\n",
       "      <td>2021</td>\n",
       "      <td>16 03 2021</td>\n",
       "      <td>17</td>\n",
       "      <td>03 2021</td>\n",
       "      <td>03</td>\n",
       "      <td>53</td>\n",
       "    </tr>\n",
       "    <tr>\n",
       "      <th>336814</th>\n",
       "      <td>2_227</td>\n",
       "      <td>2021-10-30 16:50:15.997750</td>\n",
       "      <td>s_112349</td>\n",
       "      <td>c_5</td>\n",
       "      <td>50.99</td>\n",
       "      <td>2.0</td>\n",
       "      <td>f</td>\n",
       "      <td>1994</td>\n",
       "      <td>samedi</td>\n",
       "      <td>octobre</td>\n",
       "      <td>16:50</td>\n",
       "      <td>2021</td>\n",
       "      <td>30 10 2021</td>\n",
       "      <td>16</td>\n",
       "      <td>10 2021</td>\n",
       "      <td>10</td>\n",
       "      <td>27</td>\n",
       "    </tr>\n",
       "    <tr>\n",
       "      <th>336815</th>\n",
       "      <td>0_1417</td>\n",
       "      <td>2021-06-26 14:38:19.732946</td>\n",
       "      <td>s_54117</td>\n",
       "      <td>c_6714</td>\n",
       "      <td>17.99</td>\n",
       "      <td>0.0</td>\n",
       "      <td>f</td>\n",
       "      <td>1968</td>\n",
       "      <td>samedi</td>\n",
       "      <td>juin</td>\n",
       "      <td>14:38</td>\n",
       "      <td>2021</td>\n",
       "      <td>26 06 2021</td>\n",
       "      <td>14</td>\n",
       "      <td>06 2021</td>\n",
       "      <td>06</td>\n",
       "      <td>53</td>\n",
       "    </tr>\n",
       "  </tbody>\n",
       "</table>\n",
       "<p>336816 rows × 17 columns</p>\n",
       "</div>"
      ],
      "text/plain": [
       "       id_prod                        date session_id client_id  price  categ  \\\n",
       "0       0_1483  2021-04-10 18:37:28.723910    s_18746    c_4450   4.99    0.0   \n",
       "1        2_226  2022-02-03 01:55:53.276402   s_159142     c_277  65.75    2.0   \n",
       "2        1_374  2021-09-23 15:13:46.938559    s_94290    c_4270  10.71    1.0   \n",
       "3       0_2186  2021-10-17 03:27:18.783634   s_105936    c_4597   4.20    0.0   \n",
       "4       0_1351  2021-07-17 20:34:25.800563    s_63642    c_1242   8.99    0.0   \n",
       "...        ...                         ...        ...       ...    ...    ...   \n",
       "336811   1_671  2021-05-28 12:35:46.214839    s_40720    c_3454  31.99    1.0   \n",
       "336812   0_759  2021-06-19 00:19:23.917703    s_50568    c_6268  22.99    0.0   \n",
       "336813  0_1256  2021-03-16 17:31:59.442007     s_7219    c_4137  11.03    0.0   \n",
       "336814   2_227  2021-10-30 16:50:15.997750   s_112349       c_5  50.99    2.0   \n",
       "336815  0_1417  2021-06-26 14:38:19.732946    s_54117    c_6714  17.99    0.0   \n",
       "\n",
       "       sex  birth       day      month   hour  year      date_2 hours  \\\n",
       "0        f   1977    samedi      avril  18:37  2021  10 04 2021    18   \n",
       "1        f   2000     jeudi    février  01:55  2022  03 02 2022    01   \n",
       "2        f   1979     jeudi  septembre  15:13  2021  23 09 2021    15   \n",
       "3        m   1963  dimanche    octobre  03:27  2021  17 10 2021    03   \n",
       "4        f   1980    samedi    juillet  20:34  2021  17 07 2021    20   \n",
       "...     ..    ...       ...        ...    ...   ...         ...   ...   \n",
       "336811   m   1969  vendredi        mai  12:35  2021  28 05 2021    12   \n",
       "336812   m   1991    samedi       juin  00:19  2021  19 06 2021    00   \n",
       "336813   f   1968     mardi       mars  17:31  2021  16 03 2021    17   \n",
       "336814   f   1994    samedi    octobre  16:50  2021  30 10 2021    16   \n",
       "336815   f   1968    samedi       juin  14:38  2021  26 06 2021    14   \n",
       "\n",
       "       month_year month_num  age  \n",
       "0         04 2021        04   44  \n",
       "1         02 2022        02   22  \n",
       "2         09 2021        09   42  \n",
       "3         10 2021        10   58  \n",
       "4         07 2021        07   41  \n",
       "...           ...       ...  ...  \n",
       "336811    05 2021        05   52  \n",
       "336812    06 2021        06   30  \n",
       "336813    03 2021        03   53  \n",
       "336814    10 2021        10   27  \n",
       "336815    06 2021        06   53  \n",
       "\n",
       "[336816 rows x 17 columns]"
      ]
     },
     "execution_count": 251,
     "metadata": {},
     "output_type": "execute_result"
    }
   ],
   "source": [
    "df_all\n"
   ]
  },
  {
   "cell_type": "code",
   "execution_count": 252,
   "id": "b5fdb1e9",
   "metadata": {},
   "outputs": [],
   "source": [
    "def lorenz(arr):\n",
    "    lorenz = np.cumsum(np.sort(arr)) / arr.sum()\n",
    "    return np.append([0], lorenz)\n",
    "\n",
    "\n",
    "def plot_lorenz_curve(lorenz_curve, title):\n",
    "    xaxis = np.linspace(0.0, 1.0, lorenz_curve.size)\n",
    "    plt.plot([0, 1], [0, 1], color=\"k\")\n",
    "    plt.plot(xaxis, lorenz_curve)\n",
    "    plt.title(\"Courbe de lorenz : {}\".format(title))\n",
    "    plt.show()\n",
    "\n",
    "\n",
    "def gini(arr, lorenz_curve):\n",
    "    AUC = (\n",
    "        lorenz_curve.sum() - lorenz_curve[-1] / 2 - lorenz_curve[0] / 2\n",
    "    ) / lorenz_curve.size\n",
    "    S = 0.5 - AUC\n",
    "    gini = 2 * S\n",
    "    return gini"
   ]
  },
  {
   "cell_type": "code",
   "execution_count": 342,
   "id": "70bbcddb",
   "metadata": {},
   "outputs": [
    {
     "data": {
      "image/png": "[encoded data removed]",
      "text/plain": [
       "<Figure size 432x288 with 1 Axes>"
      ]
     },
     "metadata": {
      "needs_background": "light"
     },
     "output_type": "display_data"
    },
    {
     "name": "stdout",
     "output_type": "stream",
     "text": [
      "Le coeficient de gini pour la catégorie est : 0.39207298082560627\n"
     ]
    },
    {
     "data": {
      "text/plain": [
       "<Figure size 432x288 with 0 Axes>"
      ]
     },
     "metadata": {},
     "output_type": "display_data"
    }
   ],
   "source": [
    "price_arr = df_all.price\n",
    "price_lorenz_curve = lorenz(price_arr)\n",
    "plot_lorenz_curve(price_lorenz_curve, \"prix\")\n",
    "print(\n",
    "    \"Le coeficient de gini pour la catégorie est : {}\".format(\n",
    "        gini(price_arr, price_lorenz_curve)\n",
    "    )\n",
    ")"
   ]
  },
  {
   "cell_type": "code",
   "execution_count": 254,
   "id": "e25169b3",
   "metadata": {},
   "outputs": [
    {
     "data": {
      "image/png": "[encoded data removed]",
      "text/plain": [
       "<Figure size 432x288 with 1 Axes>"
      ]
     },
     "metadata": {
      "needs_background": "light"
     },
     "output_type": "display_data"
    },
    {
     "name": "stdout",
     "output_type": "stream",
     "text": [
      "Le coeficient de gini pour l'age est : 0.17253378068206437\n"
     ]
    }
   ],
   "source": [
    "age_arr = df_all.age\n",
    "age_lorenz_curve = lorenz(age_arr)\n",
    "plot_lorenz_curve(age_lorenz_curve, \"age\")\n",
    "print(\n",
    "    \"Le coeficient de gini pour l'age est : {}\".format(gini(age_arr, age_lorenz_curve))\n",
    ")"
   ]
  },
  {
   "cell_type": "code",
   "execution_count": 255,
   "id": "7c3f235a",
   "metadata": {},
   "outputs": [
    {
     "data": {
      "image/png": "[encoded data removed]",
      "text/plain": [
       "<Figure size 432x288 with 1 Axes>"
      ]
     },
     "metadata": {
      "needs_background": "light"
     },
     "output_type": "display_data"
    },
    {
     "name": "stdout",
     "output_type": "stream",
     "text": [
      "Le coeficient de gini pour la catégorie est : 0.6615699264435175\n"
     ]
    }
   ],
   "source": [
    "categ_arr = df_all.categ\n",
    "categ_lorenz_curve = lorenz(categ_arr)\n",
    "plot_lorenz_curve(categ_lorenz_curve, \"categ\")\n",
    "print(\n",
    "    \"Le coeficient de gini pour la catégorie est : {}\".format(\n",
    "        gini(categ_arr, categ_lorenz_curve)\n",
    "    )\n",
    ")"
   ]
  },
  {
   "cell_type": "markdown",
   "id": "ce388612",
   "metadata": {},
   "source": [
    "## Représentations graphiques "
   ]
  },
  {
   "cell_type": "markdown",
   "id": "d960c44e",
   "metadata": {},
   "source": [
    "### Histogrammes"
   ]
  },
  {
   "cell_type": "code",
   "execution_count": 343,
   "id": "8ad88c18",
   "metadata": {},
   "outputs": [
    {
     "data": {
      "image/png": "[encoded data removed]",
      "text/plain": [
       "<Figure size 432x288 with 4 Axes>"
      ]
     },
     "metadata": {
      "needs_background": "light"
     },
     "output_type": "display_data"
    }
   ],
   "source": [
    "# Visualisation de la distribution pour l'âge, le prix et la catégorie\n",
    "hist = df_all[[\"age\", \"price\", \"categ\"]].hist()\n",
    "plt.savefig(\"histogramme\", dpi=300)\n"
   ]
  },
  {
   "cell_type": "code",
   "execution_count": 344,
   "id": "8fcd2f9e",
   "metadata": {},
   "outputs": [
    {
     "data": {
      "image/png": "[encoded data removed]",
      "text/plain": [
       "<Figure size 432x288 with 1 Axes>"
      ]
     },
     "metadata": {
      "needs_background": "light"
     },
     "output_type": "display_data"
    }
   ],
   "source": [
    "df_all.hist(\"age\", bins=20)\n",
    "plt.savefig(\"histogramme age\", dpi=300)\n"
   ]
  },
  {
   "cell_type": "code",
   "execution_count": 345,
   "id": "742f4b69",
   "metadata": {},
   "outputs": [
    {
     "data": {
      "image/png": "[encoded data removed]",
      "text/plain": [
       "<Figure size 432x288 with 1 Axes>"
      ]
     },
     "metadata": {
      "needs_background": "light"
     },
     "output_type": "display_data"
    }
   ],
   "source": [
    "df_all.hist(\"price\", bins=20)\n",
    "plt.savefig(\"histogramme prix\", dpi=300)\n"
   ]
  },
  {
   "cell_type": "code",
   "execution_count": 346,
   "id": "b78f2382",
   "metadata": {},
   "outputs": [
    {
     "data": {
      "image/png": "[encoded data removed]",
      "text/plain": [
       "<Figure size 432x288 with 1 Axes>"
      ]
     },
     "metadata": {
      "needs_background": "light"
     },
     "output_type": "display_data"
    }
   ],
   "source": [
    "df_all.hist(\"categ\")\n",
    "plt.savefig(\"histogramme categ\", dpi=300)\n"
   ]
  },
  {
   "cell_type": "markdown",
   "id": "ebd94b1f",
   "metadata": {},
   "source": [
    "### Boite à moustache"
   ]
  },
  {
   "cell_type": "code",
   "execution_count": 260,
   "id": "49bae4f8",
   "metadata": {},
   "outputs": [
    {
     "data": {
      "text/plain": [
       "<AxesSubplot:>"
      ]
     },
     "execution_count": 260,
     "metadata": {},
     "output_type": "execute_result"
    },
    {
     "data": {
      "image/png": "[encoded data removed]",
      "text/plain": [
       "<Figure size 432x288 with 1 Axes>"
      ]
     },
     "metadata": {
      "needs_background": "light"
     },
     "output_type": "display_data"
    }
   ],
   "source": [
    "# df_all[['age','price', 'categ']].boxplot()\n",
    "df_all.boxplot(column=[\"age\", \"price\"])"
   ]
  },
  {
   "cell_type": "markdown",
   "id": "2d05a0c4",
   "metadata": {},
   "source": [
    "### Séries temporelle"
   ]
  },
  {
   "cell_type": "code",
   "execution_count": 261,
   "id": "c8326428",
   "metadata": {},
   "outputs": [
    {
     "name": "stdout",
     "output_type": "stream",
     "text": [
      "<class 'pandas.core.frame.DataFrame'>\n",
      "Int64Index: 336816 entries, 0 to 336815\n",
      "Data columns (total 17 columns):\n",
      " #   Column      Non-Null Count   Dtype  \n",
      "---  ------      --------------   -----  \n",
      " 0   id_prod     336816 non-null  object \n",
      " 1   date        336816 non-null  object \n",
      " 2   session_id  336816 non-null  object \n",
      " 3   client_id   336816 non-null  object \n",
      " 4   price       336816 non-null  float64\n",
      " 5   categ       336816 non-null  float64\n",
      " 6   sex         336816 non-null  object \n",
      " 7   birth       336816 non-null  int64  \n",
      " 8   day         336816 non-null  object \n",
      " 9   month       336816 non-null  object \n",
      " 10  hour        336816 non-null  object \n",
      " 11  year        336816 non-null  int64  \n",
      " 12  date_2      336816 non-null  object \n",
      " 13  hours       336816 non-null  object \n",
      " 14  month_year  336816 non-null  object \n",
      " 15  month_num   336816 non-null  object \n",
      " 16  age         336816 non-null  int64  \n",
      "dtypes: float64(2), int64(3), object(12)\n",
      "memory usage: 46.3+ MB\n"
     ]
    }
   ],
   "source": [
    "df_all.info()\n"
   ]
  },
  {
   "cell_type": "code",
   "execution_count": 262,
   "id": "6f6531e8",
   "metadata": {},
   "outputs": [],
   "source": [
    "sell_by_month = df_all.groupby(\"month_year\").sum()\n",
    "sell_by_month[\"date\"] = sell_by_month.index\n",
    "sell_by_month = sell_by_month.sort_index(ascending=False)"
   ]
  },
  {
   "cell_type": "code",
   "execution_count": 362,
   "id": "d0a3e961",
   "metadata": {},
   "outputs": [
    {
     "data": {
      "image/png": "[encoded data removed]",
      "text/plain": [
       "<Figure size 864x432 with 1 Axes>"
      ]
     },
     "metadata": {
      "needs_background": "light"
     },
     "output_type": "display_data"
    },
    {
     "data": {
      "text/plain": [
       "<Figure size 432x288 with 0 Axes>"
      ]
     },
     "metadata": {},
     "output_type": "display_data"
    }
   ],
   "source": [
    "plt.figure(figsize=(12, 6))\n",
    "x = sell_by_month.date\n",
    "y = sell_by_month.price\n",
    "plt.plot(x, y)\n",
    "plt.title(\"Evolution des ventes en fonction du temps\")\n",
    "plt.xlabel(\"mois\")\n",
    "plt.ylabel(\"sommes des ventes\")\n",
    "plt.show()"
   ]
  },
  {
   "cell_type": "markdown",
   "id": "498fc3b4",
   "metadata": {},
   "source": [
    "### Graphique en secteurs"
   ]
  },
  {
   "cell_type": "code",
   "execution_count": 348,
   "id": "5374ac7d",
   "metadata": {},
   "outputs": [
    {
     "data": {
      "image/png": "[encoded data removed]",
      "text/plain": [
       "<Figure size 432x288 with 1 Axes>"
      ]
     },
     "metadata": {},
     "output_type": "display_data"
    }
   ],
   "source": [
    "by_sex = df_all.groupby(\"sex\").sum().plot(kind=\"pie\", y=\"price\")\n",
    "plt.title(\"Dépense des hommes vs des femmes\")\n",
    "plt.savefig(\"Dépense des hommes vs des femmes\", dpi=300)\n"
   ]
  },
  {
   "cell_type": "markdown",
   "id": "d4d83234",
   "metadata": {},
   "source": [
    "### Diagramme en batton "
   ]
  },
  {
   "cell_type": "code",
   "execution_count": 350,
   "id": "04b49f84",
   "metadata": {},
   "outputs": [
    {
     "data": {
      "image/png": "[encoded data removed]",
      "text/plain": [
       "<Figure size 432x288 with 1 Axes>"
      ]
     },
     "metadata": {
      "needs_background": "light"
     },
     "output_type": "display_data"
    },
    {
     "data": {
      "image/png": "[encoded data removed]",
      "text/plain": [
       "<Figure size 432x288 with 1 Axes>"
      ]
     },
     "metadata": {
      "needs_background": "light"
     },
     "output_type": "display_data"
    }
   ],
   "source": [
    "df_all.plot.scatter(x=\"categ\", y=\"age\")\n",
    "plt.savefig(\"Diagramme categ vs age\", dpi=300)\n",
    "df_all.plot.scatter(y=\"price\", x=\"age\")\n",
    "plt.savefig(\"Diagramme price vs age\", dpi=300)\n"
   ]
  },
  {
   "cell_type": "markdown",
   "id": "49b52a47",
   "metadata": {},
   "source": [
    "## Analyses bivariées"
   ]
  },
  {
   "cell_type": "code",
   "execution_count": 351,
   "id": "04e95959",
   "metadata": {},
   "outputs": [
    {
     "data": {
      "image/png": "[encoded data removed]",
      "text/plain": [
       "<Figure size 432x288 with 2 Axes>"
      ]
     },
     "metadata": {
      "needs_background": "light"
     },
     "output_type": "display_data"
    }
   ],
   "source": [
    "# heatmap des corrélations, qui permet de voir les relations entre les variables quantitatives\n",
    "corr = df_all.corr()\n",
    "sns.heatmap(corr)\n",
    "plt.savefig(\"heatmap corrélation\", dpi=300)\n"
   ]
  },
  {
   "cell_type": "code",
   "execution_count": 267,
   "id": "0da2e0c2",
   "metadata": {},
   "outputs": [
    {
     "data": {
      "text/html": [
       "<div>\n",
       "<style scoped>\n",
       "    .dataframe tbody tr th:only-of-type {\n",
       "        vertical-align: middle;\n",
       "    }\n",
       "\n",
       "    .dataframe tbody tr th {\n",
       "        vertical-align: top;\n",
       "    }\n",
       "\n",
       "    .dataframe thead th {\n",
       "        text-align: right;\n",
       "    }\n",
       "</style>\n",
       "<table border=\"1\" class=\"dataframe\">\n",
       "  <thead>\n",
       "    <tr style=\"text-align: right;\">\n",
       "      <th></th>\n",
       "      <th>price</th>\n",
       "      <th>categ</th>\n",
       "      <th>birth</th>\n",
       "      <th>year</th>\n",
       "      <th>age</th>\n",
       "    </tr>\n",
       "  </thead>\n",
       "  <tbody>\n",
       "    <tr>\n",
       "      <th>price</th>\n",
       "      <td>1.000000</td>\n",
       "      <td>0.673305</td>\n",
       "      <td>0.211505</td>\n",
       "      <td>0.018517</td>\n",
       "      <td>-0.210857</td>\n",
       "    </tr>\n",
       "    <tr>\n",
       "      <th>categ</th>\n",
       "      <td>0.673305</td>\n",
       "      <td>1.000000</td>\n",
       "      <td>0.098602</td>\n",
       "      <td>0.054330</td>\n",
       "      <td>-0.097018</td>\n",
       "    </tr>\n",
       "    <tr>\n",
       "      <th>birth</th>\n",
       "      <td>0.211505</td>\n",
       "      <td>0.098602</td>\n",
       "      <td>1.000000</td>\n",
       "      <td>-0.007475</td>\n",
       "      <td>-0.999606</td>\n",
       "    </tr>\n",
       "    <tr>\n",
       "      <th>year</th>\n",
       "      <td>0.018517</td>\n",
       "      <td>0.054330</td>\n",
       "      <td>-0.007475</td>\n",
       "      <td>1.000000</td>\n",
       "      <td>0.035538</td>\n",
       "    </tr>\n",
       "    <tr>\n",
       "      <th>age</th>\n",
       "      <td>-0.210857</td>\n",
       "      <td>-0.097018</td>\n",
       "      <td>-0.999606</td>\n",
       "      <td>0.035538</td>\n",
       "      <td>1.000000</td>\n",
       "    </tr>\n",
       "  </tbody>\n",
       "</table>\n",
       "</div>"
      ],
      "text/plain": [
       "          price     categ     birth      year       age\n",
       "price  1.000000  0.673305  0.211505  0.018517 -0.210857\n",
       "categ  0.673305  1.000000  0.098602  0.054330 -0.097018\n",
       "birth  0.211505  0.098602  1.000000 -0.007475 -0.999606\n",
       "year   0.018517  0.054330 -0.007475  1.000000  0.035538\n",
       "age   -0.210857 -0.097018 -0.999606  0.035538  1.000000"
      ]
     },
     "execution_count": 267,
     "metadata": {},
     "output_type": "execute_result"
    }
   ],
   "source": [
    "df_all.corr()\n"
   ]
  },
  {
   "cell_type": "code",
   "execution_count": 268,
   "id": "94d7363f",
   "metadata": {},
   "outputs": [
    {
     "data": {
      "text/html": [
       "<div>\n",
       "<style scoped>\n",
       "    .dataframe tbody tr th:only-of-type {\n",
       "        vertical-align: middle;\n",
       "    }\n",
       "\n",
       "    .dataframe tbody tr th {\n",
       "        vertical-align: top;\n",
       "    }\n",
       "\n",
       "    .dataframe thead th {\n",
       "        text-align: right;\n",
       "    }\n",
       "</style>\n",
       "<table border=\"1\" class=\"dataframe\">\n",
       "  <thead>\n",
       "    <tr style=\"text-align: right;\">\n",
       "      <th></th>\n",
       "      <th>feature_1</th>\n",
       "      <th>feature_2</th>\n",
       "      <th>correlation</th>\n",
       "    </tr>\n",
       "  </thead>\n",
       "  <tbody>\n",
       "    <tr>\n",
       "      <th>5</th>\n",
       "      <td>categ</td>\n",
       "      <td>price</td>\n",
       "      <td>0.673305</td>\n",
       "    </tr>\n",
       "    <tr>\n",
       "      <th>1</th>\n",
       "      <td>price</td>\n",
       "      <td>categ</td>\n",
       "      <td>0.673305</td>\n",
       "    </tr>\n",
       "    <tr>\n",
       "      <th>10</th>\n",
       "      <td>birth</td>\n",
       "      <td>price</td>\n",
       "      <td>0.211505</td>\n",
       "    </tr>\n",
       "    <tr>\n",
       "      <th>2</th>\n",
       "      <td>price</td>\n",
       "      <td>birth</td>\n",
       "      <td>0.211505</td>\n",
       "    </tr>\n",
       "    <tr>\n",
       "      <th>7</th>\n",
       "      <td>categ</td>\n",
       "      <td>birth</td>\n",
       "      <td>0.098602</td>\n",
       "    </tr>\n",
       "    <tr>\n",
       "      <th>11</th>\n",
       "      <td>birth</td>\n",
       "      <td>categ</td>\n",
       "      <td>0.098602</td>\n",
       "    </tr>\n",
       "    <tr>\n",
       "      <th>8</th>\n",
       "      <td>categ</td>\n",
       "      <td>year</td>\n",
       "      <td>0.054330</td>\n",
       "    </tr>\n",
       "    <tr>\n",
       "      <th>16</th>\n",
       "      <td>year</td>\n",
       "      <td>categ</td>\n",
       "      <td>0.054330</td>\n",
       "    </tr>\n",
       "    <tr>\n",
       "      <th>19</th>\n",
       "      <td>year</td>\n",
       "      <td>age</td>\n",
       "      <td>0.035538</td>\n",
       "    </tr>\n",
       "    <tr>\n",
       "      <th>23</th>\n",
       "      <td>age</td>\n",
       "      <td>year</td>\n",
       "      <td>0.035538</td>\n",
       "    </tr>\n",
       "    <tr>\n",
       "      <th>3</th>\n",
       "      <td>price</td>\n",
       "      <td>year</td>\n",
       "      <td>0.018517</td>\n",
       "    </tr>\n",
       "    <tr>\n",
       "      <th>15</th>\n",
       "      <td>year</td>\n",
       "      <td>price</td>\n",
       "      <td>0.018517</td>\n",
       "    </tr>\n",
       "    <tr>\n",
       "      <th>13</th>\n",
       "      <td>birth</td>\n",
       "      <td>year</td>\n",
       "      <td>-0.007475</td>\n",
       "    </tr>\n",
       "    <tr>\n",
       "      <th>17</th>\n",
       "      <td>year</td>\n",
       "      <td>birth</td>\n",
       "      <td>-0.007475</td>\n",
       "    </tr>\n",
       "    <tr>\n",
       "      <th>9</th>\n",
       "      <td>categ</td>\n",
       "      <td>age</td>\n",
       "      <td>-0.097018</td>\n",
       "    </tr>\n",
       "    <tr>\n",
       "      <th>21</th>\n",
       "      <td>age</td>\n",
       "      <td>categ</td>\n",
       "      <td>-0.097018</td>\n",
       "    </tr>\n",
       "    <tr>\n",
       "      <th>4</th>\n",
       "      <td>price</td>\n",
       "      <td>age</td>\n",
       "      <td>-0.210857</td>\n",
       "    </tr>\n",
       "    <tr>\n",
       "      <th>20</th>\n",
       "      <td>age</td>\n",
       "      <td>price</td>\n",
       "      <td>-0.210857</td>\n",
       "    </tr>\n",
       "    <tr>\n",
       "      <th>22</th>\n",
       "      <td>age</td>\n",
       "      <td>birth</td>\n",
       "      <td>-0.999606</td>\n",
       "    </tr>\n",
       "    <tr>\n",
       "      <th>14</th>\n",
       "      <td>birth</td>\n",
       "      <td>age</td>\n",
       "      <td>-0.999606</td>\n",
       "    </tr>\n",
       "  </tbody>\n",
       "</table>\n",
       "</div>"
      ],
      "text/plain": [
       "   feature_1 feature_2  correlation\n",
       "5      categ     price     0.673305\n",
       "1      price     categ     0.673305\n",
       "10     birth     price     0.211505\n",
       "2      price     birth     0.211505\n",
       "7      categ     birth     0.098602\n",
       "11     birth     categ     0.098602\n",
       "8      categ      year     0.054330\n",
       "16      year     categ     0.054330\n",
       "19      year       age     0.035538\n",
       "23       age      year     0.035538\n",
       "3      price      year     0.018517\n",
       "15      year     price     0.018517\n",
       "13     birth      year    -0.007475\n",
       "17      year     birth    -0.007475\n",
       "9      categ       age    -0.097018\n",
       "21       age     categ    -0.097018\n",
       "4      price       age    -0.210857\n",
       "20       age     price    -0.210857\n",
       "22       age     birth    -0.999606\n",
       "14     birth       age    -0.999606"
      ]
     },
     "execution_count": 268,
     "metadata": {},
     "output_type": "execute_result"
    }
   ],
   "source": [
    "corr_df = corr.unstack().reset_index()\n",
    "corr_df.columns = [\"feature_1\", \"feature_2\", \"correlation\"]\n",
    "corr_df.sort_values(by=\"correlation\", ascending=False, inplace=True)\n",
    "corr_df = corr_df[corr_df[\"feature_1\"] != corr_df[\"feature_2\"]]\n",
    "corr_df"
   ]
  },
  {
   "cell_type": "markdown",
   "id": "1f0ee7cf",
   "metadata": {},
   "source": [
    "# Mission n° 3 : Corrélations"
   ]
  },
  {
   "cell_type": "markdown",
   "id": "57cae970",
   "metadata": {},
   "source": [
    "## 1. Y a-t-il une corrélation entre le sexe des clients et les catégories de produits achetés ?"
   ]
  },
  {
   "cell_type": "code",
   "execution_count": 269,
   "id": "28478c1a",
   "metadata": {},
   "outputs": [],
   "source": [
    "# Création d'une nouvelle colonne pour mettre les valeurs de la colonne sex de string en numérique :\n",
    "def gender(x):\n",
    "    if \"m\" in x:\n",
    "        return 0\n",
    "    elif \"f\" in x:\n",
    "        return 1\n",
    "\n",
    "\n",
    "df_all[\"sex_num\"] = df_all[\"sex\"].apply(gender)"
   ]
  },
  {
   "cell_type": "code",
   "execution_count": 270,
   "id": "abd70b36",
   "metadata": {},
   "outputs": [
    {
     "name": "stdout",
     "output_type": "stream",
     "text": [
      "Le coefficent de corrélation entre la colonne sexe et categ est de -0.0007262808446083062, ce score est proche de 0, il n'y a pas de corrélation\n"
     ]
    }
   ],
   "source": [
    "print(\n",
    "    \"Le coefficent de corrélation entre la colonne sexe et categ est de {}, ce score est proche de 0, il n'y a pas de corrélation\".format(\n",
    "        df_all.sex_num.corr(df_all.categ)\n",
    "    )\n",
    ")\n"
   ]
  },
  {
   "cell_type": "code",
   "execution_count": 271,
   "id": "95aee6ac",
   "metadata": {},
   "outputs": [
    {
     "data": {
      "text/html": [
       "<div>\n",
       "<style scoped>\n",
       "    .dataframe tbody tr th:only-of-type {\n",
       "        vertical-align: middle;\n",
       "    }\n",
       "\n",
       "    .dataframe tbody tr th {\n",
       "        vertical-align: top;\n",
       "    }\n",
       "\n",
       "    .dataframe thead th {\n",
       "        text-align: right;\n",
       "    }\n",
       "</style>\n",
       "<table border=\"1\" class=\"dataframe\">\n",
       "  <thead>\n",
       "    <tr style=\"text-align: right;\">\n",
       "      <th></th>\n",
       "      <th>categ</th>\n",
       "      <th>price</th>\n",
       "      <th>birth</th>\n",
       "      <th>year</th>\n",
       "      <th>age</th>\n",
       "      <th>sex_num</th>\n",
       "    </tr>\n",
       "  </thead>\n",
       "  <tbody>\n",
       "    <tr>\n",
       "      <th>0</th>\n",
       "      <td>0.0</td>\n",
       "      <td>10.650057</td>\n",
       "      <td>1978.101867</td>\n",
       "      <td>2021.155869</td>\n",
       "      <td>43.054002</td>\n",
       "      <td>0.495616</td>\n",
       "    </tr>\n",
       "    <tr>\n",
       "      <th>1</th>\n",
       "      <td>1.0</td>\n",
       "      <td>20.480106</td>\n",
       "      <td>1974.340876</td>\n",
       "      <td>2021.209769</td>\n",
       "      <td>46.868893</td>\n",
       "      <td>0.505481</td>\n",
       "    </tr>\n",
       "    <tr>\n",
       "      <th>2</th>\n",
       "      <td>2.0</td>\n",
       "      <td>75.174949</td>\n",
       "      <td>1996.271821</td>\n",
       "      <td>2021.182600</td>\n",
       "      <td>24.910779</td>\n",
       "      <td>0.470602</td>\n",
       "    </tr>\n",
       "  </tbody>\n",
       "</table>\n",
       "</div>"
      ],
      "text/plain": [
       "   categ      price        birth         year        age   sex_num\n",
       "0    0.0  10.650057  1978.101867  2021.155869  43.054002  0.495616\n",
       "1    1.0  20.480106  1974.340876  2021.209769  46.868893  0.505481\n",
       "2    2.0  75.174949  1996.271821  2021.182600  24.910779  0.470602"
      ]
     },
     "execution_count": 271,
     "metadata": {},
     "output_type": "execute_result"
    }
   ],
   "source": [
    "# Création d'un dataframe regroupant les valeurs par categ\n",
    "by_categ = df_all.groupby(\"categ\").mean().reset_index()\n",
    "by_categ"
   ]
  },
  {
   "cell_type": "code",
   "execution_count": 352,
   "id": "d7a253ad",
   "metadata": {},
   "outputs": [
    {
     "data": {
      "image/png": "[encoded data removed]",
      "text/plain": [
       "<Figure size 432x288 with 1 Axes>"
      ]
     },
     "metadata": {
      "needs_background": "light"
     },
     "output_type": "display_data"
    }
   ],
   "source": [
    "# Visualisation de la répartition du sexe en fonction de la categ\n",
    "by_categ.plot.bar(x=\"categ\", y=\"sex_num\", legend=False)\n",
    "plt.title(\"Répartition du sexe du client en fonction de la catégorie du produit\")\n",
    "plt.xlabel(\"catégorie du produit\")\n",
    "plt.ylabel(\"moyenne m/f\")\n",
    "plt.savefig(\n",
    "    \"Répartition du sexe du client en fonction de la catégorie du produit\", dpi=300\n",
    ")"
   ]
  },
  {
   "cell_type": "markdown",
   "id": "124133e8",
   "metadata": {},
   "source": [
    "Sur ce graphique on visualise que le sexe n'a pas beaucoup d'inpact sur la catégorie (une valeur de 0.5 correpond à une égalité entre les femmes et les homes, une valeur qui tend vers 1 correpond à une plus forte proportionalité de femmes et une valeur qui tend vers 0 correpond à une plus forte proportionalité d'homme)."
   ]
  },
  {
   "cell_type": "markdown",
   "id": "7f131f0d",
   "metadata": {},
   "source": [
    "## 2. Corrélations"
   ]
  },
  {
   "cell_type": "markdown",
   "id": "c543a170",
   "metadata": {},
   "source": [
    "### 2.1 Y a-t-il une corrélation entre l'âge des clients et le montant total des achats"
   ]
  },
  {
   "cell_type": "code",
   "execution_count": 278,
   "id": "37a0b84f",
   "metadata": {},
   "outputs": [
    {
     "data": {
      "text/html": [
       "<div>\n",
       "<style scoped>\n",
       "    .dataframe tbody tr th:only-of-type {\n",
       "        vertical-align: middle;\n",
       "    }\n",
       "\n",
       "    .dataframe tbody tr th {\n",
       "        vertical-align: top;\n",
       "    }\n",
       "\n",
       "    .dataframe thead th {\n",
       "        text-align: right;\n",
       "    }\n",
       "</style>\n",
       "<table border=\"1\" class=\"dataframe\">\n",
       "  <thead>\n",
       "    <tr style=\"text-align: right;\">\n",
       "      <th></th>\n",
       "      <th>client_id</th>\n",
       "      <th>montant_total_achats</th>\n",
       "      <th>age</th>\n",
       "    </tr>\n",
       "  </thead>\n",
       "  <tbody>\n",
       "    <tr>\n",
       "      <th>0</th>\n",
       "      <td>c_1</td>\n",
       "      <td>300.65</td>\n",
       "      <td>66.050000</td>\n",
       "    </tr>\n",
       "    <tr>\n",
       "      <th>1</th>\n",
       "      <td>c_10</td>\n",
       "      <td>586.18</td>\n",
       "      <td>65.000000</td>\n",
       "    </tr>\n",
       "    <tr>\n",
       "      <th>2</th>\n",
       "      <td>c_100</td>\n",
       "      <td>222.87</td>\n",
       "      <td>29.000000</td>\n",
       "    </tr>\n",
       "    <tr>\n",
       "      <th>3</th>\n",
       "      <td>c_1000</td>\n",
       "      <td>980.02</td>\n",
       "      <td>55.250000</td>\n",
       "    </tr>\n",
       "    <tr>\n",
       "      <th>4</th>\n",
       "      <td>c_1001</td>\n",
       "      <td>1102.45</td>\n",
       "      <td>39.155172</td>\n",
       "    </tr>\n",
       "    <tr>\n",
       "      <th>...</th>\n",
       "      <td>...</td>\n",
       "      <td>...</td>\n",
       "      <td>...</td>\n",
       "    </tr>\n",
       "    <tr>\n",
       "      <th>8595</th>\n",
       "      <td>c_995</td>\n",
       "      <td>119.08</td>\n",
       "      <td>66.000000</td>\n",
       "    </tr>\n",
       "    <tr>\n",
       "      <th>8596</th>\n",
       "      <td>c_996</td>\n",
       "      <td>739.60</td>\n",
       "      <td>51.095238</td>\n",
       "    </tr>\n",
       "    <tr>\n",
       "      <th>8597</th>\n",
       "      <td>c_997</td>\n",
       "      <td>572.89</td>\n",
       "      <td>27.173913</td>\n",
       "    </tr>\n",
       "    <tr>\n",
       "      <th>8598</th>\n",
       "      <td>c_998</td>\n",
       "      <td>1527.69</td>\n",
       "      <td>20.142857</td>\n",
       "    </tr>\n",
       "    <tr>\n",
       "      <th>8599</th>\n",
       "      <td>c_999</td>\n",
       "      <td>305.00</td>\n",
       "      <td>57.227273</td>\n",
       "    </tr>\n",
       "  </tbody>\n",
       "</table>\n",
       "<p>8600 rows × 3 columns</p>\n",
       "</div>"
      ],
      "text/plain": [
       "     client_id  montant_total_achats        age\n",
       "0          c_1                300.65  66.050000\n",
       "1         c_10                586.18  65.000000\n",
       "2        c_100                222.87  29.000000\n",
       "3       c_1000                980.02  55.250000\n",
       "4       c_1001               1102.45  39.155172\n",
       "...        ...                   ...        ...\n",
       "8595     c_995                119.08  66.000000\n",
       "8596     c_996                739.60  51.095238\n",
       "8597     c_997                572.89  27.173913\n",
       "8598     c_998               1527.69  20.142857\n",
       "8599     c_999                305.00  57.227273\n",
       "\n",
       "[8600 rows x 3 columns]"
      ]
     },
     "execution_count": 278,
     "metadata": {},
     "output_type": "execute_result"
    }
   ],
   "source": [
    "# Création d'un dataframe regroupant les valeurs par clients\n",
    "by_client = (\n",
    "    df_all.groupby(\"client_id\").agg({\"price\": sum, \"age\": np.mean}).reset_index()\n",
    ")\n",
    "by_client.rename(columns={\"price\": \"montant_total_achats\"}, inplace=True)\n",
    "by_client"
   ]
  },
  {
   "cell_type": "code",
   "execution_count": 279,
   "id": "7d9313aa",
   "metadata": {},
   "outputs": [
    {
     "data": {
      "text/plain": [
       "Text(0.5, 1.0, 'Dispersion du montant total des achats par client ')"
      ]
     },
     "execution_count": 279,
     "metadata": {},
     "output_type": "execute_result"
    },
    {
     "data": {
      "image/png": "[encoded data removed]",
      "text/plain": [
       "<Figure size 432x288 with 1 Axes>"
      ]
     },
     "metadata": {
      "needs_background": "light"
     },
     "output_type": "display_data"
    }
   ],
   "source": [
    "# Répartition du montant total des achats par client\n",
    "by_client.boxplot(\"montant_total_achats\")\n",
    "plt.title(\"Dispersion du montant total des achats par client \")\n"
   ]
  },
  {
   "cell_type": "markdown",
   "id": "6640f266",
   "metadata": {},
   "source": [
    "Ici on peut voir que 4 clients sortent du lot dans leur montant total d'achat."
   ]
  },
  {
   "cell_type": "code",
   "execution_count": 280,
   "id": "7303f342",
   "metadata": {},
   "outputs": [
    {
     "data": {
      "text/html": [
       "<div>\n",
       "<style scoped>\n",
       "    .dataframe tbody tr th:only-of-type {\n",
       "        vertical-align: middle;\n",
       "    }\n",
       "\n",
       "    .dataframe tbody tr th {\n",
       "        vertical-align: top;\n",
       "    }\n",
       "\n",
       "    .dataframe thead th {\n",
       "        text-align: right;\n",
       "    }\n",
       "</style>\n",
       "<table border=\"1\" class=\"dataframe\">\n",
       "  <thead>\n",
       "    <tr style=\"text-align: right;\">\n",
       "      <th></th>\n",
       "      <th>client_id</th>\n",
       "      <th>montant_total_achats</th>\n",
       "      <th>age</th>\n",
       "    </tr>\n",
       "  </thead>\n",
       "  <tbody>\n",
       "    <tr>\n",
       "      <th>0</th>\n",
       "      <td>c_1</td>\n",
       "      <td>300.65</td>\n",
       "      <td>66.050000</td>\n",
       "    </tr>\n",
       "    <tr>\n",
       "      <th>1</th>\n",
       "      <td>c_10</td>\n",
       "      <td>586.18</td>\n",
       "      <td>65.000000</td>\n",
       "    </tr>\n",
       "    <tr>\n",
       "      <th>2</th>\n",
       "      <td>c_100</td>\n",
       "      <td>222.87</td>\n",
       "      <td>29.000000</td>\n",
       "    </tr>\n",
       "    <tr>\n",
       "      <th>3</th>\n",
       "      <td>c_1000</td>\n",
       "      <td>980.02</td>\n",
       "      <td>55.250000</td>\n",
       "    </tr>\n",
       "    <tr>\n",
       "      <th>4</th>\n",
       "      <td>c_1001</td>\n",
       "      <td>1102.45</td>\n",
       "      <td>39.155172</td>\n",
       "    </tr>\n",
       "    <tr>\n",
       "      <th>...</th>\n",
       "      <td>...</td>\n",
       "      <td>...</td>\n",
       "      <td>...</td>\n",
       "    </tr>\n",
       "    <tr>\n",
       "      <th>8595</th>\n",
       "      <td>c_995</td>\n",
       "      <td>119.08</td>\n",
       "      <td>66.000000</td>\n",
       "    </tr>\n",
       "    <tr>\n",
       "      <th>8596</th>\n",
       "      <td>c_996</td>\n",
       "      <td>739.60</td>\n",
       "      <td>51.095238</td>\n",
       "    </tr>\n",
       "    <tr>\n",
       "      <th>8597</th>\n",
       "      <td>c_997</td>\n",
       "      <td>572.89</td>\n",
       "      <td>27.173913</td>\n",
       "    </tr>\n",
       "    <tr>\n",
       "      <th>8598</th>\n",
       "      <td>c_998</td>\n",
       "      <td>1527.69</td>\n",
       "      <td>20.142857</td>\n",
       "    </tr>\n",
       "    <tr>\n",
       "      <th>8599</th>\n",
       "      <td>c_999</td>\n",
       "      <td>305.00</td>\n",
       "      <td>57.227273</td>\n",
       "    </tr>\n",
       "  </tbody>\n",
       "</table>\n",
       "<p>8596 rows × 3 columns</p>\n",
       "</div>"
      ],
      "text/plain": [
       "     client_id  montant_total_achats        age\n",
       "0          c_1                300.65  66.050000\n",
       "1         c_10                586.18  65.000000\n",
       "2        c_100                222.87  29.000000\n",
       "3       c_1000                980.02  55.250000\n",
       "4       c_1001               1102.45  39.155172\n",
       "...        ...                   ...        ...\n",
       "8595     c_995                119.08  66.000000\n",
       "8596     c_996                739.60  51.095238\n",
       "8597     c_997                572.89  27.173913\n",
       "8598     c_998               1527.69  20.142857\n",
       "8599     c_999                305.00  57.227273\n",
       "\n",
       "[8596 rows x 3 columns]"
      ]
     },
     "execution_count": 280,
     "metadata": {},
     "output_type": "execute_result"
    }
   ],
   "source": [
    "client_depensier = by_client[by_client[\"montant_total_achats\"] > 20000].index\n",
    "# Delete these row indexes from dataFrame\n",
    "by_client.drop(client_depensier, inplace=True)\n",
    "by_client\n"
   ]
  },
  {
   "cell_type": "code",
   "execution_count": 353,
   "id": "e8b6edbe",
   "metadata": {},
   "outputs": [
    {
     "data": {
      "image/png": "[encoded data removed]",
      "text/plain": [
       "<Figure size 432x288 with 1 Axes>"
      ]
     },
     "metadata": {
      "needs_background": "light"
     },
     "output_type": "display_data"
    }
   ],
   "source": [
    "plt.scatter(x=by_client.age, y=by_client.montant_total_achats)\n",
    "plt.savefig(\"montant total en fonction de l'age\", dpi=300)\n"
   ]
  },
  {
   "cell_type": "markdown",
   "id": "822bf539",
   "metadata": {},
   "source": [
    "On peut voir que après 50 ans les clients dépensent moins."
   ]
  },
  {
   "cell_type": "code",
   "execution_count": 282,
   "id": "e3a21f27",
   "metadata": {},
   "outputs": [
    {
     "name": "stdout",
     "output_type": "stream",
     "text": [
      "Le coefficent de corrélation entre la colonne age et montant total des achats est de -0.1903031649286569, ce score est proche de 0, il n'y a pas forte de corrélation\n"
     ]
    }
   ],
   "source": [
    "print(\n",
    "    \"Le coefficent de corrélation entre la colonne age et montant total des achats est de {}, ce score est proche de 0, il n'y a pas forte de corrélation\".format(\n",
    "        by_client.age.corr(by_client.montant_total_achats)\n",
    "    )\n",
    ")\n"
   ]
  },
  {
   "cell_type": "markdown",
   "id": "11ce8ef4",
   "metadata": {},
   "source": [
    "### 2.2 Y a-t-il une corrélation entre l'âge des clients et la fréquence d’achat (ie. nombre d'achats par mois par exemple)"
   ]
  },
  {
   "cell_type": "code",
   "execution_count": 338,
   "id": "24a8741d",
   "metadata": {},
   "outputs": [
    {
     "data": {
      "text/html": [
       "<div>\n",
       "<style scoped>\n",
       "    .dataframe tbody tr th:only-of-type {\n",
       "        vertical-align: middle;\n",
       "    }\n",
       "\n",
       "    .dataframe tbody tr th {\n",
       "        vertical-align: top;\n",
       "    }\n",
       "\n",
       "    .dataframe thead th {\n",
       "        text-align: right;\n",
       "    }\n",
       "</style>\n",
       "<table border=\"1\" class=\"dataframe\">\n",
       "  <thead>\n",
       "    <tr style=\"text-align: right;\">\n",
       "      <th></th>\n",
       "      <th>age</th>\n",
       "      <th>month_num</th>\n",
       "      <th>price</th>\n",
       "    </tr>\n",
       "  </thead>\n",
       "  <tbody>\n",
       "    <tr>\n",
       "      <th>0</th>\n",
       "      <td>17</td>\n",
       "      <td>03</td>\n",
       "      <td>37.236376</td>\n",
       "    </tr>\n",
       "    <tr>\n",
       "      <th>1</th>\n",
       "      <td>17</td>\n",
       "      <td>04</td>\n",
       "      <td>43.179862</td>\n",
       "    </tr>\n",
       "    <tr>\n",
       "      <th>2</th>\n",
       "      <td>17</td>\n",
       "      <td>05</td>\n",
       "      <td>42.065232</td>\n",
       "    </tr>\n",
       "    <tr>\n",
       "      <th>3</th>\n",
       "      <td>17</td>\n",
       "      <td>06</td>\n",
       "      <td>39.962853</td>\n",
       "    </tr>\n",
       "    <tr>\n",
       "      <th>4</th>\n",
       "      <td>17</td>\n",
       "      <td>07</td>\n",
       "      <td>45.513201</td>\n",
       "    </tr>\n",
       "    <tr>\n",
       "      <th>...</th>\n",
       "      <td>...</td>\n",
       "      <td>...</td>\n",
       "      <td>...</td>\n",
       "    </tr>\n",
       "    <tr>\n",
       "      <th>907</th>\n",
       "      <td>92</td>\n",
       "      <td>10</td>\n",
       "      <td>12.385000</td>\n",
       "    </tr>\n",
       "    <tr>\n",
       "      <th>908</th>\n",
       "      <td>92</td>\n",
       "      <td>11</td>\n",
       "      <td>13.202500</td>\n",
       "    </tr>\n",
       "    <tr>\n",
       "      <th>909</th>\n",
       "      <td>92</td>\n",
       "      <td>12</td>\n",
       "      <td>16.790000</td>\n",
       "    </tr>\n",
       "    <tr>\n",
       "      <th>910</th>\n",
       "      <td>93</td>\n",
       "      <td>01</td>\n",
       "      <td>17.160000</td>\n",
       "    </tr>\n",
       "    <tr>\n",
       "      <th>911</th>\n",
       "      <td>93</td>\n",
       "      <td>02</td>\n",
       "      <td>16.451818</td>\n",
       "    </tr>\n",
       "  </tbody>\n",
       "</table>\n",
       "<p>912 rows × 3 columns</p>\n",
       "</div>"
      ],
      "text/plain": [
       "     age month_num      price\n",
       "0     17        03  37.236376\n",
       "1     17        04  43.179862\n",
       "2     17        05  42.065232\n",
       "3     17        06  39.962853\n",
       "4     17        07  45.513201\n",
       "..   ...       ...        ...\n",
       "907   92        10  12.385000\n",
       "908   92        11  13.202500\n",
       "909   92        12  16.790000\n",
       "910   93        01  17.160000\n",
       "911   93        02  16.451818\n",
       "\n",
       "[912 rows x 3 columns]"
      ]
     },
     "execution_count": 338,
     "metadata": {},
     "output_type": "execute_result"
    }
   ],
   "source": [
    "by_age = df_all.groupby([\"age\", \"month_num\"]).agg({\"price\": \"mean\"}).reset_index()\n",
    "by_age\n"
   ]
  },
  {
   "cell_type": "markdown",
   "id": "265ff8b5",
   "metadata": {},
   "source": [
    "### 2.3 Y a-t-il une corrélation entre l'âge des clients et La taille du panier moyen (en nombre d’articles)"
   ]
  },
  {
   "cell_type": "code",
   "execution_count": 327,
   "id": "7fc8c76d",
   "metadata": {},
   "outputs": [
    {
     "data": {
      "text/plain": [
       "<AxesSubplot:>"
      ]
     },
     "execution_count": 327,
     "metadata": {},
     "output_type": "execute_result"
    },
    {
     "data": {
      "image/png": "[encoded data removed]",
      "text/plain": [
       "<Figure size 432x288 with 1 Axes>"
      ]
     },
     "metadata": {
      "needs_background": "light"
     },
     "output_type": "display_data"
    }
   ],
   "source": [
    "by_session = (\n",
    "    df_all.groupby([\"session_id\"]).agg({\"price\": \"count\", \"age\": \"mean\"}).reset_index()\n",
    ")\n",
    "by_session.rename(columns={\"price\": \"taille_panier\"}, inplace=True)\n",
    "by_session.boxplot(\"taille_panier\")"
   ]
  },
  {
   "cell_type": "code",
   "execution_count": 328,
   "id": "a5644a4c",
   "metadata": {},
   "outputs": [
    {
     "data": {
      "text/html": [
       "<div>\n",
       "<style scoped>\n",
       "    .dataframe tbody tr th:only-of-type {\n",
       "        vertical-align: middle;\n",
       "    }\n",
       "\n",
       "    .dataframe tbody tr th {\n",
       "        vertical-align: top;\n",
       "    }\n",
       "\n",
       "    .dataframe thead th {\n",
       "        text-align: right;\n",
       "    }\n",
       "</style>\n",
       "<table border=\"1\" class=\"dataframe\">\n",
       "  <thead>\n",
       "    <tr style=\"text-align: right;\">\n",
       "      <th></th>\n",
       "      <th>age</th>\n",
       "      <th>taille_panier</th>\n",
       "    </tr>\n",
       "  </thead>\n",
       "  <tbody>\n",
       "    <tr>\n",
       "      <th>0</th>\n",
       "      <td>17.0</td>\n",
       "      <td>1.740675</td>\n",
       "    </tr>\n",
       "    <tr>\n",
       "      <th>1</th>\n",
       "      <td>18.0</td>\n",
       "      <td>1.758242</td>\n",
       "    </tr>\n",
       "    <tr>\n",
       "      <th>2</th>\n",
       "      <td>19.0</td>\n",
       "      <td>1.757075</td>\n",
       "    </tr>\n",
       "    <tr>\n",
       "      <th>3</th>\n",
       "      <td>20.0</td>\n",
       "      <td>1.728270</td>\n",
       "    </tr>\n",
       "    <tr>\n",
       "      <th>4</th>\n",
       "      <td>21.0</td>\n",
       "      <td>1.791032</td>\n",
       "    </tr>\n",
       "    <tr>\n",
       "      <th>...</th>\n",
       "      <td>...</td>\n",
       "      <td>...</td>\n",
       "    </tr>\n",
       "    <tr>\n",
       "      <th>75</th>\n",
       "      <td>89.0</td>\n",
       "      <td>1.552632</td>\n",
       "    </tr>\n",
       "    <tr>\n",
       "      <th>76</th>\n",
       "      <td>90.0</td>\n",
       "      <td>1.557377</td>\n",
       "    </tr>\n",
       "    <tr>\n",
       "      <th>77</th>\n",
       "      <td>91.0</td>\n",
       "      <td>1.766667</td>\n",
       "    </tr>\n",
       "    <tr>\n",
       "      <th>78</th>\n",
       "      <td>92.0</td>\n",
       "      <td>1.287879</td>\n",
       "    </tr>\n",
       "    <tr>\n",
       "      <th>79</th>\n",
       "      <td>93.0</td>\n",
       "      <td>1.437500</td>\n",
       "    </tr>\n",
       "  </tbody>\n",
       "</table>\n",
       "<p>80 rows × 2 columns</p>\n",
       "</div>"
      ],
      "text/plain": [
       "     age  taille_panier\n",
       "0   17.0       1.740675\n",
       "1   18.0       1.758242\n",
       "2   19.0       1.757075\n",
       "3   20.0       1.728270\n",
       "4   21.0       1.791032\n",
       "..   ...            ...\n",
       "75  89.0       1.552632\n",
       "76  90.0       1.557377\n",
       "77  91.0       1.766667\n",
       "78  92.0       1.287879\n",
       "79  93.0       1.437500\n",
       "\n",
       "[80 rows x 2 columns]"
      ]
     },
     "execution_count": 328,
     "metadata": {},
     "output_type": "execute_result"
    }
   ],
   "source": [
    "by_session_age = (\n",
    "    by_session.groupby([\"age\"]).agg({\"taille_panier\": \"mean\"}).reset_index()\n",
    ")\n",
    "by_session_age"
   ]
  },
  {
   "cell_type": "code",
   "execution_count": 354,
   "id": "8957641a",
   "metadata": {},
   "outputs": [
    {
     "data": {
      "image/png": "[encoded data removed]",
      "text/plain": [
       "<Figure size 432x288 with 1 Axes>"
      ]
     },
     "metadata": {
      "needs_background": "light"
     },
     "output_type": "display_data"
    }
   ],
   "source": [
    "x = by_session_age.age\n",
    "y = by_session_age.taille_panier\n",
    "plt.plot(x, y)\n",
    "plt.title(\"Taille du panier moyen en fonction de l'age du client\")\n",
    "plt.xlabel(\"age\")\n",
    "plt.ylabel(\"articles\")\n",
    "plt.savefig(\"Taille du panier moyen en fonction de l'age du client\", dpi=300)\n"
   ]
  },
  {
   "cell_type": "markdown",
   "id": "e591116e",
   "metadata": {},
   "source": [
    "La taille moyenne du panier est plus grande avant 50 ans, avec un pic vers 25 ans."
   ]
  },
  {
   "cell_type": "markdown",
   "id": "dfa93359",
   "metadata": {},
   "source": [
    "### 2.4 Y a-t-il une corrélation entre l'âge des clients et les catégories de produits achetés"
   ]
  },
  {
   "cell_type": "code",
   "execution_count": 330,
   "id": "be091552",
   "metadata": {},
   "outputs": [
    {
     "name": "stdout",
     "output_type": "stream",
     "text": [
      "Le coefficent de corrélation entre la colonne age et categ est de -0.09701787995585107, ce score est proche de 0, il n'y a pas de corrélation\n"
     ]
    }
   ],
   "source": [
    "print(\n",
    "    \"Le coefficent de corrélation entre la colonne age et categ est de {}, ce score est proche de 0, il n'y a pas de corrélation\".format(\n",
    "        df_all.age.corr(df_all.categ)\n",
    "    )\n",
    ")\n"
   ]
  },
  {
   "cell_type": "code",
   "execution_count": 355,
   "id": "fe529743",
   "metadata": {},
   "outputs": [
    {
     "data": {
      "image/png": "[encoded data removed]",
      "text/plain": [
       "<Figure size 432x288 with 1 Axes>"
      ]
     },
     "metadata": {
      "needs_background": "light"
     },
     "output_type": "display_data"
    }
   ],
   "source": [
    "# Visualisation de la répartition de l'age en fonction de la categ\n",
    "by_categ.plot.bar(x=\"categ\", y=\"age\", legend=False)\n",
    "plt.title(\"Répartition de l'age du client en fonction de la catégorie du produit\")\n",
    "plt.xlabel(\"catégorie du produit\")\n",
    "plt.ylabel(\"age moyen\")\n",
    "plt.savefig(\n",
    "    \"Répartition de l'age du client en fonction de la catégorie du produit\", dpi=300\n",
    ")"
   ]
  },
  {
   "cell_type": "code",
   "execution_count": 332,
   "id": "8eaa3420",
   "metadata": {},
   "outputs": [
    {
     "data": {
      "text/html": [
       "<div>\n",
       "<style scoped>\n",
       "    .dataframe tbody tr th:only-of-type {\n",
       "        vertical-align: middle;\n",
       "    }\n",
       "\n",
       "    .dataframe tbody tr th {\n",
       "        vertical-align: top;\n",
       "    }\n",
       "\n",
       "    .dataframe thead th {\n",
       "        text-align: right;\n",
       "    }\n",
       "</style>\n",
       "<table border=\"1\" class=\"dataframe\">\n",
       "  <thead>\n",
       "    <tr style=\"text-align: right;\">\n",
       "      <th></th>\n",
       "      <th>price</th>\n",
       "      <th>age</th>\n",
       "    </tr>\n",
       "    <tr>\n",
       "      <th>categ</th>\n",
       "      <th></th>\n",
       "      <th></th>\n",
       "    </tr>\n",
       "  </thead>\n",
       "  <tbody>\n",
       "    <tr>\n",
       "      <th>0.0</th>\n",
       "      <td>209529</td>\n",
       "      <td>43.054002</td>\n",
       "    </tr>\n",
       "    <tr>\n",
       "      <th>1.0</th>\n",
       "      <td>109735</td>\n",
       "      <td>46.868893</td>\n",
       "    </tr>\n",
       "    <tr>\n",
       "      <th>2.0</th>\n",
       "      <td>17552</td>\n",
       "      <td>24.910779</td>\n",
       "    </tr>\n",
       "  </tbody>\n",
       "</table>\n",
       "</div>"
      ],
      "text/plain": [
       "        price        age\n",
       "categ                   \n",
       "0.0    209529  43.054002\n",
       "1.0    109735  46.868893\n",
       "2.0     17552  24.910779"
      ]
     },
     "execution_count": 332,
     "metadata": {},
     "output_type": "execute_result"
    }
   ],
   "source": [
    "by_cat = df_all.groupby(\"categ\").agg({\"price\": \"count\", \"age\": \"mean\"})\n",
    "by_cat"
   ]
  },
  {
   "cell_type": "markdown",
   "id": "90d5b496",
   "metadata": {},
   "source": [
    "On a l'impression de visualiser une corrélation entre l'age et la catégorie, la moyenne d'age est plus basse pour les produit de catégorie 2, le calcul du coefficient de corrélation doit être faussé par l'inégalté de répartition entre les catégories."
   ]
  },
  {
   "cell_type": "code",
   "execution_count": null,
   "id": "8a6881b5",
   "metadata": {},
   "outputs": [],
   "source": []
  }
 ],
 "metadata": {
  "kernelspec": {
   "display_name": "Python 3 (ipykernel)",
   "language": "python",
   "name": "python3"
  },
  "language_info": {
   "codemirror_mode": {
    "name": "ipython",
    "version": 3
   },
   "file_extension": ".py",
   "mimetype": "text/x-python",
   "name": "python",
   "nbconvert_exporter": "python",
   "pygments_lexer": "ipython3",
   "version": "3.9.12"
  }
 },
 "nbformat": 4,
 "nbformat_minor": 5
}
