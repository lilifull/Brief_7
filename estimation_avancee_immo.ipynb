{
 "cells": [
  {
   "cell_type": "markdown",
   "metadata": {},
   "source": [
    "# 🚀 Real Estate - advanced estimator"
   ]
  },
  {
   "cell_type": "markdown",
   "metadata": {},
   "source": [
    "❗️ In the previous challenge, we saw that if we have more flats than features  in our dataset ($\\large n$ observations $\\large> p$ features), that's why we can't \"solve\" the equation $\\large X\\theta = Y$. And without a deterministic formula for $\\large \\theta$, we would no longer be able to predict the prices of new flats anymore...!\n",
    "\n",
    "----\n",
    "\n",
    "🎯 In this exercise, we have now access to a bigger dataset consisting of 1000 flats and we want to refine our prediction for the same new flat as before:\n",
    "\n",
    "- `Surface`: 3000 $ft^2$\n",
    "- `Bedrooms`: 5 \n",
    "- `Floors`: 1\n",
    "\n",
    "❌ Instead of solving $\\large X\\theta = Y$ with a matrix $\\large X$ of shape $ (1000,4)$ that is **`non-invertible`**...\n",
    "\n",
    "🚀 ...We will find $\\large {\\theta} = \\begin{bmatrix}\n",
    "     \\theta_0 \\\\\n",
    "     \\theta_1 \\\\\n",
    "    \\theta_2 \\\\\n",
    "     \\theta_3\n",
    "\\end{bmatrix}_{4 \\times 1}$ that minimizes the error $ \\large e = X\\hat{\\theta} - Y $: this approach is called a **`Linear Regression model`**. We will measure this error $e$ using the Euclidian distance $\\large \\left\\|e\\right\\|$ and the **`Mean Squared Error.`**\n",
    "\n",
    "👉 Let's compute $\\large \\hat{\\theta}$ to find an approximate estimation of the new flat's price.\n"
   ]
  },
  {
   "cell_type": "code",
   "execution_count": 260,
   "metadata": {},
   "outputs": [],
   "source": [
    "# Import some \"default\" libraries\n",
    "# You can now use Pandas to manipulate the Dataframe conveniently\n",
    "\n",
    "\"\"\" Data manipulation\"\"\"\n",
    "import numpy as np\n",
    "import pandas as pd\n",
    "import math\n",
    "\n",
    "\"\"\" Data visualization\"\"\"\n",
    "# import seaborn and pyplot(matplotlib)\n",
    "import matplotlib.pyplot as plt\n",
    "import seaborn as sns\n",
    "import statsmodels.api as sm\n",
    "import statsmodels.formula.api as smf"
   ]
  },
  {
   "cell_type": "markdown",
   "metadata": {},
   "source": [
    "## (1) Data Exploration"
   ]
  },
  {
   "cell_type": "markdown",
   "metadata": {},
   "source": [
    "We load the dataset **flats.csv** below"
   ]
  },
  {
   "cell_type": "code",
   "execution_count": 198,
   "metadata": {
    "tags": []
   },
   "outputs": [
    {
     "data": {
      "text/html": [
       "<div>\n",
       "<style scoped>\n",
       "    .dataframe tbody tr th:only-of-type {\n",
       "        vertical-align: middle;\n",
       "    }\n",
       "\n",
       "    .dataframe tbody tr th {\n",
       "        vertical-align: top;\n",
       "    }\n",
       "\n",
       "    .dataframe thead th {\n",
       "        text-align: right;\n",
       "    }\n",
       "</style>\n",
       "<table border=\"1\" class=\"dataframe\">\n",
       "  <thead>\n",
       "    <tr style=\"text-align: right;\">\n",
       "      <th></th>\n",
       "      <th>price</th>\n",
       "      <th>bedrooms</th>\n",
       "      <th>surface</th>\n",
       "      <th>floors</th>\n",
       "    </tr>\n",
       "  </thead>\n",
       "  <tbody>\n",
       "    <tr>\n",
       "      <th>0</th>\n",
       "      <td>274.0</td>\n",
       "      <td>3</td>\n",
       "      <td>1830</td>\n",
       "      <td>2.0</td>\n",
       "    </tr>\n",
       "    <tr>\n",
       "      <th>1</th>\n",
       "      <td>500.0</td>\n",
       "      <td>4</td>\n",
       "      <td>2120</td>\n",
       "      <td>1.0</td>\n",
       "    </tr>\n",
       "    <tr>\n",
       "      <th>2</th>\n",
       "      <td>320.0</td>\n",
       "      <td>3</td>\n",
       "      <td>1260</td>\n",
       "      <td>1.0</td>\n",
       "    </tr>\n",
       "    <tr>\n",
       "      <th>3</th>\n",
       "      <td>445.5</td>\n",
       "      <td>3</td>\n",
       "      <td>1880</td>\n",
       "      <td>1.0</td>\n",
       "    </tr>\n",
       "    <tr>\n",
       "      <th>4</th>\n",
       "      <td>637.5</td>\n",
       "      <td>3</td>\n",
       "      <td>1680</td>\n",
       "      <td>1.0</td>\n",
       "    </tr>\n",
       "    <tr>\n",
       "      <th>...</th>\n",
       "      <td>...</td>\n",
       "      <td>...</td>\n",
       "      <td>...</td>\n",
       "      <td>...</td>\n",
       "    </tr>\n",
       "    <tr>\n",
       "      <th>995</th>\n",
       "      <td>700.0</td>\n",
       "      <td>9</td>\n",
       "      <td>3680</td>\n",
       "      <td>2.0</td>\n",
       "    </tr>\n",
       "    <tr>\n",
       "      <th>996</th>\n",
       "      <td>272.0</td>\n",
       "      <td>3</td>\n",
       "      <td>1528</td>\n",
       "      <td>2.0</td>\n",
       "    </tr>\n",
       "    <tr>\n",
       "      <th>997</th>\n",
       "      <td>350.0</td>\n",
       "      <td>3</td>\n",
       "      <td>1050</td>\n",
       "      <td>1.0</td>\n",
       "    </tr>\n",
       "    <tr>\n",
       "      <th>998</th>\n",
       "      <td>649.0</td>\n",
       "      <td>4</td>\n",
       "      <td>2980</td>\n",
       "      <td>2.0</td>\n",
       "    </tr>\n",
       "    <tr>\n",
       "      <th>999</th>\n",
       "      <td>135.0</td>\n",
       "      <td>2</td>\n",
       "      <td>830</td>\n",
       "      <td>1.0</td>\n",
       "    </tr>\n",
       "  </tbody>\n",
       "</table>\n",
       "<p>1000 rows × 4 columns</p>\n",
       "</div>"
      ],
      "text/plain": [
       "     price  bedrooms  surface  floors\n",
       "0    274.0         3     1830     2.0\n",
       "1    500.0         4     2120     1.0\n",
       "2    320.0         3     1260     1.0\n",
       "3    445.5         3     1880     1.0\n",
       "4    637.5         3     1680     1.0\n",
       "..     ...       ...      ...     ...\n",
       "995  700.0         9     3680     2.0\n",
       "996  272.0         3     1528     2.0\n",
       "997  350.0         3     1050     1.0\n",
       "998  649.0         4     2980     2.0\n",
       "999  135.0         2      830     1.0\n",
       "\n",
       "[1000 rows x 4 columns]"
      ]
     },
     "execution_count": 198,
     "metadata": {},
     "output_type": "execute_result"
    }
   ],
   "source": [
    "df = pd.read_csv(\"flats.csv\")\n",
    "df"
   ]
  },
  {
   "cell_type": "markdown",
   "metadata": {},
   "source": [
    "👀 Use `scatterplots` to  figure out visually <u><i>which feature gives the most information about prices:</i></u>"
   ]
  },
  {
   "cell_type": "code",
   "execution_count": 199,
   "metadata": {
    "tags": [
     "challengify"
    ]
   },
   "outputs": [
    {
     "data": {
      "text/plain": [
       "Text(0.5, 1.0, 'Price vs surface')"
      ]
     },
     "execution_count": 199,
     "metadata": {},
     "output_type": "execute_result"
    },
    {
     "data": {
      "image/png": "[encoded data removed]",
      "text/plain": [
       "<Figure size 432x288 with 1 Axes>"
      ]
     },
     "metadata": {
      "needs_background": "light"
     },
     "output_type": "display_data"
    }
   ],
   "source": [
    "plot_surface = plt.scatter(df.surface, df.price)\n",
    "plt.xlabel(\"surface\")\n",
    "plt.ylabel(\"price\")\n",
    "plt.title(\"Price vs surface\")\n"
   ]
  },
  {
   "cell_type": "code",
   "execution_count": 200,
   "metadata": {},
   "outputs": [
    {
     "data": {
      "text/plain": [
       "Text(0.5, 1.0, 'Price vs floors')"
      ]
     },
     "execution_count": 200,
     "metadata": {},
     "output_type": "execute_result"
    },
    {
     "data": {
      "image/png": "[encoded data removed]",
      "text/plain": [
       "<Figure size 432x288 with 1 Axes>"
      ]
     },
     "metadata": {
      "needs_background": "light"
     },
     "output_type": "display_data"
    }
   ],
   "source": [
    "plt.scatter(df.floors, df.price)\n",
    "plt.xlabel(\"floors\")\n",
    "plt.ylabel(\"price\")\n",
    "plt.title(\"Price vs floors\")\n"
   ]
  },
  {
   "cell_type": "code",
   "execution_count": 201,
   "metadata": {},
   "outputs": [
    {
     "data": {
      "text/plain": [
       "Text(0.5, 1.0, 'Price vs bedrooms')"
      ]
     },
     "execution_count": 201,
     "metadata": {},
     "output_type": "execute_result"
    },
    {
     "data": {
      "image/png": "[encoded data removed]",
      "text/plain": [
       "<Figure size 432x288 with 1 Axes>"
      ]
     },
     "metadata": {
      "needs_background": "light"
     },
     "output_type": "display_data"
    }
   ],
   "source": [
    "plt.scatter(df.bedrooms, df.price)\n",
    "plt.xlabel(\"bedrooms\")\n",
    "plt.ylabel(\"price\")\n",
    "plt.title(\"Price vs bedrooms\")\n"
   ]
  },
  {
   "cell_type": "markdown",
   "metadata": {},
   "source": [
    "👉 It seems that `surface` is a stronger indicator of price than the number of bedrooms or floors. In statistics, we say that `price` is more **correlated** with `surface` than with other features. \n",
    "\n",
    "👉 Let's double-check this by running [`pandas.DataFrame.corr`](https://pandas.pydata.org/pandas-docs/stable/reference/api/pandas.DataFrame.corr.html) below, which computes correlation coefficients between each pair of columns of the DataFrame. \n",
    "\n",
    "<i> <u>Remarkable values:</u></i>\n",
    "* 1 means that the two columns  are perfectly  correlated 📈 \n",
    "* -1 means that the two columns perfectly inversely correlated 📉 \n",
    "* 0 means that the two columns not *linearly* correlated 😐\n",
    "    \n",
    "<details>\n",
    "    <summary><i>Why do we use the correlation coefficient and not the covariance coefficient ?</i></summary>\n",
    "    \n",
    "✅ <u>Similitudes</u>:\n",
    "    \n",
    "* 📈 Positive correlations and positive covariances between two variables X and Y mean the same thing: When X increases, Y increases and vice-versa. When X decreases, Y decreases and vice-versa.\n",
    "    \n",
    "* 📉 Negative correlations and negative covariances between two variables X and Y mean the same thing: When X increases, Y decreases and vice-versa. When X decreases, Y increases and vice-versa\n",
    "    \n",
    "* 🤔 A null correlation and a null covariance between two variables X and Y mean the same thing: \n",
    "    * They are _not linearly correlated_ in a sense that there would exists two real numbers $a$ and $b$  such that $ Y = aX + b$ \n",
    "    * However, they can still have another type of relation such as $Y = X^{2}$ (quadratic relation), $Y = e^{X}$ (exponential relation), $Y = ln(X)$ (logarithmic relation), $Y = sin(\\sqrt{1+X^7})$ (super weird relation), ...\n",
    "    \n",
    "❗️ <u>Main difference</u>:\n",
    "    \n",
    "* 😖 The covariance between two variables X and Y can be infinitely big positively or negatively : $ cov(X,Y) \\in ( - \\infty ; + \\infty ) $\n",
    "    \n",
    "    * _Example_: if $ cov (X,Y) = 10 $ and $ cov (X,Z) = 30 $, can you say that X and Z are \"more correlated\" ? ❌_Hell No !_ \n",
    "    * You cannot compare apples, oranges and bananas. \n",
    "\n",
    "* 🧑🏻‍🏫 How to solve this problem ?\n",
    "    * Consider the correlation instead, often denoted by the Greek Letter $\\rho$ (pronounce `\"rhô\"`)\n",
    "    \n",
    "👉<u>Consequence</u>:\n",
    "  \n",
    "* You can view the correlation as a _standardized covariance_, we simply divide the covariance by both the standard deviation of $X$ and the standard deviation of $Y$    \n",
    "$$ \\large  \\rho(X,Y) = \\frac{cov(X,Y)}{\\sigma_X \\sigma_Y} \\in [0;1]$$\n",
    "    \n",
    "    *  _Let's continue our example_: suppose now that $ \\rho(X,Y) = 0.80 $ and $ \\rho(X,Z) = 0.15 $, would you still want to say that X and Z are more correlated ? No. Actually, X and Y are more correlated than X and Z !\n",
    "</details>"
   ]
  },
  {
   "cell_type": "code",
   "execution_count": 202,
   "metadata": {
    "tags": []
   },
   "outputs": [
    {
     "data": {
      "text/html": [
       "<div>\n",
       "<style scoped>\n",
       "    .dataframe tbody tr th:only-of-type {\n",
       "        vertical-align: middle;\n",
       "    }\n",
       "\n",
       "    .dataframe tbody tr th {\n",
       "        vertical-align: top;\n",
       "    }\n",
       "\n",
       "    .dataframe thead th {\n",
       "        text-align: right;\n",
       "    }\n",
       "</style>\n",
       "<table border=\"1\" class=\"dataframe\">\n",
       "  <thead>\n",
       "    <tr style=\"text-align: right;\">\n",
       "      <th></th>\n",
       "      <th>price</th>\n",
       "      <th>bedrooms</th>\n",
       "      <th>surface</th>\n",
       "      <th>floors</th>\n",
       "    </tr>\n",
       "  </thead>\n",
       "  <tbody>\n",
       "    <tr>\n",
       "      <th>price</th>\n",
       "      <td>1.000000</td>\n",
       "      <td>0.239623</td>\n",
       "      <td>0.732790</td>\n",
       "      <td>0.258263</td>\n",
       "    </tr>\n",
       "    <tr>\n",
       "      <th>bedrooms</th>\n",
       "      <td>0.239623</td>\n",
       "      <td>1.000000</td>\n",
       "      <td>0.417170</td>\n",
       "      <td>0.131993</td>\n",
       "    </tr>\n",
       "    <tr>\n",
       "      <th>surface</th>\n",
       "      <td>0.732790</td>\n",
       "      <td>0.417170</td>\n",
       "      <td>1.000000</td>\n",
       "      <td>0.357512</td>\n",
       "    </tr>\n",
       "    <tr>\n",
       "      <th>floors</th>\n",
       "      <td>0.258263</td>\n",
       "      <td>0.131993</td>\n",
       "      <td>0.357512</td>\n",
       "      <td>1.000000</td>\n",
       "    </tr>\n",
       "  </tbody>\n",
       "</table>\n",
       "</div>"
      ],
      "text/plain": [
       "             price  bedrooms   surface    floors\n",
       "price     1.000000  0.239623  0.732790  0.258263\n",
       "bedrooms  0.239623  1.000000  0.417170  0.131993\n",
       "surface   0.732790  0.417170  1.000000  0.357512\n",
       "floors    0.258263  0.131993  0.357512  1.000000"
      ]
     },
     "execution_count": 202,
     "metadata": {},
     "output_type": "execute_result"
    }
   ],
   "source": [
    "corr = df.corr()\n",
    "corr\n"
   ]
  },
  {
   "cell_type": "markdown",
   "metadata": {},
   "source": [
    "🎨 For a quicker glimpse of this matrix, you can use a **heatmap** from [`seaborn.heatmap`](https://seaborn.pydata.org/generated/seaborn.heatmap.html)\n",
    "\n",
    "<details>\n",
    "    <summary><i>Additional tips to display a nicer correlation matrix</i></summary>\n",
    "\n",
    "* **`cmap`**: *Seaborn* being a visualisation library built on top of *Matpotlib*, you can use the argument [*cmap*](https://matplotlib.org/stable/tutorials/colors/colormaps.html) which stands for _color map_ to use \n",
    "\n",
    "* **`annot`** : To read the correlations even faster, you can show the correlation coefficients directly on the colored heatmap\n",
    "   \n",
    "* **`annot_kws`** : You can customize how the correlation coefficients appear\n",
    "</details>"
   ]
  },
  {
   "cell_type": "code",
   "execution_count": 203,
   "metadata": {
    "tags": []
   },
   "outputs": [
    {
     "data": {
      "text/plain": [
       "<AxesSubplot:>"
      ]
     },
     "execution_count": 203,
     "metadata": {},
     "output_type": "execute_result"
    },
    {
     "data": {
      "image/png": "[encoded data removed]",
      "text/plain": [
       "<Figure size 432x288 with 2 Axes>"
      ]
     },
     "metadata": {
      "needs_background": "light"
     },
     "output_type": "display_data"
    }
   ],
   "source": [
    "sns.heatmap(corr, annot=True)"
   ]
  },
  {
   "cell_type": "markdown",
   "metadata": {},
   "source": [
    "## (2) Estimator with 1 feature"
   ]
  },
  {
   "cell_type": "markdown",
   "metadata": {},
   "source": [
    "Let's try to build a statistical estimator of **price**  as a function of  only one feature, the **surface**.\n",
    "\n",
    "🎯 Let's try to fit a **linear regression** between the two variables.\n",
    "\n",
    "Practically speaking, we want to choose the best parameters $\\hat{\\theta}$ = (`slope`, `intercept`) such that the `predicted price = slope * surface + intercept` is as close as possible to the `price` in terms of Mean Squared Errors.\n",
    "\n",
    "📅 During the next weeks, we will discover and study different models (Linear Regression, KNN, Logistic Regression, Neural Networks, etc.). \n",
    "\n",
    "👉 An important part of your job is to choose the right model and optimizing the parameters to make the best predictions."
   ]
  },
  {
   "cell_type": "markdown",
   "metadata": {},
   "source": [
    "### (2.1) Visual approach"
   ]
  },
  {
   "attachments": {
    "image.png": {
     "image/png": "[encoded data removed]"
    }
   },
   "cell_type": "markdown",
   "metadata": {},
   "source": [
    "❓ Implement the function `plot_line(slope, intercept, ax)` \n",
    "* This function plots a line with the `slope` and `intercept` arguments on the `ax` figure. We added the argument ax, so that you can plot the line(s) on your scatterplot.\n",
    "* When you are done with coding the function, play with different values of `(slope, intercept)` until you find a “good linear approximation” of the data. Can you find the best fit ?\n",
    "\n",
    "![image.png](attachment:image.png)"
   ]
  },
  {
   "cell_type": "code",
   "execution_count": 204,
   "metadata": {},
   "outputs": [],
   "source": [
    "def plot_line(slope, intercept, ax):\n",
    "    \"\"\"Plot a line from slope and intercept on the ax\"\"\"\n",
    "    price = slope * ax + intercept\n",
    "    plt.plot(ax, price)\n"
   ]
  },
  {
   "cell_type": "code",
   "execution_count": 205,
   "metadata": {},
   "outputs": [
    {
     "data": {
      "image/png": "[encoded data removed]",
      "text/plain": [
       "<Figure size 432x288 with 1 Axes>"
      ]
     },
     "metadata": {
      "needs_background": "light"
     },
     "output_type": "display_data"
    }
   ],
   "source": [
    "# TO DO: play with slopes and intercepts to get the best fit\n",
    "initial_slope = 0.3\n",
    "initial_intercept = 100\n",
    "plot_line(slope, intercept, df.surface)\n"
   ]
  },
  {
   "cell_type": "markdown",
   "metadata": {},
   "source": [
    "😅 Not so easy (and not very “scientific”), right?"
   ]
  },
  {
   "cell_type": "markdown",
   "metadata": {},
   "source": [
    "### (2.2) Computational approach"
   ]
  },
  {
   "cell_type": "markdown",
   "metadata": {},
   "source": [
    "🔥 To make sure that our estimator line is the best possible one, we need to compute  the **Mean Squared Error** between the **real prices** and the **predicted prices**!\n",
    "\n",
    "👉 Remember that :\n",
    "\n",
    "* For each appartment, `predicted_price = slope * surface + intercept`\n",
    "* Both the **vector of real prices** and the **vector of predicted prices** are of shape $ (1000,1)$"
   ]
  },
  {
   "cell_type": "markdown",
   "metadata": {},
   "source": [
    "#### (2.2.1) Squared Errors"
   ]
  },
  {
   "cell_type": "markdown",
   "metadata": {},
   "source": [
    "<u><b>Step 1</b></u>\n",
    "\n",
    "❓For each row (_i.e. flat_), we should evaluate the `squared_error = (price - predicted_price)**2` ❓"
   ]
  },
  {
   "cell_type": "code",
   "execution_count": 206,
   "metadata": {},
   "outputs": [],
   "source": [
    "def squared_errors(slope, intercept, surfaces, prices):\n",
    "    \"\"\"TO DO: return an array containing the squared errors between\n",
    "    all real prices from the dataset and the predicted prices\n",
    "    \"\"\"\n",
    "    sqr_array = np.array([])\n",
    "    for surface in surfaces:\n",
    "        predicted_price = slope * surface + intercept\n",
    "\n",
    "    for price in prices:\n",
    "        squared_error = (price - predicted_price) ** 2\n",
    "        sqr_array = np.append(sqr_array, squared_error)\n",
    "\n",
    "    return sqr_array"
   ]
  },
  {
   "cell_type": "code",
   "execution_count": 207,
   "metadata": {},
   "outputs": [
    {
     "data": {
      "text/plain": [
       "array([5.62500000e+03, 2.28010000e+04, 8.41000000e+02, 9.31225000e+03,\n",
       "       8.32322500e+04, 1.23210000e+04, 8.10000000e+03, 3.61201000e+05,\n",
       "       4.04010000e+04, 6.97225000e+03, 3.49690000e+04, 4.18611600e+06,\n",
       "       1.29600000e+03, 1.41610000e+04, 9.98560000e+04, 3.96900000e+03,\n",
       "       2.94122500e+04, 3.61000000e+02, 9.21600000e+03, 4.38902500e+04,\n",
       "       5.05521000e+05, 2.40100000e+03, 2.27708100e+04, 5.34361000e+03,\n",
       "       8.83600000e+05, 6.81210000e+04, 1.37641000e+05, 8.29440000e+04,\n",
       "       6.76000000e+02, 3.62902500e+02, 1.34560000e+04, 4.48900000e+03,\n",
       "       1.71610000e+04, 2.68960000e+04, 6.55360000e+04, 7.39600000e+03,\n",
       "       2.24613166e+04, 4.76790250e+03, 1.41610000e+04, 1.29600000e+03,\n",
       "       3.29820490e+03, 2.17562500e+02, 1.08900000e+03, 9.05709025e+04,\n",
       "       1.52881000e+05, 4.44999025e+04, 3.48690250e+03, 2.32806250e+05,\n",
       "       3.84400000e+03, 2.05779025e+04, 5.71210000e+04, 1.08160000e+04,\n",
       "       2.59590250e+03, 1.29600000e+03, 8.12820100e+06, 1.85717903e+05,\n",
       "       6.55360000e+04, 1.94040250e+05, 2.13160000e+04, 2.40100000e+03,\n",
       "       1.45161000e+05, 7.06440250e+03, 1.00000000e+02, 3.64619025e+04,\n",
       "       4.76100000e+03, 1.81476000e+05, 2.91600000e+03, 2.37160000e+04,\n",
       "       3.37561000e+05, 1.35082506e+06, 1.90096000e+05, 3.94384000e+03,\n",
       "       2.89000000e+04, 1.02400000e+05, 1.68921000e+05, 6.35796225e+04,\n",
       "       1.60801000e+05, 2.99099610e+05, 4.22500000e+03, 4.97290000e+04,\n",
       "       2.60100000e+03, 1.50062500e+04, 2.91600000e+03, 1.04976000e+05,\n",
       "       4.88410000e+04, 2.61121000e+05, 3.37561000e+05, 1.45202500e+04,\n",
       "       1.45161000e+05, 1.00000000e+00, 2.05662250e+05, 3.45960000e+04,\n",
       "       9.54810000e+02, 2.28010000e+04, 3.52504380e+04, 6.90561000e+05,\n",
       "       1.41610000e+04, 4.62400000e+03, 1.26787600e+06, 8.76160000e+04,\n",
       "       3.61201000e+05, 2.36196000e+05, 5.47600000e+03, 3.84160000e+04,\n",
       "       1.50062500e+02, 2.40100000e+03, 5.77600000e+03, 1.21220100e+06,\n",
       "       6.30010000e+04, 1.35424000e+05, 1.58760000e+04, 7.92990250e+03,\n",
       "       4.32640000e+04, 1.02010000e+04, 5.77600000e+03, 4.66560000e+04,\n",
       "       1.68100000e+03, 9.21600000e+03, 6.56100000e+03, 1.21000000e+02,\n",
       "       3.84160000e+04, 1.06090000e+04, 6.81210000e+04, 1.68100000e+03,\n",
       "       7.05600000e+03, 1.06276000e+05, 1.22102500e+04, 1.31560900e+04,\n",
       "       4.20250000e+04, 1.19902500e+02, 6.30010000e+04, 1.48996000e+05,\n",
       "       8.19025000e+01, 8.83600000e+03, 5.32900000e+05, 6.55360000e+04,\n",
       "       1.14490000e+06, 5.12656000e+05, 5.47600000e+03, 1.96000000e+02,\n",
       "       2.49640000e+04, 3.60000000e+01, 1.75561000e+05, 6.94322500e+04,\n",
       "       6.55360000e+04, 1.02010000e+04, 1.34560000e+04, 9.02500000e-01,\n",
       "       6.25681000e+05, 1.94040250e+05, 4.16160000e+04, 5.10760000e+04,\n",
       "       8.46810000e+04, 9.00000000e+02, 1.68921000e+05, 5.47600000e+03,\n",
       "       3.02760000e+04, 4.76100000e+03, 2.51001000e+05, 9.57902500e+04,\n",
       "       2.59049025e+04, 1.12360000e+04, 1.09561000e+05, 9.61000000e+02,\n",
       "       1.64836000e+05, 1.06276000e+05, 1.73056000e+05, 6.08400000e+03,\n",
       "       8.46810000e+04, 2.41081000e+05, 6.05160000e+04, 7.22500000e+03,\n",
       "       5.36556250e+03, 2.92410000e+04, 5.77600000e+03, 1.15600000e+03,\n",
       "       1.16640000e+04, 2.65740250e+05, 7.29000000e+04, 4.00000000e+04,\n",
       "       3.61000000e+02, 2.56036000e+05, 1.12896000e+05, 5.76000000e+02,\n",
       "       1.44000000e+02, 8.46810000e+04, 2.20900000e+03, 3.19225000e+03,\n",
       "       3.18622500e+04, 1.60760903e+05, 1.09561000e+05, 1.23198900e+04,\n",
       "       2.05209000e+05, 5.47600000e+03, 6.30010000e+04, 3.20986834e+05,\n",
       "       4.36810000e+02, 2.92410000e+04, 4.04010000e+04, 1.29600000e+03,\n",
       "       8.10000000e+01, 6.93795600e+06, 1.52490250e+03, 9.54810000e+02,\n",
       "       1.33956000e+05, 3.84160000e+04, 1.84900000e+03, 3.61000000e+02,\n",
       "       4.69225000e+03, 5.56960000e+04, 1.48996000e+05, 2.59590250e+03,\n",
       "       1.02969109e+05, 8.41000000e+04, 3.02500000e+01, 1.00000000e+00,\n",
       "       1.41610000e+04, 6.41601000e+05, 1.93349025e+04, 4.11522250e+03,\n",
       "       2.14369000e+05, 5.47600000e+03, 1.69000000e+02, 5.03390250e+03,\n",
       "       3.60000000e+01, 4.41000000e+02, 7.67376000e+05, 1.18810000e+04,\n",
       "       2.85610000e+04, 8.19025000e+01, 1.98810000e+04, 4.32640000e+04,\n",
       "       3.60000000e+01, 4.45210000e+04, 2.56000000e+02, 8.28100000e+03,\n",
       "       6.88900000e+03, 6.50250000e+02, 1.03022500e+04, 5.56516000e+05,\n",
       "       1.34689000e+05, 3.99200400e+04, 6.30010000e+04, 5.76000000e+02,\n",
       "       1.58760000e+04, 9.06010000e+04, 1.60801000e+05, 4.62250000e+02,\n",
       "       1.11556000e+05, 1.60801000e+05, 4.04010000e+04, 4.03809025e+04,\n",
       "       2.49640000e+04, 1.23210000e+04, 8.10000000e+03, 6.02176000e+05,\n",
       "       7.81202500e+02, 6.90561000e+03, 9.61000000e+02, 2.75560000e+04,\n",
       "       4.24360000e+04, 2.34090000e+02, 5.64001000e+05, 7.05600000e+03,\n",
       "       2.51001000e+05, 9.82081000e+03, 1.13422500e+04, 2.51001000e+05,\n",
       "       1.06502400e+06, 3.24900000e+03, 3.09760000e+04, 1.66410000e+04,\n",
       "       5.76000000e+02, 1.89225000e+03, 8.01025000e+01, 4.04010000e+04,\n",
       "       2.07936000e+05, 1.00000000e+00, 2.81961000e+05, 1.14490000e+04,\n",
       "       1.23130810e+05, 3.61000000e+02, 1.93600000e+03, 7.07560000e+04,\n",
       "       8.76160000e+04, 2.67237303e+05, 3.48100000e+03, 1.69000000e+02,\n",
       "       1.00000000e+04, 8.17960000e+04, 3.61000000e+02, 5.62500000e+01,\n",
       "       4.35600000e+03, 9.80100000e+03, 2.40100000e+03, 2.17156000e+05,\n",
       "       1.03041000e+05, 7.56900000e+03, 1.71610000e+02, 1.48996000e+05,\n",
       "       1.66410000e+04, 1.82250000e+04, 7.05600000e+03, 1.60000000e+01,\n",
       "       1.41610000e+04, 4.03989900e+04, 4.12806250e+05, 3.31776000e+05,\n",
       "       2.30400000e+01, 1.69000000e+02, 2.25000000e+02, 7.39600000e+03,\n",
       "       7.89432250e+05, 1.10224000e+05, 4.45210000e+04, 1.56500100e+06,\n",
       "       1.08160000e+04, 7.02250000e+02, 1.01761000e+05, 1.56275001e+04,\n",
       "       3.96010000e+04, 1.27690000e+04, 1.23201000e+05, 1.41610000e+04,\n",
       "       3.09136000e+05, 2.80900000e+03, 4.98026604e+05, 7.92100000e+03,\n",
       "       4.88410000e+04, 1.03877290e+05, 5.29000000e+02, 1.03041000e+05,\n",
       "       4.91401000e+05, 1.07329600e+06, 3.06250000e+02, 8.28100000e+03,\n",
       "       2.25000000e+04, 2.75560000e+04, 1.85981406e+06, 1.02010000e+04,\n",
       "       1.93600000e+03, 2.13160000e+04, 4.90000000e+03, 3.13148416e+04,\n",
       "       1.52881000e+05, 3.39959844e+04, 4.76100000e+03, 1.29049600e+04,\n",
       "       1.87690000e+04, 1.08160000e+04, 2.30432400e+04, 1.47840250e+05,\n",
       "       1.02010000e+04, 4.66560000e+04, 6.30010000e+04, 3.31240000e+04,\n",
       "       1.34560000e+04, 6.70810000e+04, 6.40000000e+03, 3.80640100e+06,\n",
       "       6.40000000e+01, 8.55562500e+04, 6.90561000e+03, 4.66560000e+04,\n",
       "       1.06090000e+04, 4.04010000e+04, 7.61760000e+04, 2.80900000e+03,\n",
       "       1.44000000e+02, 1.08900000e+03, 7.34410000e+04, 3.62902500e+02,\n",
       "       2.80900000e+05, 1.32480100e+06, 7.92100000e+03, 1.08368100e+04,\n",
       "       2.51001000e+05, 3.61201000e+05, 2.41081000e+05, 1.21000000e+02,\n",
       "       1.00000000e+00, 7.14025000e+03, 1.16144640e+05, 1.14254140e+05,\n",
       "       6.76000000e+02, 7.56250000e+02, 3.60000000e+03, 1.18919025e+04,\n",
       "       9.06010000e+04, 9.52576000e+05, 1.02010000e+04, 9.21600000e+03,\n",
       "       1.25440000e+04, 1.71610000e+04, 9.36972100e+04, 1.02010000e+04,\n",
       "       1.33225000e+03, 5.68584025e+04, 3.26041000e+03, 4.62400000e+03,\n",
       "       6.76000000e+02, 7.05600000e+03, 2.28010000e+04, 2.51001000e+05,\n",
       "       1.23201000e+05, 5.00193225e+04, 7.55161000e+05, 4.36921000e+05,\n",
       "       2.50000000e+05, 4.10881000e+05, 1.00000000e+00, 1.00000000e+00,\n",
       "       2.94849000e+03, 1.29600000e+03, 3.38560000e+04, 5.10760000e+04,\n",
       "       8.28100000e+03, 1.29960000e+04, 1.33225000e+03, 1.00000000e+04,\n",
       "       1.36900000e+03, 4.41000000e+02, 1.66410000e+04, 6.76000000e+02,\n",
       "       4.45210000e+04, 2.75560000e+04, 2.34090000e+04, 5.66440000e+04,\n",
       "       4.23412929e+02, 1.81476000e+05, 1.53884025e+04, 3.61000000e+02,\n",
       "       4.84484121e+02, 9.61000000e+02, 1.93600000e+03, 1.00000000e+04,\n",
       "       3.72100000e+03, 5.56516000e+05, 1.06276000e+05, 2.13160000e+04,\n",
       "       1.60000000e+01, 3.46332250e+05, 1.61202250e+05, 3.64810000e+02,\n",
       "       7.78453290e+01, 4.14122500e+04, 2.77222500e+04, 2.28010000e+04,\n",
       "       7.84000000e+02, 1.12896000e+05, 6.41601000e+05, 6.76000000e+02,\n",
       "       2.25000000e+00, 3.76360000e+04, 3.57210000e+04, 5.77600000e+03,\n",
       "       4.66560000e+04, 1.52100000e+03, 2.75560000e+04, 7.05600000e+03,\n",
       "       8.83600000e+03, 5.64001000e+05, 2.27979801e+04, 6.30010000e+04,\n",
       "       1.11302500e+04, 1.18810000e+04, 1.46410000e+04, 3.61201000e+05,\n",
       "       5.29000000e+02, 8.17960000e+04, 1.71610000e+04, 2.45025000e+03,\n",
       "       1.93600000e+03, 1.00000000e+02, 1.30321000e+05, 3.62902500e+02,\n",
       "       3.45960000e+04, 6.05160000e+04, 2.60100000e+03, 1.46410000e+04,\n",
       "       1.28881000e+05, 2.07931440e+05, 1.32250000e+04, 3.45960000e+04,\n",
       "       2.75560000e+04, 4.35600000e+03, 7.03921000e+03, 1.56250000e+04,\n",
       "       2.75625000e+05, 1.29600000e+03, 4.22972696e+04, 1.00000000e+04,\n",
       "       3.27610000e+04, 5.33379025e+04, 1.93210000e+04, 5.33610000e+04,\n",
       "       2.11600000e+03, 2.50000000e+01, 2.60100000e+03, 4.41000000e+02,\n",
       "       4.97290000e+04, 2.17857600e+06, 2.66256000e+05, 6.32025000e+03,\n",
       "       3.96010000e+04, 6.08400000e+03, 1.12896000e+05, 5.56960000e+04,\n",
       "       7.41321000e+05, 2.19040000e+04, 8.28100000e+03, 1.08160000e+04,\n",
       "       2.71441000e+05, 7.18256250e+03, 9.00000000e+00, 9.02500000e+01,\n",
       "       2.28010000e+04, 1.49328400e+04, 4.70876980e+04, 5.31441000e+05,\n",
       "       1.08160000e+04, 4.24360000e+04, 3.84400000e+03, 6.50250000e+02,\n",
       "       6.24100000e+03, 3.98002500e+04, 3.66722500e+04, 1.35140625e+04,\n",
       "       5.56960000e+04, 1.93349025e+04, 1.60000000e+01, 4.69225000e+03,\n",
       "       6.70810000e+04, 2.02500000e+03, 2.28010000e+04, 3.64810000e+04,\n",
       "       5.38240000e+04, 3.65192100e+06, 7.23610000e+04, 3.60000000e+03,\n",
       "       7.61760000e+04, 4.61041000e+05, 4.36810000e+04, 1.44400000e+05,\n",
       "       1.34560000e+04, 3.48100000e+03, 4.62400000e+03, 1.07584000e+05,\n",
       "       1.68100000e+03, 2.28010000e+04, 5.56960000e+04, 4.62780878e+05,\n",
       "       2.03401000e+05, 8.32322500e+04, 9.61000000e+02, 3.72100000e+03,\n",
       "       2.59210000e+04, 5.76000000e+04, 6.23900484e+04, 1.08160000e+04,\n",
       "       1.68100000e+03, 7.23610000e+04, 2.68960000e+04, 1.06276000e+05,\n",
       "       2.30400000e+03, 1.90532250e+05, 1.31102500e+04, 2.11600000e+03,\n",
       "       1.96000000e+02, 2.60100000e+03, 8.41000000e+02, 5.02681000e+03,\n",
       "       2.60100000e+03, 1.71610000e+04, 1.69000000e+04, 2.07360000e+04,\n",
       "       2.46016000e+05, 5.33610000e+04, 1.77241000e+05, 2.37160000e+04,\n",
       "       6.30010000e+04, 1.77156100e+06, 3.31776000e+05, 1.26736000e+05,\n",
       "       2.36467506e+04, 2.41081000e+05, 5.77600000e+03, 4.04010000e+04,\n",
       "       7.02250000e+02, 2.07360000e+04, 1.92099600e+06, 3.45960000e+04,\n",
       "       3.60000000e+01, 6.56100000e+03, 6.40000000e+03, 3.61000000e+02,\n",
       "       5.10760000e+04, 8.83600000e+03, 3.61000000e+02, 5.92900000e+03,\n",
       "       5.77600000e+03, 1.81476000e+05, 2.44530250e+05, 4.40723377e+03,\n",
       "       9.80100000e+03, 5.77600000e+03, 1.46410000e+04, 1.02010000e+02,\n",
       "       1.73056000e+05, 3.66722500e+04, 2.41081000e+03, 3.31776000e+05,\n",
       "       6.24100000e+03, 1.39358025e+04, 1.52881000e+05, 5.76000000e+02,\n",
       "       1.58760000e+04, 1.29960000e+04, 1.98810000e+04, 8.55625000e+03,\n",
       "       2.60100000e+03, 7.61760000e+04, 2.50000000e+03, 1.58760000e+04,\n",
       "       3.64810000e+04, 6.05160000e+04, 1.63840000e+04, 3.11522500e+04,\n",
       "       1.00000000e+00, 1.10250000e+04, 3.61201000e+05, 1.06090000e+04,\n",
       "       2.91600000e+03, 6.76000000e+02, 4.22500000e+05, 3.13600000e+03,\n",
       "       9.18696100e+04, 2.91600000e+03, 3.14721000e+05, 1.15600000e+03,\n",
       "       2.60100000e+03, 1.07584000e+03, 2.28010000e+04, 1.96000000e+02,\n",
       "       2.43360000e+04, 2.40250000e+02, 2.17156000e+05, 3.98002500e+04,\n",
       "       1.30321000e+05, 5.04100000e+03, 1.58508100e+04, 2.71441000e+05,\n",
       "       7.34410000e+04, 3.96900000e+03, 1.05267600e+06, 3.13600000e+03,\n",
       "       1.41848100e+04, 1.79560000e+04, 9.06010000e+04, 1.36900000e+03,\n",
       "       5.77600000e+03, 4.48900000e+03, 2.51001000e+05, 1.94481000e+03,\n",
       "       4.04010000e+04, 3.48100000e+03, 3.64619025e+04, 3.45960000e+04,\n",
       "       3.09760000e+04, 1.53760000e+04, 7.34410000e+04, 3.60000000e+01,\n",
       "       2.60822500e+04, 8.35210000e+04, 1.36900000e+05, 1.79352250e+05,\n",
       "       6.24100000e+03, 2.82576100e+04, 6.40000000e+01, 1.26736000e+05,\n",
       "       1.96000000e+02, 4.04010000e+04, 5.06250000e+02, 2.07360000e+04,\n",
       "       1.44240100e+06, 4.41000000e+04, 2.60100000e+03, 2.20522500e+04,\n",
       "       1.01442250e+05, 4.76790250e+03, 4.04010000e+04, 7.05600000e+03,\n",
       "       1.36530250e+05, 1.33402500e+04, 2.92410000e+04, 3.61000000e+02,\n",
       "       7.92100000e+03, 1.33956000e+05, 4.76100000e+03, 3.09760000e+04,\n",
       "       1.33956000e+05, 6.70810000e+02, 4.66560000e+04, 1.25440000e+04,\n",
       "       1.93600000e+03, 7.37881000e+03, 1.53760000e+04, 3.60000000e+01,\n",
       "       1.98810000e+04, 1.14785440e+03, 7.89329025e+04, 8.83600000e+03,\n",
       "       2.68960000e+04, 1.15670025e+04, 2.51001000e+05, 7.61760000e+04,\n",
       "       5.33610000e+04, 2.34090000e+04, 8.70840100e+06, 5.92900000e+03,\n",
       "       1.68100000e+03, 1.00000000e+00, 7.07560000e+04, 8.73402394e+03,\n",
       "       4.04010000e+04, 8.28100000e+03, 1.26736000e+05, 2.59210000e+04,\n",
       "       1.71610000e+04, 4.03225000e+03, 3.73321000e+05, 1.69260100e+06,\n",
       "       4.76100000e+03, 2.22010000e+04, 1.29960000e+04, 1.10889000e+05,\n",
       "       1.06296100e+06, 2.40590250e+03, 3.84400000e+03, 2.88369000e+05,\n",
       "       2.56000000e+02, 9.02500000e-01, 6.81210000e+04, 4.84000000e+04,\n",
       "       2.26576000e+05, 7.58641000e+05, 1.56816000e+05, 2.59210000e+04,\n",
       "       7.92100000e+03, 9.67210000e+04, 2.60100000e+03, 4.38902500e+02,\n",
       "       2.11600000e+03, 8.10000000e+01, 3.64810000e+04, 4.48900000e+03,\n",
       "       2.52810000e+04, 2.50000000e-01, 6.56100000e+03, 5.33610000e+04,\n",
       "       4.41000000e+02, 1.05884100e+06, 1.29600000e+03, 1.33956000e+05,\n",
       "       2.75560000e+04, 1.60801000e+05, 4.04010000e+04, 2.51001000e+05,\n",
       "       2.43282006e+04, 1.29960000e+04, 1.60000000e+03, 1.16281000e+05,\n",
       "       3.13290000e+04, 1.33956000e+05, 1.00850705e+05, 1.35722500e+04,\n",
       "       4.95062500e+06, 7.10222500e+04, 3.45960000e+04, 2.85610000e+04,\n",
       "       5.92900000e+03, 2.50000000e+03, 7.34410000e+04, 9.39422500e+04,\n",
       "       4.41000000e+02, 9.12025000e+03, 2.46016000e+05, 1.22500000e+05,\n",
       "       5.33610000e+04, 8.11801000e+05, 1.84960000e+04, 1.29600000e+03,\n",
       "       7.77294400e+04, 7.61760000e+04, 1.02010000e+04, 3.03601000e+05,\n",
       "       1.89225000e+03, 1.46289025e+04, 2.12521000e+05, 8.10000000e+01,\n",
       "       1.98916000e+05, 9.02500000e+03, 3.96010000e+04, 1.15600000e+03,\n",
       "       1.45924000e+05, 2.59532100e+06, 4.20660100e+06, 7.56250000e+04,\n",
       "       3.27429025e+04, 4.91401000e+05, 9.31225000e+03, 5.78402500e+02,\n",
       "       5.33610000e+04, 6.24100000e+03, 2.60100000e+03, 2.28010000e+04,\n",
       "       2.70400000e+03, 2.39121000e+05, 2.60100000e+03, 4.04010000e+04,\n",
       "       1.12360000e+04, 7.32736000e+05, 1.96000000e+04, 4.90000000e+01,\n",
       "       7.11555625e+04, 4.21201000e+05, 3.16484100e+02, 5.76000000e+02,\n",
       "       6.56100000e+03, 2.37160000e+04, 4.17316000e+05, 1.16281000e+05,\n",
       "       3.88129000e+03, 1.34560000e+04, 5.76000000e+02, 1.66464000e+05,\n",
       "       7.92100000e+03, 1.28881000e+03, 1.90925303e+05, 3.73321000e+05,\n",
       "       5.04100000e+03, 6.48025000e+03, 4.22500000e+03, 4.33622250e+05,\n",
       "       3.08391409e+03, 1.29600000e+03, 4.24360000e+04, 1.56816000e+05,\n",
       "       3.84400000e+03, 4.66560000e+04, 4.23801000e+05, 7.89610000e+04,\n",
       "       7.22500000e+03, 4.91401000e+05, 9.67210000e+04, 1.47707562e+06,\n",
       "       9.70225000e+03, 5.33610000e+04, 1.90440000e+04, 1.12360000e+04,\n",
       "       4.35600000e+03, 5.11225000e+03, 3.61000000e+02, 1.81476000e+05,\n",
       "       9.21122500e+04, 5.77600000e+03, 3.70562500e+04, 8.17960000e+04,\n",
       "       1.60000000e+01, 4.04010000e+04, 1.02400000e+03, 1.46410000e+04,\n",
       "       3.53440000e+04, 2.29825600e+04, 1.69000000e+02, 5.42432250e+05,\n",
       "       7.89610000e+04, 3.61201000e+05, 1.03041000e+05, 1.93210000e+04,\n",
       "       8.10000000e+01, 1.53760000e+04, 2.19040000e+04, 4.45210000e+04,\n",
       "       5.58009000e+03, 1.23095723e+05, 6.76000000e+02, 3.61000000e+02,\n",
       "       1.35829102e+05, 2.28708715e+05, 4.62400000e+03, 1.51321000e+05,\n",
       "       1.78084000e+05, 3.45960000e+04, 2.59210000e+04, 6.56100000e+03,\n",
       "       2.59210000e+04, 3.31776000e+05, 7.05600000e+03, 2.17562500e+04,\n",
       "       1.39240000e+04, 6.76000000e+02, 1.73185600e+06, 7.07560000e+04,\n",
       "       1.15600000e+03, 7.10222500e+04, 1.00000000e+04, 2.22010000e+04,\n",
       "       8.83600000e+03, 7.61760000e+04, 1.69260100e+06, 1.46689000e+05,\n",
       "       4.35600000e+03, 8.83600000e+03, 3.60000000e+03, 2.22010000e+04,\n",
       "       1.96000000e+02, 4.20250000e+04, 7.02250000e+02, 3.61489538e+03,\n",
       "       5.94441000e+05, 2.07936000e+05, 1.45161000e+05, 1.20121600e+06,\n",
       "       1.06276000e+05, 3.92040000e+04, 4.78864000e+03, 6.76000000e+02,\n",
       "       9.06010000e+04, 2.86225000e+03, 3.20768100e+04, 1.96000000e+02,\n",
       "       2.49482025e+04, 5.80810000e+04, 7.39600000e+03, 8.19025000e+03,\n",
       "       2.41081000e+05, 6.76000000e+02, 1.71610000e+04, 5.77600000e+03,\n",
       "       4.98789062e+03, 3.19098453e+05, 4.00000000e+02, 3.45960000e+04,\n",
       "       3.64810000e+04, 1.41729025e+04, 1.52490250e+03, 4.09600000e+03,\n",
       "       3.01022500e+04, 9.89102500e+04, 1.85761000e+05, 2.43360000e+04,\n",
       "       2.98116000e+05, 4.90000000e+03, 1.85761000e+05, 3.91876000e+05,\n",
       "       2.58395322e+05, 1.68921000e+05, 3.45960000e+04, 4.04010000e+04,\n",
       "       4.09600000e+03, 3.25802500e+02, 2.51001000e+05, 6.74041000e+05,\n",
       "       6.30010000e+04, 2.62602025e+04, 7.89610000e+04, 9.92250000e+02,\n",
       "       8.10000000e+01, 2.40100000e+05, 4.28490000e+04, 2.40100000e+03,\n",
       "       3.34890000e+04, 1.46689000e+05, 3.44569000e+03, 2.56000000e+02,\n",
       "       6.61004100e+06, 3.27610000e+04, 1.10460100e+06, 4.50241000e+05,\n",
       "       4.55822500e+04, 2.40100000e+03, 2.41081000e+03, 8.12820100e+06,\n",
       "       6.30010000e+04, 1.93600000e+03, 3.68436860e+05, 1.48840000e+04,\n",
       "       3.91876000e+05, 4.35600000e+03, 1.56025000e+01, 2.40100000e+03,\n",
       "       2.63939062e+03, 1.19902500e+04, 3.37561000e+05, 1.23201000e+05,\n",
       "       5.92900000e+03, 1.00000000e+00, 9.00000000e+04, 4.57960000e+04])"
      ]
     },
     "execution_count": 207,
     "metadata": {},
     "output_type": "execute_result"
    }
   ],
   "source": [
    "price_squered_error = squared_errors(\n",
    "    initial_slope, initial_intercept, df.surface, df.price\n",
    ")\n",
    "price_squered_error"
   ]
  },
  {
   "cell_type": "markdown",
   "metadata": {},
   "source": [
    "💡 A general principle in Data Science / Modelling is that $ \\large error = f(y, \\hat{y})$ where:\n",
    "\n",
    "* $ \\large y$ is the real value\n",
    "* $ \\large \\hat{y} $ the predicted valute\n",
    "* $ \\large f$ is often called a **Loss Function** or a **Cost Function** \n",
    " "
   ]
  },
  {
   "cell_type": "markdown",
   "metadata": {},
   "source": [
    "#### (2.2.2) Mean Squared Errors (MSE)"
   ]
  },
  {
   "cell_type": "markdown",
   "metadata": {},
   "source": [
    "<u><b>Step 2</b></u>\n",
    "\n",
    "❓ Create the `mse` function which should return the mean of the array returned by the `squared_errors` function. ❓"
   ]
  },
  {
   "cell_type": "code",
   "execution_count": 208,
   "metadata": {},
   "outputs": [],
   "source": [
    "def mse(slope, intercept, surfaces, prices):\n",
    "    \"\"\"TO DO: Return the mean of the array contained in squared_errors as a float.\"\"\"\n",
    "    sqr_array = np.array([])\n",
    "    for surface in surfaces:\n",
    "        predicted_price = slope * surface + intercept\n",
    "\n",
    "    for price in prices:\n",
    "        squared_error = (price - predicted_price) ** 2\n",
    "        sqr_array = np.append(sqr_array, squared_error)\n",
    "\n",
    "    mean = sqr_array.mean()\n",
    "    return mean"
   ]
  },
  {
   "cell_type": "markdown",
   "metadata": {},
   "source": [
    "👉 In section _(2.1) Visual approach_, you visually tried to estimate the \"best line\", which consists in finding the best pair `(slope, intercept)`. \n",
    "\n",
    "❓Using this \"best pair\", compute the MSE of your estimator. ❓"
   ]
  },
  {
   "cell_type": "code",
   "execution_count": 226,
   "metadata": {
    "tags": []
   },
   "outputs": [
    {
     "name": "stdout",
     "output_type": "stream",
     "text": [
      "With slope = 0.3 and intercept = 100 the MSE = 165638.141642907.\n"
     ]
    }
   ],
   "source": [
    "initial_slope = 0.3\n",
    "initial_intercept = 100\n",
    "best_pair = mse(initial_slope, initial_intercept, df.surface, df.price)\n",
    "best_pair\n",
    "print(\n",
    "    \"With slope = {} and intercept = {} the MSE = {}.\".format(\n",
    "        initial_slope, initial_intercept, best_pair\n",
    "    )\n",
    ")"
   ]
  },
  {
   "cell_type": "markdown",
   "metadata": {},
   "source": [
    "### (2.3) Finding the best parameters"
   ]
  },
  {
   "cell_type": "markdown",
   "metadata": {},
   "source": [
    "👉 Keep playing with different values for `slope` and `intercept` and try to get the best fit by hand!  Notice how hard it is to optimize both parameters at the same time.\n",
    "\n",
    "\n",
    "👇 Follow the steps down below to get an idea of one potential approach:"
   ]
  },
  {
   "cell_type": "markdown",
   "metadata": {},
   "source": [
    "#### (2.3.1) Finding the `best slope`"
   ]
  },
  {
   "cell_type": "markdown",
   "metadata": {},
   "source": [
    "<b><i><u> Step 1 :</u></i></b>\n",
    "\n",
    "Start by fixing an  `initial_intercept` with your best estimate, then find a slope which approximately minimizes the function  `mse=f(slope)`"
   ]
  },
  {
   "cell_type": "code",
   "execution_count": 210,
   "metadata": {},
   "outputs": [],
   "source": [
    "# Define an initial_intercept, for instance, we may suppose there is always a small transaction fee even for very small flats?\n",
    "initial_intercept = 100\n"
   ]
  },
  {
   "cell_type": "code",
   "execution_count": 227,
   "metadata": {},
   "outputs": [
    {
     "data": {
      "text/plain": [
       "array([0.2  , 0.206, 0.212, 0.218, 0.224, 0.23 , 0.236, 0.242, 0.248,\n",
       "       0.254, 0.26 , 0.266, 0.272, 0.278, 0.284, 0.29 , 0.296, 0.302,\n",
       "       0.308, 0.314, 0.32 , 0.326, 0.332, 0.338, 0.344, 0.35 , 0.356,\n",
       "       0.362, 0.368, 0.374, 0.38 , 0.386, 0.392, 0.398, 0.404, 0.41 ,\n",
       "       0.416, 0.422, 0.428, 0.434, 0.44 , 0.446, 0.452, 0.458, 0.464,\n",
       "       0.47 , 0.476, 0.482, 0.488, 0.494, 0.5  , 0.506, 0.512, 0.518,\n",
       "       0.524, 0.53 , 0.536, 0.542, 0.548, 0.554, 0.56 , 0.566, 0.572,\n",
       "       0.578, 0.584, 0.59 , 0.596, 0.602, 0.608, 0.614, 0.62 , 0.626,\n",
       "       0.632, 0.638, 0.644, 0.65 , 0.656, 0.662, 0.668, 0.674, 0.68 ,\n",
       "       0.686, 0.692, 0.698, 0.704, 0.71 , 0.716, 0.722, 0.728, 0.734,\n",
       "       0.74 , 0.746, 0.752, 0.758, 0.764, 0.77 , 0.776, 0.782, 0.788,\n",
       "       0.794, 0.8  ])"
      ]
     },
     "execution_count": 227,
     "metadata": {},
     "output_type": "execute_result"
    }
   ],
   "source": [
    "# Create a range of 100 slopes which contains what you believe is the optimal slope (hint: np.linspace())\n",
    "slope_range = np.linspace(\n",
    "    0.2, 0.8, num=100 + 1, endpoint=True, retstep=False, dtype=None, axis=0\n",
    ")\n",
    "slope_range"
   ]
  },
  {
   "cell_type": "code",
   "execution_count": 228,
   "metadata": {},
   "outputs": [
    {
     "data": {
      "text/plain": [
       "[205418.849264907,\n",
       " 202643.46720758697,\n",
       " 199917.68595026695,\n",
       " 197241.50549294695,\n",
       " 194614.92583562696,\n",
       " 192037.946978307,\n",
       " 189510.56892098702,\n",
       " 187032.79166366695,\n",
       " 184604.615206347,\n",
       " 182226.039549027,\n",
       " 179897.06469170703,\n",
       " 177617.69063438702,\n",
       " 175387.91737706703,\n",
       " 173207.744919747,\n",
       " 171077.17326242698,\n",
       " 168996.202405107,\n",
       " 166964.83234778696,\n",
       " 164983.06309046698,\n",
       " 163050.894633147,\n",
       " 161168.326975827,\n",
       " 159335.36011850697,\n",
       " 157551.99406118697,\n",
       " 155818.22880386698,\n",
       " 154134.064346547,\n",
       " 152499.500689227,\n",
       " 150914.53783190702,\n",
       " 149379.17577458697,\n",
       " 147893.414517267,\n",
       " 146457.25405994698,\n",
       " 145070.69440262698,\n",
       " 143733.73554530702,\n",
       " 142446.377487987,\n",
       " 141208.620230667,\n",
       " 140020.463773347,\n",
       " 138881.90811602699,\n",
       " 137792.95325870698,\n",
       " 136753.599201387,\n",
       " 135763.845944067,\n",
       " 134823.69348674698,\n",
       " 133933.14182942698,\n",
       " 133092.190972107,\n",
       " 132300.840914787,\n",
       " 131559.09165746698,\n",
       " 130866.94320014698,\n",
       " 130224.39554282698,\n",
       " 129631.448685507,\n",
       " 129088.102628187,\n",
       " 128594.35737086702,\n",
       " 128150.212913547,\n",
       " 127755.669256227,\n",
       " 127410.72639890699,\n",
       " 127115.384341587,\n",
       " 126869.64308426701,\n",
       " 126673.50262694698,\n",
       " 126526.96296962701,\n",
       " 126430.024112307,\n",
       " 126382.68605498699,\n",
       " 126384.94879766698,\n",
       " 126436.812340347,\n",
       " 126538.27668302697,\n",
       " 126689.341825707,\n",
       " 126890.007768387,\n",
       " 127140.274511067,\n",
       " 127440.142053747,\n",
       " 127789.610396427,\n",
       " 128188.67953910699,\n",
       " 128637.349481787,\n",
       " 129135.62022446701,\n",
       " 129683.49176714702,\n",
       " 130280.96410982701,\n",
       " 130928.037252507,\n",
       " 131624.71119518703,\n",
       " 132370.98593786702,\n",
       " 133166.861480547,\n",
       " 134012.33782322702,\n",
       " 134907.41496590702,\n",
       " 135852.09290858704,\n",
       " 136846.37165126705,\n",
       " 137890.25119394704,\n",
       " 138983.731536627,\n",
       " 140126.812679307,\n",
       " 141319.49462198705,\n",
       " 142561.77736466704,\n",
       " 143853.66090734705,\n",
       " 145195.14525002707,\n",
       " 146586.23039270705,\n",
       " 148026.91633538704,\n",
       " 149517.20307806708,\n",
       " 151057.09062074704,\n",
       " 152646.57896342705,\n",
       " 154285.668106107,\n",
       " 155974.358048787,\n",
       " 157712.64879146699,\n",
       " 159500.540334147,\n",
       " 161338.03267682702,\n",
       " 163225.12581950703,\n",
       " 165161.819762187,\n",
       " 167148.11450486706,\n",
       " 169184.01004754705,\n",
       " 171269.50639022698,\n",
       " 173404.603532907]"
      ]
     },
     "execution_count": 228,
     "metadata": {},
     "output_type": "execute_result"
    }
   ],
   "source": [
    "# Create the list of MSEs for each slope value\n",
    "mses_slopes = []\n",
    "for slope in slope_range:\n",
    "    mean = mse(slope, initial_intercept, df.surface, df.price)\n",
    "    mses_slopes.append(mean)\n",
    "\n",
    "mses_slopes"
   ]
  },
  {
   "cell_type": "markdown",
   "metadata": {},
   "source": [
    "❓ Plot MSEs vs. slopes. Do you see a minimum ❓\n",
    "\n",
    "🙃 If not, try another range of slopes!"
   ]
  },
  {
   "cell_type": "code",
   "execution_count": 229,
   "metadata": {
    "tags": []
   },
   "outputs": [
    {
     "data": {
      "text/plain": [
       "Text(0.5, 0, 'slopes')"
      ]
     },
     "execution_count": 229,
     "metadata": {},
     "output_type": "execute_result"
    },
    {
     "data": {
      "image/png": "[encoded data removed]",
      "text/plain": [
       "<Figure size 432x288 with 1 Axes>"
      ]
     },
     "metadata": {
      "needs_background": "light"
     },
     "output_type": "display_data"
    }
   ],
   "source": [
    "plt.plot(slope_range, mses_slopes)\n",
    "plt.title(\"MSEs vs slopes\")\n",
    "plt.ylabel(\"MSEs\")\n",
    "plt.xlabel(\"slopes\")"
   ]
  },
  {
   "cell_type": "markdown",
   "metadata": {},
   "source": [
    "# ❓ Compute the minimum value of MSE for your `initial_intercept`, and the corresponding `slope_best` value ❓\n",
    "<br>\n",
    "<details>\n",
    "    <summary><i>Hint</i></summary>\n",
    "    \n",
    "Here you can use Python's built-in `.min()` function, as well as `List.index()` method\n",
    "    \n",
    "</details>"
   ]
  },
  {
   "cell_type": "code",
   "execution_count": 230,
   "metadata": {
    "tags": []
   },
   "outputs": [
    {
     "name": "stdout",
     "output_type": "stream",
     "text": [
      "The minimun value of MSE for best slope (0.536) and initial_intercept (100) equal to 172581.33391969957\n"
     ]
    }
   ],
   "source": [
    "MES_min = min(mses_slopes)\n",
    "slope_best = slope_range[mses_slopes.index(min(mses_slopes))]\n",
    "print(\n",
    "    \"The minimun value of MSE for best slope ({}) and initial_intercept ({}) equal to {}\".format(\n",
    "        slope_best, initial_intercept, MSE_min\n",
    "    )\n",
    ")"
   ]
  },
  {
   "cell_type": "markdown",
   "metadata": {},
   "source": [
    "#### (2.3.2) Finding the `best intercept`"
   ]
  },
  {
   "cell_type": "markdown",
   "metadata": {},
   "source": [
    "<b><i><u> Step 2 :</u></i></b>\n",
    "\n",
    "🔨 Let's now fix the slope to that `slope_best` value, then re-use the previous approach to find \"the\" `intercept_best`."
   ]
  },
  {
   "cell_type": "code",
   "execution_count": 231,
   "metadata": {},
   "outputs": [],
   "source": [
    "# Create a range of 100 intercepts which contains what you believe is the optimal intercept\n",
    "intercept_range = np.linspace(\n",
    "    50, 150, num=100 + 1, endpoint=True, retstep=False, dtype=None, axis=0\n",
    ")"
   ]
  },
  {
   "cell_type": "code",
   "execution_count": 232,
   "metadata": {},
   "outputs": [
    {
     "data": {
      "text/plain": [
       "[129108.96775498697,\n",
       " 129005.442120987,\n",
       " 128903.91648698699,\n",
       " 128804.390852987,\n",
       " 128706.86521898699,\n",
       " 128611.33958498698,\n",
       " 128517.81395098698,\n",
       " 128426.28831698697,\n",
       " 128336.76268298698,\n",
       " 128249.23704898698,\n",
       " 128163.71141498699,\n",
       " 128080.185780987,\n",
       " 127998.660146987,\n",
       " 127919.13451298699,\n",
       " 127841.608878987,\n",
       " 127766.08324498699,\n",
       " 127692.55761098699,\n",
       " 127621.031976987,\n",
       " 127551.506342987,\n",
       " 127483.980708987,\n",
       " 127418.455074987,\n",
       " 127354.92944098699,\n",
       " 127293.403806987,\n",
       " 127233.87817298698,\n",
       " 127176.35253898699,\n",
       " 127120.826904987,\n",
       " 127067.301270987,\n",
       " 127015.775636987,\n",
       " 126966.250002987,\n",
       " 126918.724368987,\n",
       " 126873.198734987,\n",
       " 126829.67310098698,\n",
       " 126788.14746698698,\n",
       " 126748.62183298697,\n",
       " 126711.09619898701,\n",
       " 126675.570564987,\n",
       " 126642.044930987,\n",
       " 126610.51929698698,\n",
       " 126580.993662987,\n",
       " 126553.468028987,\n",
       " 126527.942394987,\n",
       " 126504.41676098699,\n",
       " 126482.89112698699,\n",
       " 126463.36549298701,\n",
       " 126445.83985898699,\n",
       " 126430.31422498699,\n",
       " 126416.788590987,\n",
       " 126405.26295698699,\n",
       " 126395.73732298698,\n",
       " 126388.211688987,\n",
       " 126382.68605498699,\n",
       " 126379.16042098701,\n",
       " 126377.634786987,\n",
       " 126378.109152987,\n",
       " 126380.583518987,\n",
       " 126385.05788498699,\n",
       " 126391.53225098699,\n",
       " 126400.006616987,\n",
       " 126410.480982987,\n",
       " 126422.955348987,\n",
       " 126437.429714987,\n",
       " 126453.904080987,\n",
       " 126472.378446987,\n",
       " 126492.852812987,\n",
       " 126515.32717898699,\n",
       " 126539.801544987,\n",
       " 126566.275910987,\n",
       " 126594.750276987,\n",
       " 126625.22464298701,\n",
       " 126657.69900898701,\n",
       " 126692.173374987,\n",
       " 126728.647740987,\n",
       " 126767.122106987,\n",
       " 126807.596472987,\n",
       " 126850.07083898701,\n",
       " 126894.54520498701,\n",
       " 126941.01957098702,\n",
       " 126989.49393698701,\n",
       " 127039.968302987,\n",
       " 127092.442668987,\n",
       " 127146.917034987,\n",
       " 127203.39140098702,\n",
       " 127261.86576698702,\n",
       " 127322.34013298701,\n",
       " 127384.81449898702,\n",
       " 127449.28886498701,\n",
       " 127515.76323098701,\n",
       " 127584.237596987,\n",
       " 127654.711962987,\n",
       " 127727.18632898702,\n",
       " 127801.66069498702,\n",
       " 127878.13506098701,\n",
       " 127956.60942698702,\n",
       " 128037.08379298702,\n",
       " 128119.55815898701,\n",
       " 128204.03252498701,\n",
       " 128290.50689098699,\n",
       " 128378.98125698701,\n",
       " 128469.455622987,\n",
       " 128561.929988987,\n",
       " 128656.40435498701]"
      ]
     },
     "execution_count": 232,
     "metadata": {},
     "output_type": "execute_result"
    }
   ],
   "source": [
    "# Create the list of MSEs for each intercept value\n",
    "mses_intercept = []\n",
    "for intercept in intercept_range:\n",
    "    mean = mse(slope_best, intercept, df.surface, df.price)\n",
    "    mses_intercept.append(mean)\n",
    "mses_intercept\n"
   ]
  },
  {
   "cell_type": "code",
   "execution_count": 233,
   "metadata": {},
   "outputs": [
    {
     "data": {
      "text/plain": [
       "Text(0.5, 0, 'intercepts')"
      ]
     },
     "execution_count": 233,
     "metadata": {},
     "output_type": "execute_result"
    },
    {
     "data": {
      "image/png": "[encoded data removed]",
      "text/plain": [
       "<Figure size 432x288 with 1 Axes>"
      ]
     },
     "metadata": {
      "needs_background": "light"
     },
     "output_type": "display_data"
    }
   ],
   "source": [
    "# Plot MSEs against intercept. Do you see a minimum? If not, try another range of intercept!\n",
    "plt.plot(intercept_range, mses_intercept)\n",
    "plt.title(\"MSEs vs intercept\")\n",
    "plt.ylabel(\"MSEs\")\n",
    "plt.xlabel(\"intercepts\")"
   ]
  },
  {
   "cell_type": "markdown",
   "metadata": {},
   "source": [
    "❓ Compute `mse_min`, the minimum value of MSEs when slope is equal to `slope_best` best, and store the corresponding best intercept as `intercept_best` ❓\n"
   ]
  },
  {
   "cell_type": "code",
   "execution_count": 236,
   "metadata": {
    "tags": [
     "challengify"
    ]
   },
   "outputs": [
    {
     "name": "stdout",
     "output_type": "stream",
     "text": [
      "The minimun value of MSE for best slope (0.536) and best intercept (102.0) equal to 126377.634786987\n"
     ]
    }
   ],
   "source": [
    "mse_min = min(mses_intercept)\n",
    "intercept_best = intercept_range[mses_intercept.index(min(mses_intercept))]\n",
    "print(\n",
    "    \"The minimun value of MSE for best slope ({}) and best intercept ({}) equal to {}\".format(\n",
    "        slope_best, intercept_best, mse_min\n",
    "    )\n",
    ")"
   ]
  },
  {
   "cell_type": "markdown",
   "metadata": {},
   "source": [
    "🎉 **Great job**! By adding a non-zero intercept parameter, we have been able to reduce the MSE even more (Feel free to plot the regression line in your scatter plot to  confirm \"visually\" the approximate fit).\n",
    "\n",
    "❓ However, what guarantees that these (`intercept_best`, `slope_best`) parameters are really the best ones? "
   ]
  },
  {
   "cell_type": "code",
   "execution_count": 238,
   "metadata": {},
   "outputs": [
    {
     "data": {
      "text/plain": [
       "Text(0.5, 1.0, 'price vs surface and regression line')"
      ]
     },
     "execution_count": 238,
     "metadata": {},
     "output_type": "execute_result"
    },
    {
     "data": {
      "image/png": "[encoded data removed]",
      "text/plain": [
       "<Figure size 432x288 with 1 Axes>"
      ]
     },
     "metadata": {
      "needs_background": "light"
     },
     "output_type": "display_data"
    }
   ],
   "source": [
    "plot_surface = plt.scatter(df.surface, df.price)\n",
    "plt.xlabel(\"surface\")\n",
    "plt.ylabel(\"price\")\n",
    "plot_line(slope_best, intercept_best, df.surface)\n",
    "plt.title(\"price vs surface and regression line\")"
   ]
  },
  {
   "cell_type": "markdown",
   "metadata": {},
   "source": [
    "<details>\n",
    "    <summary><i>👀 Explanations</i></summary>\n",
    "    \n",
    "We could maybe find an even better slope value by repeating step ①, this time fixing intercept at `intercept_best`! And then repeat step ② with the new slope to adjust the intercept again...\n",
    "    \n",
    "In order to find the global minimum of a 2-parameter function RMSE = f(slope, intercept), we may have to repeat step ① and ② indefinitely until values converge towards absolute minimums - and with no guarantee of success.\n",
    "    \n",
    "<img src='https://wagon-public-datasets.s3.amazonaws.com/data-science-images/decision-science/real-estate-minimizer.png'>\n",
    "    \n",
    "💪 You've just discovered one of the most fundamental aspects of machine learning: **iterative process for finding mimina**.  \n",
    "\n",
    "👉 As you can guess, in the Data Scientist world, algorithms have been developed to automate and optimize such processes. In the next few weeks, you will discover the power of other algorithms such as **Gradient Descent**, and Python libaries such as `Stastmodels` that perform this iterative process for you. \n",
    "\n",
    "</details>\n",
    "\n"
   ]
  },
  {
   "cell_type": "markdown",
   "metadata": {},
   "source": [
    "👉 Run the cells below if you are curious and want to find the real best slope and intercept for this dataset, computed using **Gradient Descent** "
   ]
  },
  {
   "cell_type": "code",
   "execution_count": 221,
   "metadata": {},
   "outputs": [
    {
     "data": {
      "text/plain": [
       "<AxesSubplot:xlabel='surface', ylabel='price'>"
      ]
     },
     "execution_count": 221,
     "metadata": {},
     "output_type": "execute_result"
    },
    {
     "data": {
      "image/png": "[encoded data removed]",
      "text/plain": [
       "<Figure size 432x288 with 1 Axes>"
      ]
     },
     "metadata": {
      "needs_background": "light"
     },
     "output_type": "display_data"
    }
   ],
   "source": [
    "# plot the regression with seaborn\n",
    "sns.regplot(x=df.surface, y=df.price)\n"
   ]
  },
  {
   "cell_type": "code",
   "execution_count": 222,
   "metadata": {},
   "outputs": [
    {
     "data": {
      "text/html": [
       "<table class=\"simpletable\">\n",
       "<caption>OLS Regression Results</caption>\n",
       "<tr>\n",
       "  <th>Dep. Variable:</th>          <td>price</td>      <th>  R-squared (uncentered):</th>      <td>   0.862</td> \n",
       "</tr>\n",
       "<tr>\n",
       "  <th>Model:</th>                   <td>OLS</td>       <th>  Adj. R-squared (uncentered):</th> <td>   0.862</td> \n",
       "</tr>\n",
       "<tr>\n",
       "  <th>Method:</th>             <td>Least Squares</td>  <th>  F-statistic:       </th>          <td>   6246.</td> \n",
       "</tr>\n",
       "<tr>\n",
       "  <th>Date:</th>             <td>Tue, 08 Nov 2022</td> <th>  Prob (F-statistic):</th>           <td>  0.00</td>  \n",
       "</tr>\n",
       "<tr>\n",
       "  <th>Time:</th>                 <td>20:35:43</td>     <th>  Log-Likelihood:    </th>          <td> -6909.0</td> \n",
       "</tr>\n",
       "<tr>\n",
       "  <th>No. Observations:</th>      <td>  1000</td>      <th>  AIC:               </th>          <td>1.382e+04</td>\n",
       "</tr>\n",
       "<tr>\n",
       "  <th>Df Residuals:</th>          <td>   999</td>      <th>  BIC:               </th>          <td>1.382e+04</td>\n",
       "</tr>\n",
       "<tr>\n",
       "  <th>Df Model:</th>              <td>     1</td>      <th>                     </th>              <td> </td>    \n",
       "</tr>\n",
       "<tr>\n",
       "  <th>Covariance Type:</th>      <td>nonrobust</td>    <th>                     </th>              <td> </td>    \n",
       "</tr>\n",
       "</table>\n",
       "<table class=\"simpletable\">\n",
       "<tr>\n",
       "     <td></td>        <th>coef</th>     <th>std err</th>      <th>t</th>      <th>P>|t|</th>  <th>[0.025</th>    <th>0.975]</th>  \n",
       "</tr>\n",
       "<tr>\n",
       "  <th>surface</th> <td>    0.2606</td> <td>    0.003</td> <td>   79.035</td> <td> 0.000</td> <td>    0.254</td> <td>    0.267</td>\n",
       "</tr>\n",
       "</table>\n",
       "<table class=\"simpletable\">\n",
       "<tr>\n",
       "  <th>Omnibus:</th>       <td>569.903</td> <th>  Durbin-Watson:     </th> <td>   2.036</td>\n",
       "</tr>\n",
       "<tr>\n",
       "  <th>Prob(Omnibus):</th> <td> 0.000</td>  <th>  Jarque-Bera (JB):  </th> <td>7810.452</td>\n",
       "</tr>\n",
       "<tr>\n",
       "  <th>Skew:</th>          <td> 2.325</td>  <th>  Prob(JB):          </th> <td>    0.00</td>\n",
       "</tr>\n",
       "<tr>\n",
       "  <th>Kurtosis:</th>      <td>15.877</td>  <th>  Cond. No.          </th> <td>    1.00</td>\n",
       "</tr>\n",
       "</table><br/><br/>Notes:<br/>[1] R² is computed without centering (uncentered) since the model does not contain a constant.<br/>[2] Standard Errors assume that the covariance matrix of the errors is correctly specified."
      ],
      "text/plain": [
       "<class 'statsmodels.iolib.summary.Summary'>\n",
       "\"\"\"\n",
       "                                 OLS Regression Results                                \n",
       "=======================================================================================\n",
       "Dep. Variable:                  price   R-squared (uncentered):                   0.862\n",
       "Model:                            OLS   Adj. R-squared (uncentered):              0.862\n",
       "Method:                 Least Squares   F-statistic:                              6246.\n",
       "Date:                Tue, 08 Nov 2022   Prob (F-statistic):                        0.00\n",
       "Time:                        20:35:43   Log-Likelihood:                         -6909.0\n",
       "No. Observations:                1000   AIC:                                  1.382e+04\n",
       "Df Residuals:                     999   BIC:                                  1.382e+04\n",
       "Df Model:                           1                                                  \n",
       "Covariance Type:            nonrobust                                                  \n",
       "==============================================================================\n",
       "                 coef    std err          t      P>|t|      [0.025      0.975]\n",
       "------------------------------------------------------------------------------\n",
       "surface        0.2606      0.003     79.035      0.000       0.254       0.267\n",
       "==============================================================================\n",
       "Omnibus:                      569.903   Durbin-Watson:                   2.036\n",
       "Prob(Omnibus):                  0.000   Jarque-Bera (JB):             7810.452\n",
       "Skew:                           2.325   Prob(JB):                         0.00\n",
       "Kurtosis:                      15.877   Cond. No.                         1.00\n",
       "==============================================================================\n",
       "\n",
       "Notes:\n",
       "[1] R² is computed without centering (uncentered) since the model does not contain a constant.\n",
       "[2] Standard Errors assume that the covariance matrix of the errors is correctly specified.\n",
       "\"\"\""
      ]
     },
     "execution_count": 222,
     "metadata": {},
     "output_type": "execute_result"
    }
   ],
   "source": [
    "# do a regression ols using statsmodels, exact solution)!\n",
    "x = df.surface\n",
    "y = df.price\n",
    "model = sm.OLS(y, x)\n",
    "results = model.fit()\n",
    "results.summary()"
   ]
  },
  {
   "cell_type": "markdown",
   "metadata": {},
   "source": [
    "❓ Let's go back to our initial question: What is your new prediction for the 5th flat below? How does it compare with your initial prediction based only on 4 flats? \n",
    "\n",
    "- `surface`: 3000 $ft^2$\n",
    "- `bedrooms`: 5 \n",
    "- `floors`: 1"
   ]
  },
  {
   "cell_type": "code",
   "execution_count": 259,
   "metadata": {},
   "outputs": [
    {
     "name": "stdout",
     "output_type": "stream",
     "text": [
      "The predicted price for the new flat is 1710.0K\n"
     ]
    }
   ],
   "source": [
    "# compute predicted price (Remember that the real price is 750,000$)\n",
    "price = slope_best * 3000 + intercept_best\n",
    "print(\"The predicted price for the new flat is {}K\".format(price))"
   ]
  },
  {
   "cell_type": "markdown",
   "metadata": {},
   "source": [
    "☝️ It's better than our initial deterministic estimator based on only 4 flats, but obviously we are missing the information provided by the number of bedrooms and floors in this prediction!"
   ]
  },
  {
   "cell_type": "markdown",
   "metadata": {},
   "source": [
    "## (3) Estimator with _all features_ (surface, bedrooms, floors)?"
   ]
  },
  {
   "cell_type": "markdown",
   "metadata": {},
   "source": [
    "💡 A linear regression with three features (**Multivariate Linear Regression**) works the same way as with one feature, but instead of determining only 2 parameters to minimize RMSE (`intercept` and `slope`), we will need to find 4 parameters: $\\hat{\\theta}$ = (`intercept`, `slope_surface`, `slope_bedrooms`, `slope_floors`). \n",
    "\n",
    "----\n",
    "\n",
    "🗓 There will be a lecture fully dedicated to **Multivariate Linear Regression**\n",
    "\n",
    "----\n",
    "\n",
    "🗓 The same **Gradient Descent** iterative method is applicable, and you will code it yourself by hand later during the training session.\n",
    "\n",
    "👉 Meanwhile, feel free to run the cell below to see the final result of this multivariate regression:"
   ]
  },
  {
   "cell_type": "code",
   "execution_count": 274,
   "metadata": {},
   "outputs": [
    {
     "data": {
      "text/html": [
       "<table class=\"simpletable\">\n",
       "<caption>OLS Regression Results</caption>\n",
       "<tr>\n",
       "  <th>Dep. Variable:</th>          <td>price</td>      <th>  R-squared:         </th> <td>   0.542</td> \n",
       "</tr>\n",
       "<tr>\n",
       "  <th>Model:</th>                   <td>OLS</td>       <th>  Adj. R-squared:    </th> <td>   0.541</td> \n",
       "</tr>\n",
       "<tr>\n",
       "  <th>Method:</th>             <td>Least Squares</td>  <th>  F-statistic:       </th> <td>   393.4</td> \n",
       "</tr>\n",
       "<tr>\n",
       "  <th>Date:</th>             <td>Tue, 08 Nov 2022</td> <th>  Prob (F-statistic):</th> <td>1.74e-168</td>\n",
       "</tr>\n",
       "<tr>\n",
       "  <th>Time:</th>                 <td>21:30:22</td>     <th>  Log-Likelihood:    </th> <td> -6901.7</td> \n",
       "</tr>\n",
       "<tr>\n",
       "  <th>No. Observations:</th>      <td>  1000</td>      <th>  AIC:               </th> <td>1.381e+04</td>\n",
       "</tr>\n",
       "<tr>\n",
       "  <th>Df Residuals:</th>          <td>   996</td>      <th>  BIC:               </th> <td>1.383e+04</td>\n",
       "</tr>\n",
       "<tr>\n",
       "  <th>Df Model:</th>              <td>     3</td>      <th>                     </th>     <td> </td>    \n",
       "</tr>\n",
       "<tr>\n",
       "  <th>Covariance Type:</th>      <td>nonrobust</td>    <th>                     </th>     <td> </td>    \n",
       "</tr>\n",
       "</table>\n",
       "<table class=\"simpletable\">\n",
       "<tr>\n",
       "      <td></td>        <th>coef</th>     <th>std err</th>      <th>t</th>      <th>P>|t|</th>  <th>[0.025</th>    <th>0.975]</th>  \n",
       "</tr>\n",
       "<tr>\n",
       "  <th>const</th>    <td>   18.1549</td> <td>   28.400</td> <td>    0.639</td> <td> 0.523</td> <td>  -37.576</td> <td>   73.886</td>\n",
       "</tr>\n",
       "<tr>\n",
       "  <th>surface</th>  <td>    0.2870</td> <td>    0.009</td> <td>   30.682</td> <td> 0.000</td> <td>    0.269</td> <td>    0.305</td>\n",
       "</tr>\n",
       "<tr>\n",
       "  <th>bedrooms</th> <td>  -21.6236</td> <td>    6.367</td> <td>   -3.396</td> <td> 0.001</td> <td>  -34.119</td> <td>   -9.129</td>\n",
       "</tr>\n",
       "<tr>\n",
       "  <th>floors</th>   <td>   -3.8119</td> <td>   14.989</td> <td>   -0.254</td> <td> 0.799</td> <td>  -33.225</td> <td>   25.602</td>\n",
       "</tr>\n",
       "</table>\n",
       "<table class=\"simpletable\">\n",
       "<tr>\n",
       "  <th>Omnibus:</th>       <td>519.986</td> <th>  Durbin-Watson:     </th> <td>   2.047</td>\n",
       "</tr>\n",
       "<tr>\n",
       "  <th>Prob(Omnibus):</th> <td> 0.000</td>  <th>  Jarque-Bera (JB):  </th> <td>6113.074</td>\n",
       "</tr>\n",
       "<tr>\n",
       "  <th>Skew:</th>          <td> 2.107</td>  <th>  Prob(JB):          </th> <td>    0.00</td>\n",
       "</tr>\n",
       "<tr>\n",
       "  <th>Kurtosis:</th>      <td>14.356</td>  <th>  Cond. No.          </th> <td>9.17e+03</td>\n",
       "</tr>\n",
       "</table><br/><br/>Notes:<br/>[1] Standard Errors assume that the covariance matrix of the errors is correctly specified.<br/>[2] The condition number is large, 9.17e+03. This might indicate that there are<br/>strong multicollinearity or other numerical problems."
      ],
      "text/plain": [
       "<class 'statsmodels.iolib.summary.Summary'>\n",
       "\"\"\"\n",
       "                            OLS Regression Results                            \n",
       "==============================================================================\n",
       "Dep. Variable:                  price   R-squared:                       0.542\n",
       "Model:                            OLS   Adj. R-squared:                  0.541\n",
       "Method:                 Least Squares   F-statistic:                     393.4\n",
       "Date:                Tue, 08 Nov 2022   Prob (F-statistic):          1.74e-168\n",
       "Time:                        21:30:22   Log-Likelihood:                -6901.7\n",
       "No. Observations:                1000   AIC:                         1.381e+04\n",
       "Df Residuals:                     996   BIC:                         1.383e+04\n",
       "Df Model:                           3                                         \n",
       "Covariance Type:            nonrobust                                         \n",
       "==============================================================================\n",
       "                 coef    std err          t      P>|t|      [0.025      0.975]\n",
       "------------------------------------------------------------------------------\n",
       "const         18.1549     28.400      0.639      0.523     -37.576      73.886\n",
       "surface        0.2870      0.009     30.682      0.000       0.269       0.305\n",
       "bedrooms     -21.6236      6.367     -3.396      0.001     -34.119      -9.129\n",
       "floors        -3.8119     14.989     -0.254      0.799     -33.225      25.602\n",
       "==============================================================================\n",
       "Omnibus:                      519.986   Durbin-Watson:                   2.047\n",
       "Prob(Omnibus):                  0.000   Jarque-Bera (JB):             6113.074\n",
       "Skew:                           2.107   Prob(JB):                         0.00\n",
       "Kurtosis:                      14.356   Cond. No.                     9.17e+03\n",
       "==============================================================================\n",
       "\n",
       "Notes:\n",
       "[1] Standard Errors assume that the covariance matrix of the errors is correctly specified.\n",
       "[2] The condition number is large, 9.17e+03. This might indicate that there are\n",
       "strong multicollinearity or other numerical problems.\n",
       "\"\"\""
      ]
     },
     "execution_count": 274,
     "metadata": {},
     "output_type": "execute_result"
    }
   ],
   "source": [
    "# Find the four regression coefficients with statsmodels\n",
    "# method one\n",
    "x = df[[\"surface\", \"bedrooms\", \"floors\"]]\n",
    "x = sm.add_constant(x)\n",
    "y = df.price\n",
    "model = sm.OLS(y, x)\n",
    "result_1 = model.fit()\n",
    "result_1.summary()"
   ]
  },
  {
   "cell_type": "code",
   "execution_count": 270,
   "metadata": {},
   "outputs": [
    {
     "data": {
      "text/html": [
       "<table class=\"simpletable\">\n",
       "<caption>OLS Regression Results</caption>\n",
       "<tr>\n",
       "  <th>Dep. Variable:</th>          <td>price</td>      <th>  R-squared:         </th> <td>   0.542</td> \n",
       "</tr>\n",
       "<tr>\n",
       "  <th>Model:</th>                   <td>OLS</td>       <th>  Adj. R-squared:    </th> <td>   0.541</td> \n",
       "</tr>\n",
       "<tr>\n",
       "  <th>Method:</th>             <td>Least Squares</td>  <th>  F-statistic:       </th> <td>   393.4</td> \n",
       "</tr>\n",
       "<tr>\n",
       "  <th>Date:</th>             <td>Tue, 08 Nov 2022</td> <th>  Prob (F-statistic):</th> <td>1.74e-168</td>\n",
       "</tr>\n",
       "<tr>\n",
       "  <th>Time:</th>                 <td>21:27:40</td>     <th>  Log-Likelihood:    </th> <td> -6901.7</td> \n",
       "</tr>\n",
       "<tr>\n",
       "  <th>No. Observations:</th>      <td>  1000</td>      <th>  AIC:               </th> <td>1.381e+04</td>\n",
       "</tr>\n",
       "<tr>\n",
       "  <th>Df Residuals:</th>          <td>   996</td>      <th>  BIC:               </th> <td>1.383e+04</td>\n",
       "</tr>\n",
       "<tr>\n",
       "  <th>Df Model:</th>              <td>     3</td>      <th>                     </th>     <td> </td>    \n",
       "</tr>\n",
       "<tr>\n",
       "  <th>Covariance Type:</th>      <td>nonrobust</td>    <th>                     </th>     <td> </td>    \n",
       "</tr>\n",
       "</table>\n",
       "<table class=\"simpletable\">\n",
       "<tr>\n",
       "      <td></td>         <th>coef</th>     <th>std err</th>      <th>t</th>      <th>P>|t|</th>  <th>[0.025</th>    <th>0.975]</th>  \n",
       "</tr>\n",
       "<tr>\n",
       "  <th>Intercept</th> <td>   18.1549</td> <td>   28.400</td> <td>    0.639</td> <td> 0.523</td> <td>  -37.576</td> <td>   73.886</td>\n",
       "</tr>\n",
       "<tr>\n",
       "  <th>surface</th>   <td>    0.2870</td> <td>    0.009</td> <td>   30.682</td> <td> 0.000</td> <td>    0.269</td> <td>    0.305</td>\n",
       "</tr>\n",
       "<tr>\n",
       "  <th>bedrooms</th>  <td>  -21.6236</td> <td>    6.367</td> <td>   -3.396</td> <td> 0.001</td> <td>  -34.119</td> <td>   -9.129</td>\n",
       "</tr>\n",
       "<tr>\n",
       "  <th>floors</th>    <td>   -3.8119</td> <td>   14.989</td> <td>   -0.254</td> <td> 0.799</td> <td>  -33.225</td> <td>   25.602</td>\n",
       "</tr>\n",
       "</table>\n",
       "<table class=\"simpletable\">\n",
       "<tr>\n",
       "  <th>Omnibus:</th>       <td>519.986</td> <th>  Durbin-Watson:     </th> <td>   2.047</td>\n",
       "</tr>\n",
       "<tr>\n",
       "  <th>Prob(Omnibus):</th> <td> 0.000</td>  <th>  Jarque-Bera (JB):  </th> <td>6113.074</td>\n",
       "</tr>\n",
       "<tr>\n",
       "  <th>Skew:</th>          <td> 2.107</td>  <th>  Prob(JB):          </th> <td>    0.00</td>\n",
       "</tr>\n",
       "<tr>\n",
       "  <th>Kurtosis:</th>      <td>14.356</td>  <th>  Cond. No.          </th> <td>9.17e+03</td>\n",
       "</tr>\n",
       "</table><br/><br/>Notes:<br/>[1] Standard Errors assume that the covariance matrix of the errors is correctly specified.<br/>[2] The condition number is large, 9.17e+03. This might indicate that there are<br/>strong multicollinearity or other numerical problems."
      ],
      "text/plain": [
       "<class 'statsmodels.iolib.summary.Summary'>\n",
       "\"\"\"\n",
       "                            OLS Regression Results                            \n",
       "==============================================================================\n",
       "Dep. Variable:                  price   R-squared:                       0.542\n",
       "Model:                            OLS   Adj. R-squared:                  0.541\n",
       "Method:                 Least Squares   F-statistic:                     393.4\n",
       "Date:                Tue, 08 Nov 2022   Prob (F-statistic):          1.74e-168\n",
       "Time:                        21:27:40   Log-Likelihood:                -6901.7\n",
       "No. Observations:                1000   AIC:                         1.381e+04\n",
       "Df Residuals:                     996   BIC:                         1.383e+04\n",
       "Df Model:                           3                                         \n",
       "Covariance Type:            nonrobust                                         \n",
       "==============================================================================\n",
       "                 coef    std err          t      P>|t|      [0.025      0.975]\n",
       "------------------------------------------------------------------------------\n",
       "Intercept     18.1549     28.400      0.639      0.523     -37.576      73.886\n",
       "surface        0.2870      0.009     30.682      0.000       0.269       0.305\n",
       "bedrooms     -21.6236      6.367     -3.396      0.001     -34.119      -9.129\n",
       "floors        -3.8119     14.989     -0.254      0.799     -33.225      25.602\n",
       "==============================================================================\n",
       "Omnibus:                      519.986   Durbin-Watson:                   2.047\n",
       "Prob(Omnibus):                  0.000   Jarque-Bera (JB):             6113.074\n",
       "Skew:                           2.107   Prob(JB):                         0.00\n",
       "Kurtosis:                      14.356   Cond. No.                     9.17e+03\n",
       "==============================================================================\n",
       "\n",
       "Notes:\n",
       "[1] Standard Errors assume that the covariance matrix of the errors is correctly specified.\n",
       "[2] The condition number is large, 9.17e+03. This might indicate that there are\n",
       "strong multicollinearity or other numerical problems.\n",
       "\"\"\""
      ]
     },
     "execution_count": 270,
     "metadata": {},
     "output_type": "execute_result"
    }
   ],
   "source": [
    "# method two\n",
    "model = smf.ols(formula=\"price ~ surface + bedrooms + floors\", data=df)\n",
    "result = model.fit()\n",
    "result.summary()"
   ]
  },
  {
   "cell_type": "code",
   "execution_count": 271,
   "metadata": {
    "scrolled": true
   },
   "outputs": [
    {
     "data": {
      "text/plain": [
       "Intercept    18.154854\n",
       "surface       0.286953\n",
       "bedrooms    -21.623564\n",
       "floors       -3.811868\n",
       "dtype: float64"
      ]
     },
     "execution_count": 271,
     "metadata": {},
     "output_type": "execute_result"
    }
   ],
   "source": [
    "result.params\n"
   ]
  },
  {
   "cell_type": "markdown",
   "metadata": {},
   "source": [
    "🎉 Now that we have found the best parameters $\\theta = \\begin{bmatrix}\n",
    "     \\theta_0 \\\\\n",
    "     \\theta_1 \\\\\n",
    "    \\theta_2 \\\\\n",
    "     \\theta_3 \\\\\n",
    "\\end{bmatrix}_{4 \\times 1} = \n",
    "\\begin{bmatrix}\n",
    "     \\theta_{intercept} \\\\\n",
    "     \\theta_{surface}\\\\\n",
    "    \\theta_{bedrooms} \\\\\n",
    "     \\theta_{floors}\n",
    "\\end{bmatrix}_{4 \\times 1} = \n",
    "\\begin{bmatrix}\n",
    "    18.154854 \\\\\n",
    "    0.286953 \\\\\n",
    "    -21.623564 \\\\\n",
    "    -3.811868\n",
    "\\end{bmatrix}_{4 \\times 1}\n",
    "$, \n",
    "\n",
    "we can predict the price of the new flat with:\n",
    "* $3000 ft^2$\n",
    "* $5$ bedrooms\n",
    "* located on the $1st$ floor\n",
    "\n",
    "$$ \\hat{y_5} = \\theta_0 + \\theta_1 \\times 3000 + \\theta_2 \\times 5 + \\theta_3 \\times 1 $$"
   ]
  },
  {
   "cell_type": "code",
   "execution_count": 272,
   "metadata": {},
   "outputs": [
    {
     "name": "stdout",
     "output_type": "stream",
     "text": [
      "The predicted price for the new flat is 767.08K\n"
     ]
    }
   ],
   "source": [
    "# Compute the newly predicted price for the 5th flat? Is this prediction better?\n",
    "price = 18.154854 + 0.286953 * 3000 + -21.623564 * 5 + -3.811868 * 1\n",
    "print(\"The predicted price for the new flat is {}K\".format(round(price, 2)))"
   ]
  },
  {
   "cell_type": "markdown",
   "metadata": {},
   "source": [
    "## (4) Concluding remarks on Linear Algebra 🧠"
   ]
  },
  {
   "cell_type": "markdown",
   "metadata": {},
   "source": [
    "This **optimisation problem** can be summarized as follows\n",
    "\n",
    "- We need to find a vector of parameters $\\hat{\\theta} = \\begin{bmatrix}\n",
    "     \\theta_{intercept} \\\\\n",
    "     \\theta_{surface}\\\\\n",
    "    \\theta_{bedrooms} \\\\\n",
    "     \\theta_{floors}\n",
    "\\end{bmatrix}_{4 \\times 1}$ \n",
    "\n",
    "- That minimizes an error $e = \\left\\|X\\hat{\\theta} - Y \\right\\|^2$\n",
    "\n",
    "- For a given matrix of features $X$ [constant, surfaces, floors, bedrooms]  $\\begin{bmatrix}\n",
    "    1 & 620 & 1 & 1 \\\\\n",
    "    1 & 3280 & 4 & 2 \\\\\n",
    "    ... \\\\\n",
    "    1 & 1900 & 2 & 2 \\\\\n",
    "    1 & 1320 & 3 & 3\n",
    "   \\end{bmatrix}_{n \\times 4}\n",
    "$\n",
    "\n",
    "- and a vector of observations $Y = \\begin{bmatrix}\n",
    "           y_{1} \\\\\n",
    "           y_{2} \\\\\n",
    "           \\vdots \\\\\n",
    "           y_{1000}\n",
    "         \\end{bmatrix}$ (prices)\n",
    "\n",
    "Such minimum $\\large \\hat{\\theta}$ is reached when the \"derivatives\" of $e$, that is $ \\large 2 X^T(X\\hat{\\theta}−Y)$ equals zero (👉proof during the Regression Module). \n",
    "    \n",
    "In other words, we need to solve the linear system $\\large (X^T X)\\hat{\\theta}=X^TY$. \n",
    "    \n",
    "This linear has a unique solution provided that no column of X can be expressed as a linear combination of the others: in that case $ \\large (X^TX)^{-1}$ is invertible and the minimum is reached when $\\large \\hat{\\theta} = (X^TX)^{-1} X^T Y$. Notice how X does not need to be squared anymore compared to the first challenge 💪.\n",
    "\n",
    "💥 However, keep in mind that ***inverting matrices is computationally complex***. That is why other methods have been developed to find the minimum of a function, such as ***gradient descent***.\n",
    "    \n",
    "📚 Read more on [Stats.StackExchange](https://stats.stackexchange.com/a/278779) if you are interested!\n",
    "</details>\n"
   ]
  },
  {
   "cell_type": "markdown",
   "metadata": {},
   "source": [
    "🏁 Congratulations! \n",
    "\n",
    "💾 Don't forget to `save` your notebook!"
   ]
  }
 ],
 "metadata": {
  "kernelspec": {
   "display_name": "Python 3.9.12 ('base')",
   "language": "python",
   "name": "python3"
  },
  "language_info": {
   "codemirror_mode": {
    "name": "ipython",
    "version": 3
   },
   "file_extension": ".py",
   "mimetype": "text/x-python",
   "name": "python",
   "nbconvert_exporter": "python",
   "pygments_lexer": "ipython3",
   "version": "3.9.12"
  },
  "vscode": {
   "interpreter": {
    "hash": "cce956dd8b59511f520788cd9362dddc117670ac5ef39c9ede8ba85a43b854a0"
   }
  }
 },
 "nbformat": 4,
 "nbformat_minor": 4
}
